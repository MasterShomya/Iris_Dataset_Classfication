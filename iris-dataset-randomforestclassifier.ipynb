{
 "cells": [
  {
   "cell_type": "code",
   "execution_count": 1,
   "id": "52b3fb3e",
   "metadata": {
    "_cell_guid": "b1076dfc-b9ad-4769-8c92-a6c4dae69d19",
    "_uuid": "8f2839f25d086af736a60e9eeb907d3b93b6e0e5",
    "execution": {
     "iopub.execute_input": "2025-02-14T18:19:50.287672Z",
     "iopub.status.busy": "2025-02-14T18:19:50.287420Z",
     "iopub.status.idle": "2025-02-14T18:19:51.192706Z",
     "shell.execute_reply": "2025-02-14T18:19:51.191637Z"
    },
    "papermill": {
     "duration": 0.912438,
     "end_time": "2025-02-14T18:19:51.193963",
     "exception": false,
     "start_time": "2025-02-14T18:19:50.281525",
     "status": "completed"
    },
    "tags": []
   },
   "outputs": [
    {
     "name": "stdout",
     "output_type": "stream",
     "text": [
      "/kaggle/input/iris-dataset/Iris_dataset.csv\n"
     ]
    }
   ],
   "source": [
    "import numpy as np\n",
    "import pandas as pd\n",
    "import os\n",
    "for dirname, _, filenames in os.walk('/kaggle/input'):\n",
    "    for filename in filenames:\n",
    "        print(os.path.join(dirname, filename))"
   ]
  },
  {
   "cell_type": "markdown",
   "id": "5dd0b474",
   "metadata": {
    "papermill": {
     "duration": 0.003603,
     "end_time": "2025-02-14T18:19:51.202502",
     "exception": false,
     "start_time": "2025-02-14T18:19:51.198899",
     "status": "completed"
    },
    "tags": []
   },
   "source": [
    "# *Reading data*"
   ]
  },
  {
   "cell_type": "code",
   "execution_count": 2,
   "id": "ce9330f1",
   "metadata": {
    "execution": {
     "iopub.execute_input": "2025-02-14T18:19:51.211562Z",
     "iopub.status.busy": "2025-02-14T18:19:51.211074Z",
     "iopub.status.idle": "2025-02-14T18:19:51.248729Z",
     "shell.execute_reply": "2025-02-14T18:19:51.247670Z"
    },
    "papermill": {
     "duration": 0.043743,
     "end_time": "2025-02-14T18:19:51.250106",
     "exception": false,
     "start_time": "2025-02-14T18:19:51.206363",
     "status": "completed"
    },
    "tags": []
   },
   "outputs": [
    {
     "data": {
      "text/html": [
       "<div>\n",
       "<style scoped>\n",
       "    .dataframe tbody tr th:only-of-type {\n",
       "        vertical-align: middle;\n",
       "    }\n",
       "\n",
       "    .dataframe tbody tr th {\n",
       "        vertical-align: top;\n",
       "    }\n",
       "\n",
       "    .dataframe thead th {\n",
       "        text-align: right;\n",
       "    }\n",
       "</style>\n",
       "<table border=\"1\" class=\"dataframe\">\n",
       "  <thead>\n",
       "    <tr style=\"text-align: right;\">\n",
       "      <th></th>\n",
       "      <th>sepal length (cm)</th>\n",
       "      <th>sepal width (cm)</th>\n",
       "      <th>petal length (cm)</th>\n",
       "      <th>petal width (cm)</th>\n",
       "      <th>target</th>\n",
       "      <th>flower_name</th>\n",
       "    </tr>\n",
       "  </thead>\n",
       "  <tbody>\n",
       "    <tr>\n",
       "      <th>0</th>\n",
       "      <td>5.1</td>\n",
       "      <td>3.5</td>\n",
       "      <td>1.4</td>\n",
       "      <td>0.2</td>\n",
       "      <td>0</td>\n",
       "      <td>setosa</td>\n",
       "    </tr>\n",
       "    <tr>\n",
       "      <th>1</th>\n",
       "      <td>4.9</td>\n",
       "      <td>3.0</td>\n",
       "      <td>1.4</td>\n",
       "      <td>0.2</td>\n",
       "      <td>0</td>\n",
       "      <td>setosa</td>\n",
       "    </tr>\n",
       "    <tr>\n",
       "      <th>2</th>\n",
       "      <td>4.7</td>\n",
       "      <td>3.2</td>\n",
       "      <td>1.3</td>\n",
       "      <td>0.2</td>\n",
       "      <td>0</td>\n",
       "      <td>setosa</td>\n",
       "    </tr>\n",
       "    <tr>\n",
       "      <th>3</th>\n",
       "      <td>4.6</td>\n",
       "      <td>3.1</td>\n",
       "      <td>1.5</td>\n",
       "      <td>0.2</td>\n",
       "      <td>0</td>\n",
       "      <td>setosa</td>\n",
       "    </tr>\n",
       "    <tr>\n",
       "      <th>4</th>\n",
       "      <td>5.0</td>\n",
       "      <td>3.6</td>\n",
       "      <td>1.4</td>\n",
       "      <td>0.2</td>\n",
       "      <td>0</td>\n",
       "      <td>setosa</td>\n",
       "    </tr>\n",
       "  </tbody>\n",
       "</table>\n",
       "</div>"
      ],
      "text/plain": [
       "   sepal length (cm)  sepal width (cm)  petal length (cm)  petal width (cm)  \\\n",
       "0                5.1               3.5                1.4               0.2   \n",
       "1                4.9               3.0                1.4               0.2   \n",
       "2                4.7               3.2                1.3               0.2   \n",
       "3                4.6               3.1                1.5               0.2   \n",
       "4                5.0               3.6                1.4               0.2   \n",
       "\n",
       "   target flower_name  \n",
       "0       0      setosa  \n",
       "1       0      setosa  \n",
       "2       0      setosa  \n",
       "3       0      setosa  \n",
       "4       0      setosa  "
      ]
     },
     "execution_count": 2,
     "metadata": {},
     "output_type": "execute_result"
    }
   ],
   "source": [
    "df  = pd.read_csv('/kaggle/input/iris-dataset/Iris_dataset.csv')\n",
    "df.head()"
   ]
  },
  {
   "cell_type": "code",
   "execution_count": 3,
   "id": "39533555",
   "metadata": {
    "execution": {
     "iopub.execute_input": "2025-02-14T18:19:51.259354Z",
     "iopub.status.busy": "2025-02-14T18:19:51.259043Z",
     "iopub.status.idle": "2025-02-14T18:19:51.262050Z",
     "shell.execute_reply": "2025-02-14T18:19:51.261462Z"
    },
    "papermill": {
     "duration": 0.008682,
     "end_time": "2025-02-14T18:19:51.263114",
     "exception": false,
     "start_time": "2025-02-14T18:19:51.254432",
     "status": "completed"
    },
    "tags": []
   },
   "outputs": [],
   "source": [
    "import matplotlib.pyplot as plt"
   ]
  },
  {
   "cell_type": "markdown",
   "id": "6543a9cc",
   "metadata": {
    "papermill": {
     "duration": 0.003733,
     "end_time": "2025-02-14T18:19:51.271265",
     "exception": false,
     "start_time": "2025-02-14T18:19:51.267532",
     "status": "completed"
    },
    "tags": []
   },
   "source": [
    "# *Dataframes for different flowers*"
   ]
  },
  {
   "cell_type": "code",
   "execution_count": 4,
   "id": "fb15595b",
   "metadata": {
    "execution": {
     "iopub.execute_input": "2025-02-14T18:19:51.280464Z",
     "iopub.status.busy": "2025-02-14T18:19:51.280096Z",
     "iopub.status.idle": "2025-02-14T18:19:51.292753Z",
     "shell.execute_reply": "2025-02-14T18:19:51.291873Z"
    },
    "papermill": {
     "duration": 0.019119,
     "end_time": "2025-02-14T18:19:51.294436",
     "exception": false,
     "start_time": "2025-02-14T18:19:51.275317",
     "status": "completed"
    },
    "tags": []
   },
   "outputs": [],
   "source": [
    "df0 = df[df.target == 0]\n",
    "df1 = df[df.target == 1]\n",
    "df2 = df[df.target == 2]\n",
    "\n",
    "# target = 0 -> flower is setosa\n",
    "# target = 1 -> flower is versicolor\n",
    "# target = 2 -> flower is virginica"
   ]
  },
  {
   "cell_type": "markdown",
   "id": "93ff6887",
   "metadata": {
    "papermill": {
     "duration": 0.003748,
     "end_time": "2025-02-14T18:19:51.302577",
     "exception": false,
     "start_time": "2025-02-14T18:19:51.298829",
     "status": "completed"
    },
    "tags": []
   },
   "source": [
    "# *Data visualization*"
   ]
  },
  {
   "cell_type": "code",
   "execution_count": 5,
   "id": "0e815578",
   "metadata": {
    "execution": {
     "iopub.execute_input": "2025-02-14T18:19:51.311820Z",
     "iopub.status.busy": "2025-02-14T18:19:51.311510Z",
     "iopub.status.idle": "2025-02-14T18:19:51.562290Z",
     "shell.execute_reply": "2025-02-14T18:19:51.561140Z"
    },
    "papermill": {
     "duration": 0.256964,
     "end_time": "2025-02-14T18:19:51.563627",
     "exception": false,
     "start_time": "2025-02-14T18:19:51.306663",
     "status": "completed"
    },
    "tags": []
   },
   "outputs": [
    {
     "data": {
      "text/plain": [
       "Text(0, 0.5, 'width')"
      ]
     },
     "execution_count": 5,
     "metadata": {},
     "output_type": "execute_result"
    },
    {
     "data": {
      "image/png": "[encoded data removed]",
      "text/plain": [
       "<Figure size 640x480 with 1 Axes>"
      ]
     },
     "metadata": {},
     "output_type": "display_data"
    }
   ],
   "source": [
    "plt.scatter(df0['sepal length (cm)'],df0['sepal width (cm)'])\n",
    "plt.scatter(df1['sepal length (cm)'],df1['sepal width (cm)'])\n",
    "plt.xlabel('length')\n",
    "plt.ylabel('width')"
   ]
  },
  {
   "cell_type": "code",
   "execution_count": 6,
   "id": "6eeaf895",
   "metadata": {
    "execution": {
     "iopub.execute_input": "2025-02-14T18:19:51.573618Z",
     "iopub.status.busy": "2025-02-14T18:19:51.573313Z",
     "iopub.status.idle": "2025-02-14T18:19:51.715274Z",
     "shell.execute_reply": "2025-02-14T18:19:51.714274Z"
    },
    "papermill": {
     "duration": 0.148388,
     "end_time": "2025-02-14T18:19:51.716611",
     "exception": false,
     "start_time": "2025-02-14T18:19:51.568223",
     "status": "completed"
    },
    "tags": []
   },
   "outputs": [
    {
     "data": {
      "text/plain": [
       "Text(0, 0.5, 'width')"
      ]
     },
     "execution_count": 6,
     "metadata": {},
     "output_type": "execute_result"
    },
    {
     "data": {
      "image/png": "[encoded data removed]",
      "text/plain": [
       "<Figure size 640x480 with 1 Axes>"
      ]
     },
     "metadata": {},
     "output_type": "display_data"
    }
   ],
   "source": [
    "plt.scatter(df0['petal length (cm)'],df0['petal width (cm)'])\n",
    "plt.scatter(df1['petal length (cm)'],df1['petal width (cm)'])\n",
    "plt.xlabel('length')\n",
    "plt.ylabel('width')"
   ]
  },
  {
   "cell_type": "code",
   "execution_count": 7,
   "id": "a053f3eb",
   "metadata": {
    "execution": {
     "iopub.execute_input": "2025-02-14T18:19:51.727565Z",
     "iopub.status.busy": "2025-02-14T18:19:51.727201Z",
     "iopub.status.idle": "2025-02-14T18:19:51.882260Z",
     "shell.execute_reply": "2025-02-14T18:19:51.881343Z"
    },
    "papermill": {
     "duration": 0.162263,
     "end_time": "2025-02-14T18:19:51.883739",
     "exception": false,
     "start_time": "2025-02-14T18:19:51.721476",
     "status": "completed"
    },
    "tags": []
   },
   "outputs": [
    {
     "data": {
      "text/plain": [
       "Text(0, 0.5, 'width')"
      ]
     },
     "execution_count": 7,
     "metadata": {},
     "output_type": "execute_result"
    },
    {
     "data": {
      "image/png": "[encoded data removed]",
      "text/plain": [
       "<Figure size 640x480 with 1 Axes>"
      ]
     },
     "metadata": {},
     "output_type": "display_data"
    }
   ],
   "source": [
    "plt.scatter(df1['sepal length (cm)'],df1['sepal width (cm)'])\n",
    "plt.scatter(df2['sepal length (cm)'],df2['sepal width (cm)'])\n",
    "plt.xlabel('length')\n",
    "plt.ylabel('width')"
   ]
  },
  {
   "cell_type": "code",
   "execution_count": 8,
   "id": "de5ccc9e",
   "metadata": {
    "execution": {
     "iopub.execute_input": "2025-02-14T18:19:51.896084Z",
     "iopub.status.busy": "2025-02-14T18:19:51.895819Z",
     "iopub.status.idle": "2025-02-14T18:19:52.058394Z",
     "shell.execute_reply": "2025-02-14T18:19:52.057195Z"
    },
    "papermill": {
     "duration": 0.170199,
     "end_time": "2025-02-14T18:19:52.060023",
     "exception": false,
     "start_time": "2025-02-14T18:19:51.889824",
     "status": "completed"
    },
    "tags": []
   },
   "outputs": [
    {
     "data": {
      "text/plain": [
       "Text(0, 0.5, 'width')"
      ]
     },
     "execution_count": 8,
     "metadata": {},
     "output_type": "execute_result"
    },
    {
     "data": {
      "image/png": "[encoded data removed]",
      "text/plain": [
       "<Figure size 640x480 with 1 Axes>"
      ]
     },
     "metadata": {},
     "output_type": "display_data"
    }
   ],
   "source": [
    "plt.scatter(df1['petal length (cm)'],df1['petal width (cm)'])\n",
    "plt.scatter(df2['petal length (cm)'],df2['petal width (cm)'])\n",
    "plt.xlabel('length')\n",
    "plt.ylabel('width')"
   ]
  },
  {
   "cell_type": "markdown",
   "id": "af834602",
   "metadata": {
    "papermill": {
     "duration": 0.005374,
     "end_time": "2025-02-14T18:19:52.071548",
     "exception": false,
     "start_time": "2025-02-14T18:19:52.066174",
     "status": "completed"
    },
    "tags": []
   },
   "source": [
    "# *X & y for further splitting*"
   ]
  },
  {
   "cell_type": "code",
   "execution_count": 9,
   "id": "6bf0eca0",
   "metadata": {
    "execution": {
     "iopub.execute_input": "2025-02-14T18:19:52.083917Z",
     "iopub.status.busy": "2025-02-14T18:19:52.083666Z",
     "iopub.status.idle": "2025-02-14T18:19:52.093090Z",
     "shell.execute_reply": "2025-02-14T18:19:52.092320Z"
    },
    "papermill": {
     "duration": 0.017411,
     "end_time": "2025-02-14T18:19:52.094594",
     "exception": false,
     "start_time": "2025-02-14T18:19:52.077183",
     "status": "completed"
    },
    "tags": []
   },
   "outputs": [
    {
     "data": {
      "text/html": [
       "<div>\n",
       "<style scoped>\n",
       "    .dataframe tbody tr th:only-of-type {\n",
       "        vertical-align: middle;\n",
       "    }\n",
       "\n",
       "    .dataframe tbody tr th {\n",
       "        vertical-align: top;\n",
       "    }\n",
       "\n",
       "    .dataframe thead th {\n",
       "        text-align: right;\n",
       "    }\n",
       "</style>\n",
       "<table border=\"1\" class=\"dataframe\">\n",
       "  <thead>\n",
       "    <tr style=\"text-align: right;\">\n",
       "      <th></th>\n",
       "      <th>sepal length (cm)</th>\n",
       "      <th>sepal width (cm)</th>\n",
       "      <th>petal length (cm)</th>\n",
       "      <th>petal width (cm)</th>\n",
       "    </tr>\n",
       "  </thead>\n",
       "  <tbody>\n",
       "    <tr>\n",
       "      <th>0</th>\n",
       "      <td>5.1</td>\n",
       "      <td>3.5</td>\n",
       "      <td>1.4</td>\n",
       "      <td>0.2</td>\n",
       "    </tr>\n",
       "    <tr>\n",
       "      <th>1</th>\n",
       "      <td>4.9</td>\n",
       "      <td>3.0</td>\n",
       "      <td>1.4</td>\n",
       "      <td>0.2</td>\n",
       "    </tr>\n",
       "    <tr>\n",
       "      <th>2</th>\n",
       "      <td>4.7</td>\n",
       "      <td>3.2</td>\n",
       "      <td>1.3</td>\n",
       "      <td>0.2</td>\n",
       "    </tr>\n",
       "    <tr>\n",
       "      <th>3</th>\n",
       "      <td>4.6</td>\n",
       "      <td>3.1</td>\n",
       "      <td>1.5</td>\n",
       "      <td>0.2</td>\n",
       "    </tr>\n",
       "    <tr>\n",
       "      <th>4</th>\n",
       "      <td>5.0</td>\n",
       "      <td>3.6</td>\n",
       "      <td>1.4</td>\n",
       "      <td>0.2</td>\n",
       "    </tr>\n",
       "  </tbody>\n",
       "</table>\n",
       "</div>"
      ],
      "text/plain": [
       "   sepal length (cm)  sepal width (cm)  petal length (cm)  petal width (cm)\n",
       "0                5.1               3.5                1.4               0.2\n",
       "1                4.9               3.0                1.4               0.2\n",
       "2                4.7               3.2                1.3               0.2\n",
       "3                4.6               3.1                1.5               0.2\n",
       "4                5.0               3.6                1.4               0.2"
      ]
     },
     "execution_count": 9,
     "metadata": {},
     "output_type": "execute_result"
    }
   ],
   "source": [
    "X = df.drop(columns = ['target','flower_name'])\n",
    "X.head()"
   ]
  },
  {
   "cell_type": "code",
   "execution_count": 10,
   "id": "7648a5a3",
   "metadata": {
    "execution": {
     "iopub.execute_input": "2025-02-14T18:19:52.107620Z",
     "iopub.status.busy": "2025-02-14T18:19:52.107360Z",
     "iopub.status.idle": "2025-02-14T18:19:52.113268Z",
     "shell.execute_reply": "2025-02-14T18:19:52.112372Z"
    },
    "papermill": {
     "duration": 0.013718,
     "end_time": "2025-02-14T18:19:52.114422",
     "exception": false,
     "start_time": "2025-02-14T18:19:52.100704",
     "status": "completed"
    },
    "tags": []
   },
   "outputs": [
    {
     "data": {
      "text/plain": [
       "0    0\n",
       "1    0\n",
       "2    0\n",
       "3    0\n",
       "4    0\n",
       "Name: target, dtype: int64"
      ]
     },
     "execution_count": 10,
     "metadata": {},
     "output_type": "execute_result"
    }
   ],
   "source": [
    "y = df.target\n",
    "y.head()"
   ]
  },
  {
   "cell_type": "markdown",
   "id": "744c66ac",
   "metadata": {
    "papermill": {
     "duration": 0.005842,
     "end_time": "2025-02-14T18:19:52.126396",
     "exception": false,
     "start_time": "2025-02-14T18:19:52.120554",
     "status": "completed"
    },
    "tags": []
   },
   "source": [
    "# *Splitting dataset for training and testing*"
   ]
  },
  {
   "cell_type": "code",
   "execution_count": 11,
   "id": "28db56dc",
   "metadata": {
    "execution": {
     "iopub.execute_input": "2025-02-14T18:19:52.139113Z",
     "iopub.status.busy": "2025-02-14T18:19:52.138841Z",
     "iopub.status.idle": "2025-02-14T18:19:53.563387Z",
     "shell.execute_reply": "2025-02-14T18:19:53.562131Z"
    },
    "papermill": {
     "duration": 1.432824,
     "end_time": "2025-02-14T18:19:53.564983",
     "exception": false,
     "start_time": "2025-02-14T18:19:52.132159",
     "status": "completed"
    },
    "tags": []
   },
   "outputs": [],
   "source": [
    "from sklearn.model_selection import train_test_split"
   ]
  },
  {
   "cell_type": "code",
   "execution_count": 12,
   "id": "eb560e5f",
   "metadata": {
    "execution": {
     "iopub.execute_input": "2025-02-14T18:19:53.578922Z",
     "iopub.status.busy": "2025-02-14T18:19:53.578476Z",
     "iopub.status.idle": "2025-02-14T18:19:53.584160Z",
     "shell.execute_reply": "2025-02-14T18:19:53.583050Z"
    },
    "papermill": {
     "duration": 0.014572,
     "end_time": "2025-02-14T18:19:53.585922",
     "exception": false,
     "start_time": "2025-02-14T18:19:53.571350",
     "status": "completed"
    },
    "tags": []
   },
   "outputs": [],
   "source": [
    "X_train,X_test,y_train,y_test = train_test_split(X,y,test_size=0.2,random_state=42)"
   ]
  },
  {
   "cell_type": "code",
   "execution_count": 13,
   "id": "1c3b0dc0",
   "metadata": {
    "execution": {
     "iopub.execute_input": "2025-02-14T18:19:53.599552Z",
     "iopub.status.busy": "2025-02-14T18:19:53.599212Z",
     "iopub.status.idle": "2025-02-14T18:19:53.604046Z",
     "shell.execute_reply": "2025-02-14T18:19:53.603174Z"
    },
    "papermill": {
     "duration": 0.013035,
     "end_time": "2025-02-14T18:19:53.605359",
     "exception": false,
     "start_time": "2025-02-14T18:19:53.592324",
     "status": "completed"
    },
    "tags": []
   },
   "outputs": [
    {
     "data": {
      "text/plain": [
       "120"
      ]
     },
     "execution_count": 13,
     "metadata": {},
     "output_type": "execute_result"
    }
   ],
   "source": [
    "len(X_train)"
   ]
  },
  {
   "cell_type": "code",
   "execution_count": 14,
   "id": "bb08c034",
   "metadata": {
    "execution": {
     "iopub.execute_input": "2025-02-14T18:19:53.618426Z",
     "iopub.status.busy": "2025-02-14T18:19:53.618128Z",
     "iopub.status.idle": "2025-02-14T18:19:53.622663Z",
     "shell.execute_reply": "2025-02-14T18:19:53.621587Z"
    },
    "papermill": {
     "duration": 0.012374,
     "end_time": "2025-02-14T18:19:53.623770",
     "exception": false,
     "start_time": "2025-02-14T18:19:53.611396",
     "status": "completed"
    },
    "tags": []
   },
   "outputs": [
    {
     "data": {
      "text/plain": [
       "30"
      ]
     },
     "execution_count": 14,
     "metadata": {},
     "output_type": "execute_result"
    }
   ],
   "source": [
    "len(X_test)"
   ]
  },
  {
   "cell_type": "markdown",
   "id": "c2ee97d3",
   "metadata": {
    "papermill": {
     "duration": 0.005401,
     "end_time": "2025-02-14T18:19:53.635134",
     "exception": false,
     "start_time": "2025-02-14T18:19:53.629733",
     "status": "completed"
    },
    "tags": []
   },
   "source": [
    "# *Model training and testing*"
   ]
  },
  {
   "cell_type": "code",
   "execution_count": 15,
   "id": "f8a09453",
   "metadata": {
    "execution": {
     "iopub.execute_input": "2025-02-14T18:19:53.647766Z",
     "iopub.status.busy": "2025-02-14T18:19:53.647460Z",
     "iopub.status.idle": "2025-02-14T18:19:54.018576Z",
     "shell.execute_reply": "2025-02-14T18:19:54.017642Z"
    },
    "papermill": {
     "duration": 0.379562,
     "end_time": "2025-02-14T18:19:54.020318",
     "exception": false,
     "start_time": "2025-02-14T18:19:53.640756",
     "status": "completed"
    },
    "tags": []
   },
   "outputs": [],
   "source": [
    "from sklearn.ensemble import RandomForestClassifier"
   ]
  },
  {
   "cell_type": "code",
   "execution_count": 16,
   "id": "835b1613",
   "metadata": {
    "execution": {
     "iopub.execute_input": "2025-02-14T18:19:54.034599Z",
     "iopub.status.busy": "2025-02-14T18:19:54.034232Z",
     "iopub.status.idle": "2025-02-14T18:19:54.038017Z",
     "shell.execute_reply": "2025-02-14T18:19:54.037137Z"
    },
    "papermill": {
     "duration": 0.013093,
     "end_time": "2025-02-14T18:19:54.039881",
     "exception": false,
     "start_time": "2025-02-14T18:19:54.026788",
     "status": "completed"
    },
    "tags": []
   },
   "outputs": [],
   "source": [
    "model = RandomForestClassifier(n_estimators = 10,criterion='entropy')\n",
    "# n_estimators = 10 -> it is default number of trees in the forest here on 10 trees we got 100% accuracy so no need to fine tune by changing number of trees\n",
    "# criterion='entropy' -> it means the impurity is clasdified based on concept called entropy default is gini though on both the criterion mmodel is achieving 100% accuracy\n",
    "# for further trial - error you can change the testing data size \n",
    "# I would prefer to provide a external data for prediction to check how much accurate our model is on external data\n"
   ]
  },
  {
   "cell_type": "code",
   "execution_count": 17,
   "id": "c1bafbe5",
   "metadata": {
    "execution": {
     "iopub.execute_input": "2025-02-14T18:19:54.052909Z",
     "iopub.status.busy": "2025-02-14T18:19:54.052602Z",
     "iopub.status.idle": "2025-02-14T18:19:54.076111Z",
     "shell.execute_reply": "2025-02-14T18:19:54.075327Z"
    },
    "papermill": {
     "duration": 0.031047,
     "end_time": "2025-02-14T18:19:54.077157",
     "exception": false,
     "start_time": "2025-02-14T18:19:54.046110",
     "status": "completed"
    },
    "tags": []
   },
   "outputs": [
    {
     "data": {
      "text/html": [
       "<style>#sk-container-id-1 {color: black;background-color: white;}#sk-container-id-1 pre{padding: 0;}#sk-container-id-1 div.sk-toggleable {background-color: white;}#sk-container-id-1 label.sk-toggleable__label {cursor: pointer;display: block;width: 100%;margin-bottom: 0;padding: 0.3em;box-sizing: border-box;text-align: center;}#sk-container-id-1 label.sk-toggleable__label-arrow:before {content: \"▸\";float: left;margin-right: 0.25em;color: #696969;}#sk-container-id-1 label.sk-toggleable__label-arrow:hover:before {color: black;}#sk-container-id-1 div.sk-estimator:hover label.sk-toggleable__label-arrow:before {color: black;}#sk-container-id-1 div.sk-toggleable__content {max-height: 0;max-width: 0;overflow: hidden;text-align: left;background-color: #f0f8ff;}#sk-container-id-1 div.sk-toggleable__content pre {margin: 0.2em;color: black;border-radius: 0.25em;background-color: #f0f8ff;}#sk-container-id-1 input.sk-toggleable__control:checked~div.sk-toggleable__content {max-height: 200px;max-width: 100%;overflow: auto;}#sk-container-id-1 input.sk-toggleable__control:checked~label.sk-toggleable__label-arrow:before {content: \"▾\";}#sk-container-id-1 div.sk-estimator input.sk-toggleable__control:checked~label.sk-toggleable__label {background-color: #d4ebff;}#sk-container-id-1 div.sk-label input.sk-toggleable__control:checked~label.sk-toggleable__label {background-color: #d4ebff;}#sk-container-id-1 input.sk-hidden--visually {border: 0;clip: rect(1px 1px 1px 1px);clip: rect(1px, 1px, 1px, 1px);height: 1px;margin: -1px;overflow: hidden;padding: 0;position: absolute;width: 1px;}#sk-container-id-1 div.sk-estimator {font-family: monospace;background-color: #f0f8ff;border: 1px dotted black;border-radius: 0.25em;box-sizing: border-box;margin-bottom: 0.5em;}#sk-container-id-1 div.sk-estimator:hover {background-color: #d4ebff;}#sk-container-id-1 div.sk-parallel-item::after {content: \"\";width: 100%;border-bottom: 1px solid gray;flex-grow: 1;}#sk-container-id-1 div.sk-label:hover label.sk-toggleable__label {background-color: #d4ebff;}#sk-container-id-1 div.sk-serial::before {content: \"\";position: absolute;border-left: 1px solid gray;box-sizing: border-box;top: 0;bottom: 0;left: 50%;z-index: 0;}#sk-container-id-1 div.sk-serial {display: flex;flex-direction: column;align-items: center;background-color: white;padding-right: 0.2em;padding-left: 0.2em;position: relative;}#sk-container-id-1 div.sk-item {position: relative;z-index: 1;}#sk-container-id-1 div.sk-parallel {display: flex;align-items: stretch;justify-content: center;background-color: white;position: relative;}#sk-container-id-1 div.sk-item::before, #sk-container-id-1 div.sk-parallel-item::before {content: \"\";position: absolute;border-left: 1px solid gray;box-sizing: border-box;top: 0;bottom: 0;left: 50%;z-index: -1;}#sk-container-id-1 div.sk-parallel-item {display: flex;flex-direction: column;z-index: 1;position: relative;background-color: white;}#sk-container-id-1 div.sk-parallel-item:first-child::after {align-self: flex-end;width: 50%;}#sk-container-id-1 div.sk-parallel-item:last-child::after {align-self: flex-start;width: 50%;}#sk-container-id-1 div.sk-parallel-item:only-child::after {width: 0;}#sk-container-id-1 div.sk-dashed-wrapped {border: 1px dashed gray;margin: 0 0.4em 0.5em 0.4em;box-sizing: border-box;padding-bottom: 0.4em;background-color: white;}#sk-container-id-1 div.sk-label label {font-family: monospace;font-weight: bold;display: inline-block;line-height: 1.2em;}#sk-container-id-1 div.sk-label-container {text-align: center;}#sk-container-id-1 div.sk-container {/* jupyter's `normalize.less` sets `[hidden] { display: none; }` but bootstrap.min.css set `[hidden] { display: none !important; }` so we also need the `!important` here to be able to override the default hidden behavior on the sphinx rendered scikit-learn.org. See: https://github.com/scikit-learn/scikit-learn/issues/21755 */display: inline-block !important;position: relative;}#sk-container-id-1 div.sk-text-repr-fallback {display: none;}</style><div id=\"sk-container-id-1\" class=\"sk-top-container\"><div class=\"sk-text-repr-fallback\"><pre>RandomForestClassifier(criterion=&#x27;entropy&#x27;, n_estimators=10)</pre><b>In a Jupyter environment, please rerun this cell to show the HTML representation or trust the notebook. <br />On GitHub, the HTML representation is unable to render, please try loading this page with nbviewer.org.</b></div><div class=\"sk-container\" hidden><div class=\"sk-item\"><div class=\"sk-estimator sk-toggleable\"><input class=\"sk-toggleable__control sk-hidden--visually\" id=\"sk-estimator-id-1\" type=\"checkbox\" checked><label for=\"sk-estimator-id-1\" class=\"sk-toggleable__label sk-toggleable__label-arrow\">RandomForestClassifier</label><div class=\"sk-toggleable__content\"><pre>RandomForestClassifier(criterion=&#x27;entropy&#x27;, n_estimators=10)</pre></div></div></div></div></div>"
      ],
      "text/plain": [
       "RandomForestClassifier(criterion='entropy', n_estimators=10)"
      ]
     },
     "execution_count": 17,
     "metadata": {},
     "output_type": "execute_result"
    }
   ],
   "source": [
    "model.fit(X_train,y_train)"
   ]
  },
  {
   "cell_type": "code",
   "execution_count": 18,
   "id": "4bab7f1a",
   "metadata": {
    "execution": {
     "iopub.execute_input": "2025-02-14T18:19:54.092141Z",
     "iopub.status.busy": "2025-02-14T18:19:54.091782Z",
     "iopub.status.idle": "2025-02-14T18:19:54.098698Z",
     "shell.execute_reply": "2025-02-14T18:19:54.097523Z"
    },
    "papermill": {
     "duration": 0.016699,
     "end_time": "2025-02-14T18:19:54.100432",
     "exception": false,
     "start_time": "2025-02-14T18:19:54.083733",
     "status": "completed"
    },
    "tags": []
   },
   "outputs": [],
   "source": [
    "y_pred = model.predict(X_test)"
   ]
  },
  {
   "cell_type": "markdown",
   "id": "e65cf41f",
   "metadata": {
    "papermill": {
     "duration": 0.006241,
     "end_time": "2025-02-14T18:19:54.114611",
     "exception": false,
     "start_time": "2025-02-14T18:19:54.108370",
     "status": "completed"
    },
    "tags": []
   },
   "source": [
    "# *Model Accuracy*"
   ]
  },
  {
   "cell_type": "code",
   "execution_count": 19,
   "id": "69e782bc",
   "metadata": {
    "execution": {
     "iopub.execute_input": "2025-02-14T18:19:54.135026Z",
     "iopub.status.busy": "2025-02-14T18:19:54.134747Z",
     "iopub.status.idle": "2025-02-14T18:19:54.142044Z",
     "shell.execute_reply": "2025-02-14T18:19:54.141314Z"
    },
    "papermill": {
     "duration": 0.019243,
     "end_time": "2025-02-14T18:19:54.143276",
     "exception": false,
     "start_time": "2025-02-14T18:19:54.124033",
     "status": "completed"
    },
    "tags": []
   },
   "outputs": [
    {
     "data": {
      "text/plain": [
       "1.0"
      ]
     },
     "execution_count": 19,
     "metadata": {},
     "output_type": "execute_result"
    }
   ],
   "source": [
    "model.score(X_test,y_test)"
   ]
  },
  {
   "cell_type": "markdown",
   "id": "aab0451f",
   "metadata": {
    "papermill": {
     "duration": 0.010563,
     "end_time": "2025-02-14T18:19:54.163942",
     "exception": false,
     "start_time": "2025-02-14T18:19:54.153379",
     "status": "completed"
    },
    "tags": []
   },
   "source": [
    "# *Confusion Matrix analysis*"
   ]
  },
  {
   "cell_type": "code",
   "execution_count": 20,
   "id": "5937047e",
   "metadata": {
    "execution": {
     "iopub.execute_input": "2025-02-14T18:19:54.184448Z",
     "iopub.status.busy": "2025-02-14T18:19:54.184086Z",
     "iopub.status.idle": "2025-02-14T18:19:54.187561Z",
     "shell.execute_reply": "2025-02-14T18:19:54.186753Z"
    },
    "papermill": {
     "duration": 0.015413,
     "end_time": "2025-02-14T18:19:54.188873",
     "exception": false,
     "start_time": "2025-02-14T18:19:54.173460",
     "status": "completed"
    },
    "tags": []
   },
   "outputs": [],
   "source": [
    "from sklearn.metrics import confusion_matrix"
   ]
  },
  {
   "cell_type": "code",
   "execution_count": 21,
   "id": "b59d0af9",
   "metadata": {
    "execution": {
     "iopub.execute_input": "2025-02-14T18:19:54.202369Z",
     "iopub.status.busy": "2025-02-14T18:19:54.202019Z",
     "iopub.status.idle": "2025-02-14T18:19:54.208799Z",
     "shell.execute_reply": "2025-02-14T18:19:54.207777Z"
    },
    "papermill": {
     "duration": 0.014892,
     "end_time": "2025-02-14T18:19:54.210109",
     "exception": false,
     "start_time": "2025-02-14T18:19:54.195217",
     "status": "completed"
    },
    "tags": []
   },
   "outputs": [
    {
     "data": {
      "text/plain": [
       "array([[10,  0,  0],\n",
       "       [ 0,  9,  0],\n",
       "       [ 0,  0, 11]])"
      ]
     },
     "execution_count": 21,
     "metadata": {},
     "output_type": "execute_result"
    }
   ],
   "source": [
    "cm = confusion_matrix(y_test,y_pred)\n",
    "cm"
   ]
  },
  {
   "cell_type": "code",
   "execution_count": 22,
   "id": "c469add8",
   "metadata": {
    "execution": {
     "iopub.execute_input": "2025-02-14T18:19:54.229974Z",
     "iopub.status.busy": "2025-02-14T18:19:54.229703Z",
     "iopub.status.idle": "2025-02-14T18:19:54.959301Z",
     "shell.execute_reply": "2025-02-14T18:19:54.958536Z"
    },
    "papermill": {
     "duration": 0.740165,
     "end_time": "2025-02-14T18:19:54.960539",
     "exception": false,
     "start_time": "2025-02-14T18:19:54.220374",
     "status": "completed"
    },
    "tags": []
   },
   "outputs": [
    {
     "data": {
      "text/plain": [
       "Text(50.722222222222214, 0.5, 'Truth')"
      ]
     },
     "execution_count": 22,
     "metadata": {},
     "output_type": "execute_result"
    },
    {
     "data": {
      "image/png": "[encoded data removed]",
      "text/plain": [
       "<Figure size 640x480 with 2 Axes>"
      ]
     },
     "metadata": {},
     "output_type": "display_data"
    }
   ],
   "source": [
    "import seaborn as sns\n",
    "sns.heatmap(cm,annot=True,cmap='coolwarm',linewidths=2)\n",
    "plt.xlabel('Predicted')\n",
    "plt.ylabel('Truth')"
   ]
  }
 ],
 "metadata": {
  "kaggle": {
   "accelerator": "none",
   "dataSources": [
    {
     "datasetId": 6662172,
     "sourceId": 10743158,
     "sourceType": "datasetVersion"
    }
   ],
   "dockerImageVersionId": 30886,
   "isGpuEnabled": false,
   "isInternetEnabled": true,
   "language": "python",
   "sourceType": "notebook"
  },
  "kernelspec": {
   "display_name": "Python 3",
   "language": "python",
   "name": "python3"
  },
  "language_info": {
   "codemirror_mode": {
    "name": "ipython",
    "version": 3
   },
   "file_extension": ".py",
   "mimetype": "text/x-python",
   "name": "python",
   "nbconvert_exporter": "python",
   "pygments_lexer": "ipython3",
   "version": "3.10.12"
  },
  "papermill": {
   "default_parameters": {},
   "duration": 7.51338,
   "end_time": "2025-02-14T18:19:55.686723",
   "environment_variables": {},
   "exception": null,
   "input_path": "__notebook__.ipynb",
   "output_path": "__notebook__.ipynb",
   "parameters": {},
   "start_time": "2025-02-14T18:19:48.173343",
   "version": "2.6.0"
  }
 },
 "nbformat": 4,
 "nbformat_minor": 5
}
