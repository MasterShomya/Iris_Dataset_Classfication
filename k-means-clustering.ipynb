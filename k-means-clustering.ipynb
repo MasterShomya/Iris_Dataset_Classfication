{
 "cells": [
  {
   "cell_type": "markdown",
   "id": "03e3b84e",
   "metadata": {
    "papermill": {
     "duration": 0.00581,
     "end_time": "2025-02-19T16:38:42.658418",
     "exception": false,
     "start_time": "2025-02-19T16:38:42.652608",
     "status": "completed"
    },
    "tags": []
   },
   "source": [
    "# *Importing Required Libraries*"
   ]
  },
  {
   "cell_type": "code",
   "execution_count": 1,
   "id": "db5808ab",
   "metadata": {
    "execution": {
     "iopub.execute_input": "2025-02-19T16:38:42.670021Z",
     "iopub.status.busy": "2025-02-19T16:38:42.669667Z",
     "iopub.status.idle": "2025-02-19T16:38:45.374172Z",
     "shell.execute_reply": "2025-02-19T16:38:45.372848Z"
    },
    "papermill": {
     "duration": 2.712769,
     "end_time": "2025-02-19T16:38:45.376412",
     "exception": false,
     "start_time": "2025-02-19T16:38:42.663643",
     "status": "completed"
    },
    "tags": []
   },
   "outputs": [
    {
     "name": "stdout",
     "output_type": "stream",
     "text": [
      "/kaggle/input/iris-dataset/Iris_dataset.csv\n"
     ]
    }
   ],
   "source": [
    "import numpy as np\n",
    "import pandas as pd\n",
    "import matplotlib.pyplot as plt\n",
    "from sklearn.cluster import KMeans\n",
    "from sklearn.preprocessing import StandardScaler\n",
    "import os\n",
    "for dirname, _, filenames in os.walk('/kaggle/input'):\n",
    "    for filename in filenames:\n",
    "        print(os.path.join(dirname, filename))"
   ]
  },
  {
   "cell_type": "markdown",
   "id": "6ed83fa7",
   "metadata": {
    "papermill": {
     "duration": 0.008993,
     "end_time": "2025-02-19T16:38:45.395017",
     "exception": false,
     "start_time": "2025-02-19T16:38:45.386024",
     "status": "completed"
    },
    "tags": []
   },
   "source": [
    "# *Reading the file*"
   ]
  },
  {
   "cell_type": "code",
   "execution_count": 2,
   "id": "8906d9c6",
   "metadata": {
    "execution": {
     "iopub.execute_input": "2025-02-19T16:38:45.407294Z",
     "iopub.status.busy": "2025-02-19T16:38:45.406667Z",
     "iopub.status.idle": "2025-02-19T16:38:45.443095Z",
     "shell.execute_reply": "2025-02-19T16:38:45.441953Z"
    },
    "papermill": {
     "duration": 0.044742,
     "end_time": "2025-02-19T16:38:45.445449",
     "exception": false,
     "start_time": "2025-02-19T16:38:45.400707",
     "status": "completed"
    },
    "tags": []
   },
   "outputs": [
    {
     "data": {
      "text/html": [
       "<div>\n",
       "<style scoped>\n",
       "    .dataframe tbody tr th:only-of-type {\n",
       "        vertical-align: middle;\n",
       "    }\n",
       "\n",
       "    .dataframe tbody tr th {\n",
       "        vertical-align: top;\n",
       "    }\n",
       "\n",
       "    .dataframe thead th {\n",
       "        text-align: right;\n",
       "    }\n",
       "</style>\n",
       "<table border=\"1\" class=\"dataframe\">\n",
       "  <thead>\n",
       "    <tr style=\"text-align: right;\">\n",
       "      <th></th>\n",
       "      <th>sepal length (cm)</th>\n",
       "      <th>sepal width (cm)</th>\n",
       "      <th>petal length (cm)</th>\n",
       "      <th>petal width (cm)</th>\n",
       "      <th>target</th>\n",
       "      <th>flower_name</th>\n",
       "    </tr>\n",
       "  </thead>\n",
       "  <tbody>\n",
       "    <tr>\n",
       "      <th>0</th>\n",
       "      <td>5.1</td>\n",
       "      <td>3.5</td>\n",
       "      <td>1.4</td>\n",
       "      <td>0.2</td>\n",
       "      <td>0</td>\n",
       "      <td>setosa</td>\n",
       "    </tr>\n",
       "    <tr>\n",
       "      <th>1</th>\n",
       "      <td>4.9</td>\n",
       "      <td>3.0</td>\n",
       "      <td>1.4</td>\n",
       "      <td>0.2</td>\n",
       "      <td>0</td>\n",
       "      <td>setosa</td>\n",
       "    </tr>\n",
       "    <tr>\n",
       "      <th>2</th>\n",
       "      <td>4.7</td>\n",
       "      <td>3.2</td>\n",
       "      <td>1.3</td>\n",
       "      <td>0.2</td>\n",
       "      <td>0</td>\n",
       "      <td>setosa</td>\n",
       "    </tr>\n",
       "    <tr>\n",
       "      <th>3</th>\n",
       "      <td>4.6</td>\n",
       "      <td>3.1</td>\n",
       "      <td>1.5</td>\n",
       "      <td>0.2</td>\n",
       "      <td>0</td>\n",
       "      <td>setosa</td>\n",
       "    </tr>\n",
       "    <tr>\n",
       "      <th>4</th>\n",
       "      <td>5.0</td>\n",
       "      <td>3.6</td>\n",
       "      <td>1.4</td>\n",
       "      <td>0.2</td>\n",
       "      <td>0</td>\n",
       "      <td>setosa</td>\n",
       "    </tr>\n",
       "  </tbody>\n",
       "</table>\n",
       "</div>"
      ],
      "text/plain": [
       "   sepal length (cm)  sepal width (cm)  petal length (cm)  petal width (cm)  \\\n",
       "0                5.1               3.5                1.4               0.2   \n",
       "1                4.9               3.0                1.4               0.2   \n",
       "2                4.7               3.2                1.3               0.2   \n",
       "3                4.6               3.1                1.5               0.2   \n",
       "4                5.0               3.6                1.4               0.2   \n",
       "\n",
       "   target flower_name  \n",
       "0       0      setosa  \n",
       "1       0      setosa  \n",
       "2       0      setosa  \n",
       "3       0      setosa  \n",
       "4       0      setosa  "
      ]
     },
     "execution_count": 2,
     "metadata": {},
     "output_type": "execute_result"
    }
   ],
   "source": [
    "df = pd.read_csv('/kaggle/input/iris-dataset/Iris_dataset.csv')\n",
    "df.head()"
   ]
  },
  {
   "cell_type": "code",
   "execution_count": 3,
   "id": "12b8a8a1",
   "metadata": {
    "execution": {
     "iopub.execute_input": "2025-02-19T16:38:45.457775Z",
     "iopub.status.busy": "2025-02-19T16:38:45.457418Z",
     "iopub.status.idle": "2025-02-19T16:38:45.473483Z",
     "shell.execute_reply": "2025-02-19T16:38:45.472461Z"
    },
    "papermill": {
     "duration": 0.023767,
     "end_time": "2025-02-19T16:38:45.475186",
     "exception": false,
     "start_time": "2025-02-19T16:38:45.451419",
     "status": "completed"
    },
    "tags": []
   },
   "outputs": [
    {
     "data": {
      "text/html": [
       "<div>\n",
       "<style scoped>\n",
       "    .dataframe tbody tr th:only-of-type {\n",
       "        vertical-align: middle;\n",
       "    }\n",
       "\n",
       "    .dataframe tbody tr th {\n",
       "        vertical-align: top;\n",
       "    }\n",
       "\n",
       "    .dataframe thead th {\n",
       "        text-align: right;\n",
       "    }\n",
       "</style>\n",
       "<table border=\"1\" class=\"dataframe\">\n",
       "  <thead>\n",
       "    <tr style=\"text-align: right;\">\n",
       "      <th></th>\n",
       "      <th>sepal length (cm)</th>\n",
       "      <th>sepal width (cm)</th>\n",
       "      <th>petal length (cm)</th>\n",
       "      <th>petal width (cm)</th>\n",
       "    </tr>\n",
       "  </thead>\n",
       "  <tbody>\n",
       "    <tr>\n",
       "      <th>0</th>\n",
       "      <td>5.1</td>\n",
       "      <td>3.5</td>\n",
       "      <td>1.4</td>\n",
       "      <td>0.2</td>\n",
       "    </tr>\n",
       "    <tr>\n",
       "      <th>1</th>\n",
       "      <td>4.9</td>\n",
       "      <td>3.0</td>\n",
       "      <td>1.4</td>\n",
       "      <td>0.2</td>\n",
       "    </tr>\n",
       "    <tr>\n",
       "      <th>2</th>\n",
       "      <td>4.7</td>\n",
       "      <td>3.2</td>\n",
       "      <td>1.3</td>\n",
       "      <td>0.2</td>\n",
       "    </tr>\n",
       "    <tr>\n",
       "      <th>3</th>\n",
       "      <td>4.6</td>\n",
       "      <td>3.1</td>\n",
       "      <td>1.5</td>\n",
       "      <td>0.2</td>\n",
       "    </tr>\n",
       "    <tr>\n",
       "      <th>4</th>\n",
       "      <td>5.0</td>\n",
       "      <td>3.6</td>\n",
       "      <td>1.4</td>\n",
       "      <td>0.2</td>\n",
       "    </tr>\n",
       "  </tbody>\n",
       "</table>\n",
       "</div>"
      ],
      "text/plain": [
       "   sepal length (cm)  sepal width (cm)  petal length (cm)  petal width (cm)\n",
       "0                5.1               3.5                1.4               0.2\n",
       "1                4.9               3.0                1.4               0.2\n",
       "2                4.7               3.2                1.3               0.2\n",
       "3                4.6               3.1                1.5               0.2\n",
       "4                5.0               3.6                1.4               0.2"
      ]
     },
     "execution_count": 3,
     "metadata": {},
     "output_type": "execute_result"
    }
   ],
   "source": [
    "data = df.drop(columns=['target','flower_name'])\n",
    "data.head()"
   ]
  },
  {
   "cell_type": "markdown",
   "id": "bf4ced87",
   "metadata": {
    "papermill": {
     "duration": 0.005235,
     "end_time": "2025-02-19T16:38:45.485904",
     "exception": false,
     "start_time": "2025-02-19T16:38:45.480669",
     "status": "completed"
    },
    "tags": []
   },
   "source": [
    "# *Feature Scaling*"
   ]
  },
  {
   "cell_type": "markdown",
   "id": "d9c14d22",
   "metadata": {
    "papermill": {
     "duration": 0.004991,
     "end_time": "2025-02-19T16:38:45.496507",
     "exception": false,
     "start_time": "2025-02-19T16:38:45.491516",
     "status": "completed"
    },
    "tags": []
   },
   "source": [
    "here we did feature scaling to make each feature contributing equally because it may happen that one of the feature may affect the model due to its high value. so here I have used standard scaling not min-max scaling beacause min-max scaling will just scale down all values hence the ratio may remains same but in standard scaler all values are in specific range so that all feature may contribute well"
   ]
  },
  {
   "cell_type": "code",
   "execution_count": 4,
   "id": "6cc60c94",
   "metadata": {
    "execution": {
     "iopub.execute_input": "2025-02-19T16:38:45.508411Z",
     "iopub.status.busy": "2025-02-19T16:38:45.508009Z",
     "iopub.status.idle": "2025-02-19T16:38:45.527779Z",
     "shell.execute_reply": "2025-02-19T16:38:45.526694Z"
    },
    "papermill": {
     "duration": 0.027839,
     "end_time": "2025-02-19T16:38:45.529680",
     "exception": false,
     "start_time": "2025-02-19T16:38:45.501841",
     "status": "completed"
    },
    "tags": []
   },
   "outputs": [
    {
     "data": {
      "text/html": [
       "<div>\n",
       "<style scoped>\n",
       "    .dataframe tbody tr th:only-of-type {\n",
       "        vertical-align: middle;\n",
       "    }\n",
       "\n",
       "    .dataframe tbody tr th {\n",
       "        vertical-align: top;\n",
       "    }\n",
       "\n",
       "    .dataframe thead th {\n",
       "        text-align: right;\n",
       "    }\n",
       "</style>\n",
       "<table border=\"1\" class=\"dataframe\">\n",
       "  <thead>\n",
       "    <tr style=\"text-align: right;\">\n",
       "      <th></th>\n",
       "      <th>sepal length (cm)</th>\n",
       "      <th>sepal width (cm)</th>\n",
       "      <th>petal length (cm)</th>\n",
       "      <th>petal width (cm)</th>\n",
       "    </tr>\n",
       "  </thead>\n",
       "  <tbody>\n",
       "    <tr>\n",
       "      <th>0</th>\n",
       "      <td>-0.900681</td>\n",
       "      <td>1.019004</td>\n",
       "      <td>-1.340227</td>\n",
       "      <td>-1.315444</td>\n",
       "    </tr>\n",
       "    <tr>\n",
       "      <th>1</th>\n",
       "      <td>-1.143017</td>\n",
       "      <td>-0.131979</td>\n",
       "      <td>-1.340227</td>\n",
       "      <td>-1.315444</td>\n",
       "    </tr>\n",
       "    <tr>\n",
       "      <th>2</th>\n",
       "      <td>-1.385353</td>\n",
       "      <td>0.328414</td>\n",
       "      <td>-1.397064</td>\n",
       "      <td>-1.315444</td>\n",
       "    </tr>\n",
       "    <tr>\n",
       "      <th>3</th>\n",
       "      <td>-1.506521</td>\n",
       "      <td>0.098217</td>\n",
       "      <td>-1.283389</td>\n",
       "      <td>-1.315444</td>\n",
       "    </tr>\n",
       "    <tr>\n",
       "      <th>4</th>\n",
       "      <td>-1.021849</td>\n",
       "      <td>1.249201</td>\n",
       "      <td>-1.340227</td>\n",
       "      <td>-1.315444</td>\n",
       "    </tr>\n",
       "    <tr>\n",
       "      <th>...</th>\n",
       "      <td>...</td>\n",
       "      <td>...</td>\n",
       "      <td>...</td>\n",
       "      <td>...</td>\n",
       "    </tr>\n",
       "    <tr>\n",
       "      <th>145</th>\n",
       "      <td>1.038005</td>\n",
       "      <td>-0.131979</td>\n",
       "      <td>0.819596</td>\n",
       "      <td>1.448832</td>\n",
       "    </tr>\n",
       "    <tr>\n",
       "      <th>146</th>\n",
       "      <td>0.553333</td>\n",
       "      <td>-1.282963</td>\n",
       "      <td>0.705921</td>\n",
       "      <td>0.922303</td>\n",
       "    </tr>\n",
       "    <tr>\n",
       "      <th>147</th>\n",
       "      <td>0.795669</td>\n",
       "      <td>-0.131979</td>\n",
       "      <td>0.819596</td>\n",
       "      <td>1.053935</td>\n",
       "    </tr>\n",
       "    <tr>\n",
       "      <th>148</th>\n",
       "      <td>0.432165</td>\n",
       "      <td>0.788808</td>\n",
       "      <td>0.933271</td>\n",
       "      <td>1.448832</td>\n",
       "    </tr>\n",
       "    <tr>\n",
       "      <th>149</th>\n",
       "      <td>0.068662</td>\n",
       "      <td>-0.131979</td>\n",
       "      <td>0.762758</td>\n",
       "      <td>0.790671</td>\n",
       "    </tr>\n",
       "  </tbody>\n",
       "</table>\n",
       "<p>150 rows × 4 columns</p>\n",
       "</div>"
      ],
      "text/plain": [
       "     sepal length (cm)  sepal width (cm)  petal length (cm)  petal width (cm)\n",
       "0            -0.900681          1.019004          -1.340227         -1.315444\n",
       "1            -1.143017         -0.131979          -1.340227         -1.315444\n",
       "2            -1.385353          0.328414          -1.397064         -1.315444\n",
       "3            -1.506521          0.098217          -1.283389         -1.315444\n",
       "4            -1.021849          1.249201          -1.340227         -1.315444\n",
       "..                 ...               ...                ...               ...\n",
       "145           1.038005         -0.131979           0.819596          1.448832\n",
       "146           0.553333         -1.282963           0.705921          0.922303\n",
       "147           0.795669         -0.131979           0.819596          1.053935\n",
       "148           0.432165          0.788808           0.933271          1.448832\n",
       "149           0.068662         -0.131979           0.762758          0.790671\n",
       "\n",
       "[150 rows x 4 columns]"
      ]
     },
     "execution_count": 4,
     "metadata": {},
     "output_type": "execute_result"
    }
   ],
   "source": [
    "scaler = StandardScaler()\n",
    "data[['sepal length (cm)', 'sepal width (cm)','petal length (cm)','petal width (cm)']] = scaler.fit_transform(df[['sepal length (cm)', 'sepal width (cm)','petal length (cm)','petal width (cm)']])\n",
    "data"
   ]
  },
  {
   "cell_type": "markdown",
   "id": "445a0ba5",
   "metadata": {
    "papermill": {
     "duration": 0.005234,
     "end_time": "2025-02-19T16:38:45.540631",
     "exception": false,
     "start_time": "2025-02-19T16:38:45.535397",
     "status": "completed"
    },
    "tags": []
   },
   "source": [
    "# Elbow Method"
   ]
  },
  {
   "cell_type": "markdown",
   "id": "e9c278bd",
   "metadata": {
    "papermill": {
     "duration": 0.005088,
     "end_time": "2025-02-19T16:38:45.551079",
     "exception": false,
     "start_time": "2025-02-19T16:38:45.545991",
     "status": "completed"
    },
    "tags": []
   },
   "source": [
    "here to check which value of k is optimal we are using elbow method where we will find the elbow in graph of SSE (sum of squared errors) v/s k (number of clusters) at this elbow we will see the value of k and that will be our optimal number of clusters."
   ]
  },
  {
   "cell_type": "code",
   "execution_count": 5,
   "id": "0aee890c",
   "metadata": {
    "execution": {
     "iopub.execute_input": "2025-02-19T16:38:45.563230Z",
     "iopub.status.busy": "2025-02-19T16:38:45.562895Z",
     "iopub.status.idle": "2025-02-19T16:38:46.291735Z",
     "shell.execute_reply": "2025-02-19T16:38:46.290854Z"
    },
    "papermill": {
     "duration": 0.737308,
     "end_time": "2025-02-19T16:38:46.293713",
     "exception": false,
     "start_time": "2025-02-19T16:38:45.556405",
     "status": "completed"
    },
    "tags": []
   },
   "outputs": [
    {
     "name": "stderr",
     "output_type": "stream",
     "text": [
      "/usr/local/lib/python3.10/dist-packages/sklearn/cluster/_kmeans.py:870: FutureWarning: The default value of `n_init` will change from 10 to 'auto' in 1.4. Set the value of `n_init` explicitly to suppress the warning\n",
      "  warnings.warn(\n",
      "/usr/local/lib/python3.10/dist-packages/sklearn/cluster/_kmeans.py:870: FutureWarning: The default value of `n_init` will change from 10 to 'auto' in 1.4. Set the value of `n_init` explicitly to suppress the warning\n",
      "  warnings.warn(\n",
      "/usr/local/lib/python3.10/dist-packages/sklearn/cluster/_kmeans.py:870: FutureWarning: The default value of `n_init` will change from 10 to 'auto' in 1.4. Set the value of `n_init` explicitly to suppress the warning\n",
      "  warnings.warn(\n",
      "/usr/local/lib/python3.10/dist-packages/sklearn/cluster/_kmeans.py:870: FutureWarning: The default value of `n_init` will change from 10 to 'auto' in 1.4. Set the value of `n_init` explicitly to suppress the warning\n",
      "  warnings.warn(\n",
      "/usr/local/lib/python3.10/dist-packages/sklearn/cluster/_kmeans.py:870: FutureWarning: The default value of `n_init` will change from 10 to 'auto' in 1.4. Set the value of `n_init` explicitly to suppress the warning\n",
      "  warnings.warn(\n",
      "/usr/local/lib/python3.10/dist-packages/sklearn/cluster/_kmeans.py:870: FutureWarning: The default value of `n_init` will change from 10 to 'auto' in 1.4. Set the value of `n_init` explicitly to suppress the warning\n",
      "  warnings.warn(\n",
      "/usr/local/lib/python3.10/dist-packages/sklearn/cluster/_kmeans.py:870: FutureWarning: The default value of `n_init` will change from 10 to 'auto' in 1.4. Set the value of `n_init` explicitly to suppress the warning\n",
      "  warnings.warn(\n",
      "/usr/local/lib/python3.10/dist-packages/sklearn/cluster/_kmeans.py:870: FutureWarning: The default value of `n_init` will change from 10 to 'auto' in 1.4. Set the value of `n_init` explicitly to suppress the warning\n",
      "  warnings.warn(\n",
      "/usr/local/lib/python3.10/dist-packages/sklearn/cluster/_kmeans.py:870: FutureWarning: The default value of `n_init` will change from 10 to 'auto' in 1.4. Set the value of `n_init` explicitly to suppress the warning\n",
      "  warnings.warn(\n",
      "/usr/local/lib/python3.10/dist-packages/sklearn/cluster/_kmeans.py:870: FutureWarning: The default value of `n_init` will change from 10 to 'auto' in 1.4. Set the value of `n_init` explicitly to suppress the warning\n",
      "  warnings.warn(\n"
     ]
    }
   ],
   "source": [
    "k_rng = range(1,11)\n",
    "sse = []\n",
    "for i in k_rng:\n",
    "    km = KMeans(n_clusters=i)\n",
    "    km.fit_predict(data)\n",
    "    sse.append(km.inertia_)"
   ]
  },
  {
   "cell_type": "code",
   "execution_count": 6,
   "id": "d99addfe",
   "metadata": {
    "execution": {
     "iopub.execute_input": "2025-02-19T16:38:46.306750Z",
     "iopub.status.busy": "2025-02-19T16:38:46.306336Z",
     "iopub.status.idle": "2025-02-19T16:38:46.605894Z",
     "shell.execute_reply": "2025-02-19T16:38:46.604720Z"
    },
    "papermill": {
     "duration": 0.307978,
     "end_time": "2025-02-19T16:38:46.607586",
     "exception": false,
     "start_time": "2025-02-19T16:38:46.299608",
     "status": "completed"
    },
    "tags": []
   },
   "outputs": [
    {
     "data": {
      "image/png": "[encoded data removed]",
      "text/plain": [
       "<Figure size 640x480 with 1 Axes>"
      ]
     },
     "metadata": {},
     "output_type": "display_data"
    }
   ],
   "source": [
    "plt.plot(k_rng,sse,marker='o')\n",
    "plt.xlabel('Number of Cluster (k)')\n",
    "plt.ylabel('SSE')\n",
    "plt.title('Elbow Method')\n",
    "plt.grid()"
   ]
  },
  {
   "cell_type": "markdown",
   "id": "ae8a66ec",
   "metadata": {
    "papermill": {
     "duration": 0.006261,
     "end_time": "2025-02-19T16:38:46.620337",
     "exception": false,
     "start_time": "2025-02-19T16:38:46.614076",
     "status": "completed"
    },
    "tags": []
   },
   "source": [
    "here k=3 is quite good you can also try k=2,4 but increasing k will decrease our SSE but it will lead to overfitting so k=2,3 is quite good"
   ]
  },
  {
   "cell_type": "markdown",
   "id": "0f421d6f",
   "metadata": {
    "papermill": {
     "duration": 0.006129,
     "end_time": "2025-02-19T16:38:46.632885",
     "exception": false,
     "start_time": "2025-02-19T16:38:46.626756",
     "status": "completed"
    },
    "tags": []
   },
   "source": [
    "# *Visualizing Data*"
   ]
  },
  {
   "cell_type": "markdown",
   "id": "d878e281",
   "metadata": {
    "papermill": {
     "duration": 0.006227,
     "end_time": "2025-02-19T16:38:46.645519",
     "exception": false,
     "start_time": "2025-02-19T16:38:46.639292",
     "status": "completed"
    },
    "tags": []
   },
   "source": [
    "initially here from these below two graphs i can see that k=2 is also good as there is visible two portions but here i have chosen k=3 you can check for other values too"
   ]
  },
  {
   "cell_type": "code",
   "execution_count": 7,
   "id": "64f1b58a",
   "metadata": {
    "execution": {
     "iopub.execute_input": "2025-02-19T16:38:46.659465Z",
     "iopub.status.busy": "2025-02-19T16:38:46.659104Z",
     "iopub.status.idle": "2025-02-19T16:38:46.892314Z",
     "shell.execute_reply": "2025-02-19T16:38:46.891204Z"
    },
    "papermill": {
     "duration": 0.242301,
     "end_time": "2025-02-19T16:38:46.894086",
     "exception": false,
     "start_time": "2025-02-19T16:38:46.651785",
     "status": "completed"
    },
    "tags": []
   },
   "outputs": [
    {
     "data": {
      "image/png": "[encoded data removed]",
      "text/plain": [
       "<Figure size 640x480 with 1 Axes>"
      ]
     },
     "metadata": {},
     "output_type": "display_data"
    }
   ],
   "source": [
    "plt.scatter(data['sepal length (cm)'],data['sepal width (cm)'])\n",
    "plt.xlabel('sepal length (cm)')\n",
    "plt.ylabel('sepal width (cm)')\n",
    "plt.title('sepal length V/S sepal width')\n",
    "plt.grid()"
   ]
  },
  {
   "cell_type": "code",
   "execution_count": 8,
   "id": "82d6be1d",
   "metadata": {
    "execution": {
     "iopub.execute_input": "2025-02-19T16:38:46.910059Z",
     "iopub.status.busy": "2025-02-19T16:38:46.909714Z",
     "iopub.status.idle": "2025-02-19T16:38:47.156070Z",
     "shell.execute_reply": "2025-02-19T16:38:47.154990Z"
    },
    "papermill": {
     "duration": 0.256859,
     "end_time": "2025-02-19T16:38:47.158129",
     "exception": false,
     "start_time": "2025-02-19T16:38:46.901270",
     "status": "completed"
    },
    "tags": []
   },
   "outputs": [
    {
     "data": {
      "image/png": "[encoded data removed]",
      "text/plain": [
       "<Figure size 640x480 with 1 Axes>"
      ]
     },
     "metadata": {},
     "output_type": "display_data"
    }
   ],
   "source": [
    "plt.scatter(data['petal length (cm)'],data['petal width (cm)'])\n",
    "plt.xlabel('petal length (cm)')\n",
    "plt.ylabel('petal width (cm)')\n",
    "plt.title('petal length V/S petal width')\n",
    "plt.grid()"
   ]
  },
  {
   "cell_type": "markdown",
   "id": "247010e9",
   "metadata": {
    "papermill": {
     "duration": 0.008798,
     "end_time": "2025-02-19T16:38:47.176264",
     "exception": false,
     "start_time": "2025-02-19T16:38:47.167466",
     "status": "completed"
    },
    "tags": []
   },
   "source": [
    "# *Model training*"
   ]
  },
  {
   "cell_type": "code",
   "execution_count": 9,
   "id": "4d41601b",
   "metadata": {
    "execution": {
     "iopub.execute_input": "2025-02-19T16:38:47.196436Z",
     "iopub.status.busy": "2025-02-19T16:38:47.196047Z",
     "iopub.status.idle": "2025-02-19T16:38:47.217989Z",
     "shell.execute_reply": "2025-02-19T16:38:47.215392Z"
    },
    "papermill": {
     "duration": 0.034002,
     "end_time": "2025-02-19T16:38:47.219941",
     "exception": false,
     "start_time": "2025-02-19T16:38:47.185939",
     "status": "completed"
    },
    "tags": []
   },
   "outputs": [
    {
     "name": "stderr",
     "output_type": "stream",
     "text": [
      "/usr/local/lib/python3.10/dist-packages/sklearn/cluster/_kmeans.py:870: FutureWarning: The default value of `n_init` will change from 10 to 'auto' in 1.4. Set the value of `n_init` explicitly to suppress the warning\n",
      "  warnings.warn(\n"
     ]
    },
    {
     "data": {
      "text/plain": [
       "array([1, 1, 1, 1, 1, 1, 1, 1, 1, 1, 1, 1, 1, 1, 1, 1, 1, 1, 1, 1, 1, 1,\n",
       "       1, 1, 1, 1, 1, 1, 1, 1, 1, 1, 1, 1, 1, 1, 1, 1, 1, 1, 1, 1, 1, 1,\n",
       "       1, 1, 1, 1, 1, 1, 0, 0, 0, 2, 2, 2, 0, 2, 2, 2, 2, 2, 2, 2, 2, 0,\n",
       "       2, 2, 2, 2, 0, 2, 2, 2, 2, 0, 0, 0, 2, 2, 2, 2, 2, 2, 2, 0, 0, 2,\n",
       "       2, 2, 2, 2, 2, 2, 2, 2, 2, 2, 2, 2, 0, 2, 0, 0, 0, 0, 2, 0, 0, 0,\n",
       "       0, 0, 0, 2, 2, 0, 0, 0, 0, 2, 0, 2, 0, 2, 0, 0, 2, 0, 0, 0, 0, 0,\n",
       "       0, 2, 2, 0, 0, 0, 2, 0, 0, 0, 2, 0, 0, 0, 2, 0, 0, 2], dtype=int32)"
      ]
     },
     "execution_count": 9,
     "metadata": {},
     "output_type": "execute_result"
    }
   ],
   "source": [
    "model = KMeans(n_clusters = 3)\n",
    "predicted=model.fit_predict(data)\n",
    "predicted"
   ]
  },
  {
   "cell_type": "code",
   "execution_count": 10,
   "id": "8c5dd224",
   "metadata": {
    "execution": {
     "iopub.execute_input": "2025-02-19T16:38:47.237849Z",
     "iopub.status.busy": "2025-02-19T16:38:47.237428Z",
     "iopub.status.idle": "2025-02-19T16:38:47.249062Z",
     "shell.execute_reply": "2025-02-19T16:38:47.248022Z"
    },
    "papermill": {
     "duration": 0.022715,
     "end_time": "2025-02-19T16:38:47.250834",
     "exception": false,
     "start_time": "2025-02-19T16:38:47.228119",
     "status": "completed"
    },
    "tags": []
   },
   "outputs": [
    {
     "data": {
      "text/html": [
       "<div>\n",
       "<style scoped>\n",
       "    .dataframe tbody tr th:only-of-type {\n",
       "        vertical-align: middle;\n",
       "    }\n",
       "\n",
       "    .dataframe tbody tr th {\n",
       "        vertical-align: top;\n",
       "    }\n",
       "\n",
       "    .dataframe thead th {\n",
       "        text-align: right;\n",
       "    }\n",
       "</style>\n",
       "<table border=\"1\" class=\"dataframe\">\n",
       "  <thead>\n",
       "    <tr style=\"text-align: right;\">\n",
       "      <th></th>\n",
       "      <th>sepal length (cm)</th>\n",
       "      <th>sepal width (cm)</th>\n",
       "      <th>petal length (cm)</th>\n",
       "      <th>petal width (cm)</th>\n",
       "      <th>cluster</th>\n",
       "    </tr>\n",
       "  </thead>\n",
       "  <tbody>\n",
       "    <tr>\n",
       "      <th>0</th>\n",
       "      <td>-0.900681</td>\n",
       "      <td>1.019004</td>\n",
       "      <td>-1.340227</td>\n",
       "      <td>-1.315444</td>\n",
       "      <td>1</td>\n",
       "    </tr>\n",
       "    <tr>\n",
       "      <th>1</th>\n",
       "      <td>-1.143017</td>\n",
       "      <td>-0.131979</td>\n",
       "      <td>-1.340227</td>\n",
       "      <td>-1.315444</td>\n",
       "      <td>1</td>\n",
       "    </tr>\n",
       "    <tr>\n",
       "      <th>2</th>\n",
       "      <td>-1.385353</td>\n",
       "      <td>0.328414</td>\n",
       "      <td>-1.397064</td>\n",
       "      <td>-1.315444</td>\n",
       "      <td>1</td>\n",
       "    </tr>\n",
       "    <tr>\n",
       "      <th>3</th>\n",
       "      <td>-1.506521</td>\n",
       "      <td>0.098217</td>\n",
       "      <td>-1.283389</td>\n",
       "      <td>-1.315444</td>\n",
       "      <td>1</td>\n",
       "    </tr>\n",
       "    <tr>\n",
       "      <th>4</th>\n",
       "      <td>-1.021849</td>\n",
       "      <td>1.249201</td>\n",
       "      <td>-1.340227</td>\n",
       "      <td>-1.315444</td>\n",
       "      <td>1</td>\n",
       "    </tr>\n",
       "  </tbody>\n",
       "</table>\n",
       "</div>"
      ],
      "text/plain": [
       "   sepal length (cm)  sepal width (cm)  petal length (cm)  petal width (cm)  \\\n",
       "0          -0.900681          1.019004          -1.340227         -1.315444   \n",
       "1          -1.143017         -0.131979          -1.340227         -1.315444   \n",
       "2          -1.385353          0.328414          -1.397064         -1.315444   \n",
       "3          -1.506521          0.098217          -1.283389         -1.315444   \n",
       "4          -1.021849          1.249201          -1.340227         -1.315444   \n",
       "\n",
       "   cluster  \n",
       "0        1  \n",
       "1        1  \n",
       "2        1  \n",
       "3        1  \n",
       "4        1  "
      ]
     },
     "execution_count": 10,
     "metadata": {},
     "output_type": "execute_result"
    }
   ],
   "source": [
    "data['cluster'] = predicted\n",
    "data.head()"
   ]
  },
  {
   "cell_type": "markdown",
   "id": "8a43e609",
   "metadata": {
    "papermill": {
     "duration": 0.007889,
     "end_time": "2025-02-19T16:38:47.267061",
     "exception": false,
     "start_time": "2025-02-19T16:38:47.259172",
     "status": "completed"
    },
    "tags": []
   },
   "source": [
    "# *Separate dataframes for each cluster*"
   ]
  },
  {
   "cell_type": "code",
   "execution_count": 11,
   "id": "637dcb0e",
   "metadata": {
    "execution": {
     "iopub.execute_input": "2025-02-19T16:38:47.285094Z",
     "iopub.status.busy": "2025-02-19T16:38:47.284708Z",
     "iopub.status.idle": "2025-02-19T16:38:47.291918Z",
     "shell.execute_reply": "2025-02-19T16:38:47.290783Z"
    },
    "papermill": {
     "duration": 0.018502,
     "end_time": "2025-02-19T16:38:47.293734",
     "exception": false,
     "start_time": "2025-02-19T16:38:47.275232",
     "status": "completed"
    },
    "tags": []
   },
   "outputs": [],
   "source": [
    "data0 = data[data['cluster'] == 0]\n",
    "data1 = data[data['cluster'] == 1]\n",
    "data2 = data[data['cluster'] == 2]"
   ]
  },
  {
   "cell_type": "code",
   "execution_count": 12,
   "id": "50251716",
   "metadata": {
    "execution": {
     "iopub.execute_input": "2025-02-19T16:38:47.311263Z",
     "iopub.status.busy": "2025-02-19T16:38:47.310899Z",
     "iopub.status.idle": "2025-02-19T16:38:47.319036Z",
     "shell.execute_reply": "2025-02-19T16:38:47.317914Z"
    },
    "papermill": {
     "duration": 0.01856,
     "end_time": "2025-02-19T16:38:47.320564",
     "exception": false,
     "start_time": "2025-02-19T16:38:47.302004",
     "status": "completed"
    },
    "tags": []
   },
   "outputs": [
    {
     "data": {
      "text/plain": [
       "array([[ 1.13597027,  0.08842168,  0.99615451,  1.01752612],\n",
       "       [-1.01457897,  0.85326268, -1.30498732, -1.25489349],\n",
       "       [-0.05021989, -0.88337647,  0.34773781,  0.2815273 ]])"
      ]
     },
     "execution_count": 12,
     "metadata": {},
     "output_type": "execute_result"
    }
   ],
   "source": [
    "model.cluster_centers_ # this gives us k number of centroids for each feature (column)"
   ]
  },
  {
   "cell_type": "markdown",
   "id": "cf604bcc",
   "metadata": {
    "papermill": {
     "duration": 0.008306,
     "end_time": "2025-02-19T16:38:47.336999",
     "exception": false,
     "start_time": "2025-02-19T16:38:47.328693",
     "status": "completed"
    },
    "tags": []
   },
   "source": [
    "# *Visualizing clustered data with their centroids*"
   ]
  },
  {
   "cell_type": "code",
   "execution_count": 13,
   "id": "daa60e11",
   "metadata": {
    "execution": {
     "iopub.execute_input": "2025-02-19T16:38:47.354645Z",
     "iopub.status.busy": "2025-02-19T16:38:47.354224Z",
     "iopub.status.idle": "2025-02-19T16:38:47.667184Z",
     "shell.execute_reply": "2025-02-19T16:38:47.665980Z"
    },
    "papermill": {
     "duration": 0.324564,
     "end_time": "2025-02-19T16:38:47.669698",
     "exception": false,
     "start_time": "2025-02-19T16:38:47.345134",
     "status": "completed"
    },
    "tags": []
   },
   "outputs": [
    {
     "data": {
      "image/png": "[encoded data removed]",
      "text/plain": [
       "<Figure size 640x480 with 1 Axes>"
      ]
     },
     "metadata": {},
     "output_type": "display_data"
    }
   ],
   "source": [
    "plt.scatter(data0['sepal length (cm)'],data0['sepal width (cm)'],color='red')\n",
    "plt.scatter(data1['sepal length (cm)'],data1['sepal width (cm)'],color='green')\n",
    "plt.scatter(data2['sepal length (cm)'],data2['sepal width (cm)'],color='blue')\n",
    "plt.scatter(model.cluster_centers_[:,0],model.cluster_centers_[:,1],color='purple',marker='*')\n",
    "plt.xlabel('sepal length (cm)')\n",
    "plt.ylabel('sepal width (cm)')\n",
    "plt.title('sepal length V/S sepal width')\n",
    "plt.grid()"
   ]
  },
  {
   "cell_type": "code",
   "execution_count": 14,
   "id": "8636f2e4",
   "metadata": {
    "execution": {
     "iopub.execute_input": "2025-02-19T16:38:47.695769Z",
     "iopub.status.busy": "2025-02-19T16:38:47.695401Z",
     "iopub.status.idle": "2025-02-19T16:38:47.988098Z",
     "shell.execute_reply": "2025-02-19T16:38:47.987043Z"
    },
    "papermill": {
     "duration": 0.307586,
     "end_time": "2025-02-19T16:38:47.989912",
     "exception": false,
     "start_time": "2025-02-19T16:38:47.682326",
     "status": "completed"
    },
    "tags": []
   },
   "outputs": [
    {
     "data": {
      "image/png": "[encoded data removed]",
      "text/plain": [
       "<Figure size 640x480 with 1 Axes>"
      ]
     },
     "metadata": {},
     "output_type": "display_data"
    }
   ],
   "source": [
    "plt.scatter(data0['petal length (cm)'],data0['petal width (cm)'],color='red')\n",
    "plt.scatter(data1['petal length (cm)'],data1['petal width (cm)'],color='green')\n",
    "plt.scatter(data2['petal length (cm)'],data2['petal width (cm)'],color='blue')\n",
    "plt.scatter(model.cluster_centers_[:,2],model.cluster_centers_[:,3],color='purple',marker='*')\n",
    "plt.xlabel('petal length (cm)')\n",
    "plt.ylabel('petal width (cm)')\n",
    "plt.title('petal length V/S petal width')\n",
    "plt.grid()"
   ]
  },
  {
   "cell_type": "markdown",
   "id": "d521d90d",
   "metadata": {
    "papermill": {
     "duration": 0.009152,
     "end_time": "2025-02-19T16:38:48.008780",
     "exception": false,
     "start_time": "2025-02-19T16:38:47.999628",
     "status": "completed"
    },
    "tags": []
   },
   "source": [
    "As you can see above i have made the three clusters visualization where the purple star is their centroid."
   ]
  },
  {
   "cell_type": "markdown",
   "id": "a19d951f",
   "metadata": {
    "papermill": {
     "duration": 0.00919,
     "end_time": "2025-02-19T16:38:48.027261",
     "exception": false,
     "start_time": "2025-02-19T16:38:48.018071",
     "status": "completed"
    },
    "tags": []
   },
   "source": [
    "# Please Upvote Me, It will be alot of Help !!!!"
   ]
  }
 ],
 "metadata": {
  "kaggle": {
   "accelerator": "none",
   "dataSources": [
    {
     "datasetId": 6662172,
     "sourceId": 10743158,
     "sourceType": "datasetVersion"
    }
   ],
   "dockerImageVersionId": 30886,
   "isGpuEnabled": false,
   "isInternetEnabled": true,
   "language": "python",
   "sourceType": "notebook"
  },
  "kernelspec": {
   "display_name": "Python 3",
   "language": "python",
   "name": "python3"
  },
  "language_info": {
   "codemirror_mode": {
    "name": "ipython",
    "version": 3
   },
   "file_extension": ".py",
   "mimetype": "text/x-python",
   "name": "python",
   "nbconvert_exporter": "python",
   "pygments_lexer": "ipython3",
   "version": "3.10.12"
  },
  "papermill": {
   "default_parameters": {},
   "duration": 8.851416,
   "end_time": "2025-02-19T16:38:48.756261",
   "environment_variables": {},
   "exception": null,
   "input_path": "__notebook__.ipynb",
   "output_path": "__notebook__.ipynb",
   "parameters": {},
   "start_time": "2025-02-19T16:38:39.904845",
   "version": "2.6.0"
  }
 },
 "nbformat": 4,
 "nbformat_minor": 5
}
