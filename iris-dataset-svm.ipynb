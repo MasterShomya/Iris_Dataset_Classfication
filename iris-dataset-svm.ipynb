{
 "cells": [
  {
   "cell_type": "code",
   "execution_count": 1,
   "id": "b7924ac0",
   "metadata": {
    "_cell_guid": "b1076dfc-b9ad-4769-8c92-a6c4dae69d19",
    "_uuid": "8f2839f25d086af736a60e9eeb907d3b93b6e0e5",
    "execution": {
     "iopub.execute_input": "2025-02-13T18:07:17.235964Z",
     "iopub.status.busy": "2025-02-13T18:07:17.235638Z",
     "iopub.status.idle": "2025-02-13T18:07:18.232612Z",
     "shell.execute_reply": "2025-02-13T18:07:18.231242Z"
    },
    "papermill": {
     "duration": 1.004895,
     "end_time": "2025-02-13T18:07:18.234161",
     "exception": false,
     "start_time": "2025-02-13T18:07:17.229266",
     "status": "completed"
    },
    "tags": []
   },
   "outputs": [
    {
     "name": "stdout",
     "output_type": "stream",
     "text": [
      "/kaggle/input/iris-dataset/Iris_dataset.csv\n"
     ]
    }
   ],
   "source": [
    "import numpy as np\n",
    "import pandas as pd\n",
    "import os\n",
    "for dirname, _, filenames in os.walk('/kaggle/input'):\n",
    "    for filename in filenames:\n",
    "        print(os.path.join(dirname, filename))"
   ]
  },
  {
   "cell_type": "markdown",
   "id": "2465f3a9",
   "metadata": {
    "papermill": {
     "duration": 0.003876,
     "end_time": "2025-02-13T18:07:18.242954",
     "exception": false,
     "start_time": "2025-02-13T18:07:18.239078",
     "status": "completed"
    },
    "tags": []
   },
   "source": [
    "# *Reading dataset*"
   ]
  },
  {
   "cell_type": "code",
   "execution_count": 2,
   "id": "ca10cac6",
   "metadata": {
    "execution": {
     "iopub.execute_input": "2025-02-13T18:07:18.252661Z",
     "iopub.status.busy": "2025-02-13T18:07:18.252254Z",
     "iopub.status.idle": "2025-02-13T18:07:18.292719Z",
     "shell.execute_reply": "2025-02-13T18:07:18.291521Z"
    },
    "papermill": {
     "duration": 0.04722,
     "end_time": "2025-02-13T18:07:18.294457",
     "exception": false,
     "start_time": "2025-02-13T18:07:18.247237",
     "status": "completed"
    },
    "tags": []
   },
   "outputs": [
    {
     "data": {
      "text/html": [
       "<div>\n",
       "<style scoped>\n",
       "    .dataframe tbody tr th:only-of-type {\n",
       "        vertical-align: middle;\n",
       "    }\n",
       "\n",
       "    .dataframe tbody tr th {\n",
       "        vertical-align: top;\n",
       "    }\n",
       "\n",
       "    .dataframe thead th {\n",
       "        text-align: right;\n",
       "    }\n",
       "</style>\n",
       "<table border=\"1\" class=\"dataframe\">\n",
       "  <thead>\n",
       "    <tr style=\"text-align: right;\">\n",
       "      <th></th>\n",
       "      <th>sepal length (cm)</th>\n",
       "      <th>sepal width (cm)</th>\n",
       "      <th>petal length (cm)</th>\n",
       "      <th>petal width (cm)</th>\n",
       "      <th>target</th>\n",
       "      <th>flower_name</th>\n",
       "    </tr>\n",
       "  </thead>\n",
       "  <tbody>\n",
       "    <tr>\n",
       "      <th>0</th>\n",
       "      <td>5.1</td>\n",
       "      <td>3.5</td>\n",
       "      <td>1.4</td>\n",
       "      <td>0.2</td>\n",
       "      <td>0</td>\n",
       "      <td>setosa</td>\n",
       "    </tr>\n",
       "    <tr>\n",
       "      <th>1</th>\n",
       "      <td>4.9</td>\n",
       "      <td>3.0</td>\n",
       "      <td>1.4</td>\n",
       "      <td>0.2</td>\n",
       "      <td>0</td>\n",
       "      <td>setosa</td>\n",
       "    </tr>\n",
       "    <tr>\n",
       "      <th>2</th>\n",
       "      <td>4.7</td>\n",
       "      <td>3.2</td>\n",
       "      <td>1.3</td>\n",
       "      <td>0.2</td>\n",
       "      <td>0</td>\n",
       "      <td>setosa</td>\n",
       "    </tr>\n",
       "    <tr>\n",
       "      <th>3</th>\n",
       "      <td>4.6</td>\n",
       "      <td>3.1</td>\n",
       "      <td>1.5</td>\n",
       "      <td>0.2</td>\n",
       "      <td>0</td>\n",
       "      <td>setosa</td>\n",
       "    </tr>\n",
       "    <tr>\n",
       "      <th>4</th>\n",
       "      <td>5.0</td>\n",
       "      <td>3.6</td>\n",
       "      <td>1.4</td>\n",
       "      <td>0.2</td>\n",
       "      <td>0</td>\n",
       "      <td>setosa</td>\n",
       "    </tr>\n",
       "  </tbody>\n",
       "</table>\n",
       "</div>"
      ],
      "text/plain": [
       "   sepal length (cm)  sepal width (cm)  petal length (cm)  petal width (cm)  \\\n",
       "0                5.1               3.5                1.4               0.2   \n",
       "1                4.9               3.0                1.4               0.2   \n",
       "2                4.7               3.2                1.3               0.2   \n",
       "3                4.6               3.1                1.5               0.2   \n",
       "4                5.0               3.6                1.4               0.2   \n",
       "\n",
       "   target flower_name  \n",
       "0       0      setosa  \n",
       "1       0      setosa  \n",
       "2       0      setosa  \n",
       "3       0      setosa  \n",
       "4       0      setosa  "
      ]
     },
     "execution_count": 2,
     "metadata": {},
     "output_type": "execute_result"
    }
   ],
   "source": [
    "df = pd.read_csv('/kaggle/input/iris-dataset/Iris_dataset.csv')\n",
    "df.head()"
   ]
  },
  {
   "cell_type": "markdown",
   "id": "04232b7f",
   "metadata": {
    "papermill": {
     "duration": 0.004032,
     "end_time": "2025-02-13T18:07:18.303360",
     "exception": false,
     "start_time": "2025-02-13T18:07:18.299328",
     "status": "completed"
    },
    "tags": []
   },
   "source": [
    "# *Dataframe for setosa, versicolor & virginica respectively*"
   ]
  },
  {
   "cell_type": "code",
   "execution_count": 3,
   "id": "ab55c6d2",
   "metadata": {
    "execution": {
     "iopub.execute_input": "2025-02-13T18:07:18.312867Z",
     "iopub.status.busy": "2025-02-13T18:07:18.312539Z",
     "iopub.status.idle": "2025-02-13T18:07:18.332751Z",
     "shell.execute_reply": "2025-02-13T18:07:18.331653Z"
    },
    "papermill": {
     "duration": 0.026772,
     "end_time": "2025-02-13T18:07:18.334216",
     "exception": false,
     "start_time": "2025-02-13T18:07:18.307444",
     "status": "completed"
    },
    "tags": []
   },
   "outputs": [
    {
     "data": {
      "text/html": [
       "<div>\n",
       "<style scoped>\n",
       "    .dataframe tbody tr th:only-of-type {\n",
       "        vertical-align: middle;\n",
       "    }\n",
       "\n",
       "    .dataframe tbody tr th {\n",
       "        vertical-align: top;\n",
       "    }\n",
       "\n",
       "    .dataframe thead th {\n",
       "        text-align: right;\n",
       "    }\n",
       "</style>\n",
       "<table border=\"1\" class=\"dataframe\">\n",
       "  <thead>\n",
       "    <tr style=\"text-align: right;\">\n",
       "      <th></th>\n",
       "      <th>sepal length (cm)</th>\n",
       "      <th>sepal width (cm)</th>\n",
       "      <th>petal length (cm)</th>\n",
       "      <th>petal width (cm)</th>\n",
       "      <th>target</th>\n",
       "      <th>flower_name</th>\n",
       "    </tr>\n",
       "  </thead>\n",
       "  <tbody>\n",
       "    <tr>\n",
       "      <th>0</th>\n",
       "      <td>5.1</td>\n",
       "      <td>3.5</td>\n",
       "      <td>1.4</td>\n",
       "      <td>0.2</td>\n",
       "      <td>0</td>\n",
       "      <td>setosa</td>\n",
       "    </tr>\n",
       "    <tr>\n",
       "      <th>1</th>\n",
       "      <td>4.9</td>\n",
       "      <td>3.0</td>\n",
       "      <td>1.4</td>\n",
       "      <td>0.2</td>\n",
       "      <td>0</td>\n",
       "      <td>setosa</td>\n",
       "    </tr>\n",
       "    <tr>\n",
       "      <th>2</th>\n",
       "      <td>4.7</td>\n",
       "      <td>3.2</td>\n",
       "      <td>1.3</td>\n",
       "      <td>0.2</td>\n",
       "      <td>0</td>\n",
       "      <td>setosa</td>\n",
       "    </tr>\n",
       "    <tr>\n",
       "      <th>3</th>\n",
       "      <td>4.6</td>\n",
       "      <td>3.1</td>\n",
       "      <td>1.5</td>\n",
       "      <td>0.2</td>\n",
       "      <td>0</td>\n",
       "      <td>setosa</td>\n",
       "    </tr>\n",
       "    <tr>\n",
       "      <th>4</th>\n",
       "      <td>5.0</td>\n",
       "      <td>3.6</td>\n",
       "      <td>1.4</td>\n",
       "      <td>0.2</td>\n",
       "      <td>0</td>\n",
       "      <td>setosa</td>\n",
       "    </tr>\n",
       "  </tbody>\n",
       "</table>\n",
       "</div>"
      ],
      "text/plain": [
       "   sepal length (cm)  sepal width (cm)  petal length (cm)  petal width (cm)  \\\n",
       "0                5.1               3.5                1.4               0.2   \n",
       "1                4.9               3.0                1.4               0.2   \n",
       "2                4.7               3.2                1.3               0.2   \n",
       "3                4.6               3.1                1.5               0.2   \n",
       "4                5.0               3.6                1.4               0.2   \n",
       "\n",
       "   target flower_name  \n",
       "0       0      setosa  \n",
       "1       0      setosa  \n",
       "2       0      setosa  \n",
       "3       0      setosa  \n",
       "4       0      setosa  "
      ]
     },
     "execution_count": 3,
     "metadata": {},
     "output_type": "execute_result"
    }
   ],
   "source": [
    "df0 = df[df.target==0]\n",
    "df0.head()"
   ]
  },
  {
   "cell_type": "code",
   "execution_count": 4,
   "id": "b783821c",
   "metadata": {
    "execution": {
     "iopub.execute_input": "2025-02-13T18:07:18.345045Z",
     "iopub.status.busy": "2025-02-13T18:07:18.344713Z",
     "iopub.status.idle": "2025-02-13T18:07:18.356454Z",
     "shell.execute_reply": "2025-02-13T18:07:18.355255Z"
    },
    "papermill": {
     "duration": 0.019234,
     "end_time": "2025-02-13T18:07:18.358399",
     "exception": false,
     "start_time": "2025-02-13T18:07:18.339165",
     "status": "completed"
    },
    "tags": []
   },
   "outputs": [
    {
     "data": {
      "text/html": [
       "<div>\n",
       "<style scoped>\n",
       "    .dataframe tbody tr th:only-of-type {\n",
       "        vertical-align: middle;\n",
       "    }\n",
       "\n",
       "    .dataframe tbody tr th {\n",
       "        vertical-align: top;\n",
       "    }\n",
       "\n",
       "    .dataframe thead th {\n",
       "        text-align: right;\n",
       "    }\n",
       "</style>\n",
       "<table border=\"1\" class=\"dataframe\">\n",
       "  <thead>\n",
       "    <tr style=\"text-align: right;\">\n",
       "      <th></th>\n",
       "      <th>sepal length (cm)</th>\n",
       "      <th>sepal width (cm)</th>\n",
       "      <th>petal length (cm)</th>\n",
       "      <th>petal width (cm)</th>\n",
       "      <th>target</th>\n",
       "      <th>flower_name</th>\n",
       "    </tr>\n",
       "  </thead>\n",
       "  <tbody>\n",
       "    <tr>\n",
       "      <th>50</th>\n",
       "      <td>7.0</td>\n",
       "      <td>3.2</td>\n",
       "      <td>4.7</td>\n",
       "      <td>1.4</td>\n",
       "      <td>1</td>\n",
       "      <td>versicolor</td>\n",
       "    </tr>\n",
       "    <tr>\n",
       "      <th>51</th>\n",
       "      <td>6.4</td>\n",
       "      <td>3.2</td>\n",
       "      <td>4.5</td>\n",
       "      <td>1.5</td>\n",
       "      <td>1</td>\n",
       "      <td>versicolor</td>\n",
       "    </tr>\n",
       "    <tr>\n",
       "      <th>52</th>\n",
       "      <td>6.9</td>\n",
       "      <td>3.1</td>\n",
       "      <td>4.9</td>\n",
       "      <td>1.5</td>\n",
       "      <td>1</td>\n",
       "      <td>versicolor</td>\n",
       "    </tr>\n",
       "    <tr>\n",
       "      <th>53</th>\n",
       "      <td>5.5</td>\n",
       "      <td>2.3</td>\n",
       "      <td>4.0</td>\n",
       "      <td>1.3</td>\n",
       "      <td>1</td>\n",
       "      <td>versicolor</td>\n",
       "    </tr>\n",
       "    <tr>\n",
       "      <th>54</th>\n",
       "      <td>6.5</td>\n",
       "      <td>2.8</td>\n",
       "      <td>4.6</td>\n",
       "      <td>1.5</td>\n",
       "      <td>1</td>\n",
       "      <td>versicolor</td>\n",
       "    </tr>\n",
       "  </tbody>\n",
       "</table>\n",
       "</div>"
      ],
      "text/plain": [
       "    sepal length (cm)  sepal width (cm)  petal length (cm)  petal width (cm)  \\\n",
       "50                7.0               3.2                4.7               1.4   \n",
       "51                6.4               3.2                4.5               1.5   \n",
       "52                6.9               3.1                4.9               1.5   \n",
       "53                5.5               2.3                4.0               1.3   \n",
       "54                6.5               2.8                4.6               1.5   \n",
       "\n",
       "    target flower_name  \n",
       "50       1  versicolor  \n",
       "51       1  versicolor  \n",
       "52       1  versicolor  \n",
       "53       1  versicolor  \n",
       "54       1  versicolor  "
      ]
     },
     "execution_count": 4,
     "metadata": {},
     "output_type": "execute_result"
    }
   ],
   "source": [
    "df1 = df[df.target==1]\n",
    "df1.head()"
   ]
  },
  {
   "cell_type": "code",
   "execution_count": 5,
   "id": "f21f24bd",
   "metadata": {
    "execution": {
     "iopub.execute_input": "2025-02-13T18:07:18.369589Z",
     "iopub.status.busy": "2025-02-13T18:07:18.369278Z",
     "iopub.status.idle": "2025-02-13T18:07:18.379848Z",
     "shell.execute_reply": "2025-02-13T18:07:18.378850Z"
    },
    "papermill": {
     "duration": 0.017307,
     "end_time": "2025-02-13T18:07:18.381088",
     "exception": false,
     "start_time": "2025-02-13T18:07:18.363781",
     "status": "completed"
    },
    "tags": []
   },
   "outputs": [
    {
     "data": {
      "text/html": [
       "<div>\n",
       "<style scoped>\n",
       "    .dataframe tbody tr th:only-of-type {\n",
       "        vertical-align: middle;\n",
       "    }\n",
       "\n",
       "    .dataframe tbody tr th {\n",
       "        vertical-align: top;\n",
       "    }\n",
       "\n",
       "    .dataframe thead th {\n",
       "        text-align: right;\n",
       "    }\n",
       "</style>\n",
       "<table border=\"1\" class=\"dataframe\">\n",
       "  <thead>\n",
       "    <tr style=\"text-align: right;\">\n",
       "      <th></th>\n",
       "      <th>sepal length (cm)</th>\n",
       "      <th>sepal width (cm)</th>\n",
       "      <th>petal length (cm)</th>\n",
       "      <th>petal width (cm)</th>\n",
       "      <th>target</th>\n",
       "      <th>flower_name</th>\n",
       "    </tr>\n",
       "  </thead>\n",
       "  <tbody>\n",
       "    <tr>\n",
       "      <th>100</th>\n",
       "      <td>6.3</td>\n",
       "      <td>3.3</td>\n",
       "      <td>6.0</td>\n",
       "      <td>2.5</td>\n",
       "      <td>2</td>\n",
       "      <td>virginica</td>\n",
       "    </tr>\n",
       "    <tr>\n",
       "      <th>101</th>\n",
       "      <td>5.8</td>\n",
       "      <td>2.7</td>\n",
       "      <td>5.1</td>\n",
       "      <td>1.9</td>\n",
       "      <td>2</td>\n",
       "      <td>virginica</td>\n",
       "    </tr>\n",
       "    <tr>\n",
       "      <th>102</th>\n",
       "      <td>7.1</td>\n",
       "      <td>3.0</td>\n",
       "      <td>5.9</td>\n",
       "      <td>2.1</td>\n",
       "      <td>2</td>\n",
       "      <td>virginica</td>\n",
       "    </tr>\n",
       "    <tr>\n",
       "      <th>103</th>\n",
       "      <td>6.3</td>\n",
       "      <td>2.9</td>\n",
       "      <td>5.6</td>\n",
       "      <td>1.8</td>\n",
       "      <td>2</td>\n",
       "      <td>virginica</td>\n",
       "    </tr>\n",
       "    <tr>\n",
       "      <th>104</th>\n",
       "      <td>6.5</td>\n",
       "      <td>3.0</td>\n",
       "      <td>5.8</td>\n",
       "      <td>2.2</td>\n",
       "      <td>2</td>\n",
       "      <td>virginica</td>\n",
       "    </tr>\n",
       "  </tbody>\n",
       "</table>\n",
       "</div>"
      ],
      "text/plain": [
       "     sepal length (cm)  sepal width (cm)  petal length (cm)  petal width (cm)  \\\n",
       "100                6.3               3.3                6.0               2.5   \n",
       "101                5.8               2.7                5.1               1.9   \n",
       "102                7.1               3.0                5.9               2.1   \n",
       "103                6.3               2.9                5.6               1.8   \n",
       "104                6.5               3.0                5.8               2.2   \n",
       "\n",
       "     target flower_name  \n",
       "100       2   virginica  \n",
       "101       2   virginica  \n",
       "102       2   virginica  \n",
       "103       2   virginica  \n",
       "104       2   virginica  "
      ]
     },
     "execution_count": 5,
     "metadata": {},
     "output_type": "execute_result"
    }
   ],
   "source": [
    "df2 = df[df.target==2]\n",
    "df2.head()"
   ]
  },
  {
   "cell_type": "markdown",
   "id": "378d5b5f",
   "metadata": {
    "papermill": {
     "duration": 0.004274,
     "end_time": "2025-02-13T18:07:18.390340",
     "exception": false,
     "start_time": "2025-02-13T18:07:18.386066",
     "status": "completed"
    },
    "tags": []
   },
   "source": [
    "# *Dataset Analysis*"
   ]
  },
  {
   "cell_type": "code",
   "execution_count": 6,
   "id": "3695a707",
   "metadata": {
    "execution": {
     "iopub.execute_input": "2025-02-13T18:07:18.400247Z",
     "iopub.status.busy": "2025-02-13T18:07:18.399914Z",
     "iopub.status.idle": "2025-02-13T18:07:20.071034Z",
     "shell.execute_reply": "2025-02-13T18:07:20.069702Z"
    },
    "papermill": {
     "duration": 1.678281,
     "end_time": "2025-02-13T18:07:20.072949",
     "exception": false,
     "start_time": "2025-02-13T18:07:18.394668",
     "status": "completed"
    },
    "tags": []
   },
   "outputs": [],
   "source": [
    "import matplotlib.pyplot as plt\n",
    "import seaborn as sns"
   ]
  },
  {
   "cell_type": "code",
   "execution_count": 7,
   "id": "6620e3f4",
   "metadata": {
    "execution": {
     "iopub.execute_input": "2025-02-13T18:07:20.087049Z",
     "iopub.status.busy": "2025-02-13T18:07:20.086530Z",
     "iopub.status.idle": "2025-02-13T18:07:20.341563Z",
     "shell.execute_reply": "2025-02-13T18:07:20.340463Z"
    },
    "papermill": {
     "duration": 0.263138,
     "end_time": "2025-02-13T18:07:20.343038",
     "exception": false,
     "start_time": "2025-02-13T18:07:20.079900",
     "status": "completed"
    },
    "tags": []
   },
   "outputs": [
    {
     "data": {
      "text/plain": [
       "Text(0, 0.5, 'width')"
      ]
     },
     "execution_count": 7,
     "metadata": {},
     "output_type": "execute_result"
    },
    {
     "data": {
      "image/png": "[encoded data removed]",
      "text/plain": [
       "<Figure size 640x480 with 1 Axes>"
      ]
     },
     "metadata": {},
     "output_type": "display_data"
    }
   ],
   "source": [
    "plt.scatter(df0['sepal length (cm)'],df0['sepal width (cm)'])\n",
    "plt.scatter(df1['sepal length (cm)'],df1['sepal width (cm)'])\n",
    "plt.xlabel('length')\n",
    "plt.ylabel('width')"
   ]
  },
  {
   "cell_type": "code",
   "execution_count": 8,
   "id": "df85b38e",
   "metadata": {
    "execution": {
     "iopub.execute_input": "2025-02-13T18:07:20.354450Z",
     "iopub.status.busy": "2025-02-13T18:07:20.354107Z",
     "iopub.status.idle": "2025-02-13T18:07:20.508432Z",
     "shell.execute_reply": "2025-02-13T18:07:20.507056Z"
    },
    "papermill": {
     "duration": 0.16232,
     "end_time": "2025-02-13T18:07:20.510596",
     "exception": false,
     "start_time": "2025-02-13T18:07:20.348276",
     "status": "completed"
    },
    "tags": []
   },
   "outputs": [
    {
     "data": {
      "text/plain": [
       "Text(0, 0.5, 'width')"
      ]
     },
     "execution_count": 8,
     "metadata": {},
     "output_type": "execute_result"
    },
    {
     "data": {
      "image/png": "[encoded data removed]",
      "text/plain": [
       "<Figure size 640x480 with 1 Axes>"
      ]
     },
     "metadata": {},
     "output_type": "display_data"
    }
   ],
   "source": [
    "plt.scatter(df0['petal length (cm)'],df0['petal width (cm)'])\n",
    "plt.scatter(df1['petal length (cm)'],df1['petal width (cm)'])\n",
    "plt.xlabel('length')\n",
    "plt.ylabel('width')"
   ]
  },
  {
   "cell_type": "markdown",
   "id": "a002d8c6",
   "metadata": {
    "papermill": {
     "duration": 0.005747,
     "end_time": "2025-02-13T18:07:20.522494",
     "exception": false,
     "start_time": "2025-02-13T18:07:20.516747",
     "status": "completed"
    },
    "tags": []
   },
   "source": [
    "# *X & y dataframes for splitting*"
   ]
  },
  {
   "cell_type": "code",
   "execution_count": 9,
   "id": "d6015475",
   "metadata": {
    "execution": {
     "iopub.execute_input": "2025-02-13T18:07:20.534897Z",
     "iopub.status.busy": "2025-02-13T18:07:20.534564Z",
     "iopub.status.idle": "2025-02-13T18:07:20.544817Z",
     "shell.execute_reply": "2025-02-13T18:07:20.543969Z"
    },
    "papermill": {
     "duration": 0.018376,
     "end_time": "2025-02-13T18:07:20.546444",
     "exception": false,
     "start_time": "2025-02-13T18:07:20.528068",
     "status": "completed"
    },
    "tags": []
   },
   "outputs": [
    {
     "data": {
      "text/html": [
       "<div>\n",
       "<style scoped>\n",
       "    .dataframe tbody tr th:only-of-type {\n",
       "        vertical-align: middle;\n",
       "    }\n",
       "\n",
       "    .dataframe tbody tr th {\n",
       "        vertical-align: top;\n",
       "    }\n",
       "\n",
       "    .dataframe thead th {\n",
       "        text-align: right;\n",
       "    }\n",
       "</style>\n",
       "<table border=\"1\" class=\"dataframe\">\n",
       "  <thead>\n",
       "    <tr style=\"text-align: right;\">\n",
       "      <th></th>\n",
       "      <th>sepal length (cm)</th>\n",
       "      <th>sepal width (cm)</th>\n",
       "      <th>petal length (cm)</th>\n",
       "      <th>petal width (cm)</th>\n",
       "    </tr>\n",
       "  </thead>\n",
       "  <tbody>\n",
       "    <tr>\n",
       "      <th>0</th>\n",
       "      <td>5.1</td>\n",
       "      <td>3.5</td>\n",
       "      <td>1.4</td>\n",
       "      <td>0.2</td>\n",
       "    </tr>\n",
       "    <tr>\n",
       "      <th>1</th>\n",
       "      <td>4.9</td>\n",
       "      <td>3.0</td>\n",
       "      <td>1.4</td>\n",
       "      <td>0.2</td>\n",
       "    </tr>\n",
       "    <tr>\n",
       "      <th>2</th>\n",
       "      <td>4.7</td>\n",
       "      <td>3.2</td>\n",
       "      <td>1.3</td>\n",
       "      <td>0.2</td>\n",
       "    </tr>\n",
       "    <tr>\n",
       "      <th>3</th>\n",
       "      <td>4.6</td>\n",
       "      <td>3.1</td>\n",
       "      <td>1.5</td>\n",
       "      <td>0.2</td>\n",
       "    </tr>\n",
       "    <tr>\n",
       "      <th>4</th>\n",
       "      <td>5.0</td>\n",
       "      <td>3.6</td>\n",
       "      <td>1.4</td>\n",
       "      <td>0.2</td>\n",
       "    </tr>\n",
       "  </tbody>\n",
       "</table>\n",
       "</div>"
      ],
      "text/plain": [
       "   sepal length (cm)  sepal width (cm)  petal length (cm)  petal width (cm)\n",
       "0                5.1               3.5                1.4               0.2\n",
       "1                4.9               3.0                1.4               0.2\n",
       "2                4.7               3.2                1.3               0.2\n",
       "3                4.6               3.1                1.5               0.2\n",
       "4                5.0               3.6                1.4               0.2"
      ]
     },
     "execution_count": 9,
     "metadata": {},
     "output_type": "execute_result"
    }
   ],
   "source": [
    "X = df.drop(columns=['target','flower_name'])\n",
    "X.head()"
   ]
  },
  {
   "cell_type": "code",
   "execution_count": 10,
   "id": "bede61ec",
   "metadata": {
    "execution": {
     "iopub.execute_input": "2025-02-13T18:07:20.559271Z",
     "iopub.status.busy": "2025-02-13T18:07:20.558906Z",
     "iopub.status.idle": "2025-02-13T18:07:20.564802Z",
     "shell.execute_reply": "2025-02-13T18:07:20.563607Z"
    },
    "papermill": {
     "duration": 0.0137,
     "end_time": "2025-02-13T18:07:20.566281",
     "exception": false,
     "start_time": "2025-02-13T18:07:20.552581",
     "status": "completed"
    },
    "tags": []
   },
   "outputs": [
    {
     "data": {
      "text/plain": [
       "0    0\n",
       "1    0\n",
       "2    0\n",
       "3    0\n",
       "4    0\n",
       "Name: target, dtype: int64"
      ]
     },
     "execution_count": 10,
     "metadata": {},
     "output_type": "execute_result"
    }
   ],
   "source": [
    "y = df.target\n",
    "y.head()"
   ]
  },
  {
   "cell_type": "markdown",
   "id": "f68cb331",
   "metadata": {
    "papermill": {
     "duration": 0.00548,
     "end_time": "2025-02-13T18:07:20.577971",
     "exception": false,
     "start_time": "2025-02-13T18:07:20.572491",
     "status": "completed"
    },
    "tags": []
   },
   "source": [
    "# *Splitting dataset*"
   ]
  },
  {
   "cell_type": "code",
   "execution_count": 11,
   "id": "1424cbc3",
   "metadata": {
    "execution": {
     "iopub.execute_input": "2025-02-13T18:07:20.591725Z",
     "iopub.status.busy": "2025-02-13T18:07:20.591399Z",
     "iopub.status.idle": "2025-02-13T18:07:20.895080Z",
     "shell.execute_reply": "2025-02-13T18:07:20.894117Z"
    },
    "papermill": {
     "duration": 0.313445,
     "end_time": "2025-02-13T18:07:20.897032",
     "exception": false,
     "start_time": "2025-02-13T18:07:20.583587",
     "status": "completed"
    },
    "tags": []
   },
   "outputs": [],
   "source": [
    "from sklearn.model_selection import train_test_split"
   ]
  },
  {
   "cell_type": "code",
   "execution_count": 12,
   "id": "bf65cf3b",
   "metadata": {
    "execution": {
     "iopub.execute_input": "2025-02-13T18:07:20.911261Z",
     "iopub.status.busy": "2025-02-13T18:07:20.910890Z",
     "iopub.status.idle": "2025-02-13T18:07:20.918045Z",
     "shell.execute_reply": "2025-02-13T18:07:20.916807Z"
    },
    "papermill": {
     "duration": 0.016521,
     "end_time": "2025-02-13T18:07:20.919743",
     "exception": false,
     "start_time": "2025-02-13T18:07:20.903222",
     "status": "completed"
    },
    "tags": []
   },
   "outputs": [],
   "source": [
    "X_train,X_test,y_train,y_test = train_test_split(X,y,test_size=0.2,random_state=42)"
   ]
  },
  {
   "cell_type": "code",
   "execution_count": 13,
   "id": "c2f5accc",
   "metadata": {
    "execution": {
     "iopub.execute_input": "2025-02-13T18:07:20.932374Z",
     "iopub.status.busy": "2025-02-13T18:07:20.931993Z",
     "iopub.status.idle": "2025-02-13T18:07:20.943440Z",
     "shell.execute_reply": "2025-02-13T18:07:20.942176Z"
    },
    "papermill": {
     "duration": 0.019806,
     "end_time": "2025-02-13T18:07:20.945416",
     "exception": false,
     "start_time": "2025-02-13T18:07:20.925610",
     "status": "completed"
    },
    "tags": []
   },
   "outputs": [
    {
     "data": {
      "text/html": [
       "<div>\n",
       "<style scoped>\n",
       "    .dataframe tbody tr th:only-of-type {\n",
       "        vertical-align: middle;\n",
       "    }\n",
       "\n",
       "    .dataframe tbody tr th {\n",
       "        vertical-align: top;\n",
       "    }\n",
       "\n",
       "    .dataframe thead th {\n",
       "        text-align: right;\n",
       "    }\n",
       "</style>\n",
       "<table border=\"1\" class=\"dataframe\">\n",
       "  <thead>\n",
       "    <tr style=\"text-align: right;\">\n",
       "      <th></th>\n",
       "      <th>sepal length (cm)</th>\n",
       "      <th>sepal width (cm)</th>\n",
       "      <th>petal length (cm)</th>\n",
       "      <th>petal width (cm)</th>\n",
       "    </tr>\n",
       "  </thead>\n",
       "  <tbody>\n",
       "    <tr>\n",
       "      <th>22</th>\n",
       "      <td>4.6</td>\n",
       "      <td>3.6</td>\n",
       "      <td>1.0</td>\n",
       "      <td>0.2</td>\n",
       "    </tr>\n",
       "    <tr>\n",
       "      <th>15</th>\n",
       "      <td>5.7</td>\n",
       "      <td>4.4</td>\n",
       "      <td>1.5</td>\n",
       "      <td>0.4</td>\n",
       "    </tr>\n",
       "    <tr>\n",
       "      <th>65</th>\n",
       "      <td>6.7</td>\n",
       "      <td>3.1</td>\n",
       "      <td>4.4</td>\n",
       "      <td>1.4</td>\n",
       "    </tr>\n",
       "    <tr>\n",
       "      <th>11</th>\n",
       "      <td>4.8</td>\n",
       "      <td>3.4</td>\n",
       "      <td>1.6</td>\n",
       "      <td>0.2</td>\n",
       "    </tr>\n",
       "    <tr>\n",
       "      <th>42</th>\n",
       "      <td>4.4</td>\n",
       "      <td>3.2</td>\n",
       "      <td>1.3</td>\n",
       "      <td>0.2</td>\n",
       "    </tr>\n",
       "    <tr>\n",
       "      <th>...</th>\n",
       "      <td>...</td>\n",
       "      <td>...</td>\n",
       "      <td>...</td>\n",
       "      <td>...</td>\n",
       "    </tr>\n",
       "    <tr>\n",
       "      <th>71</th>\n",
       "      <td>6.1</td>\n",
       "      <td>2.8</td>\n",
       "      <td>4.0</td>\n",
       "      <td>1.3</td>\n",
       "    </tr>\n",
       "    <tr>\n",
       "      <th>106</th>\n",
       "      <td>4.9</td>\n",
       "      <td>2.5</td>\n",
       "      <td>4.5</td>\n",
       "      <td>1.7</td>\n",
       "    </tr>\n",
       "    <tr>\n",
       "      <th>14</th>\n",
       "      <td>5.8</td>\n",
       "      <td>4.0</td>\n",
       "      <td>1.2</td>\n",
       "      <td>0.2</td>\n",
       "    </tr>\n",
       "    <tr>\n",
       "      <th>92</th>\n",
       "      <td>5.8</td>\n",
       "      <td>2.6</td>\n",
       "      <td>4.0</td>\n",
       "      <td>1.2</td>\n",
       "    </tr>\n",
       "    <tr>\n",
       "      <th>102</th>\n",
       "      <td>7.1</td>\n",
       "      <td>3.0</td>\n",
       "      <td>5.9</td>\n",
       "      <td>2.1</td>\n",
       "    </tr>\n",
       "  </tbody>\n",
       "</table>\n",
       "<p>120 rows × 4 columns</p>\n",
       "</div>"
      ],
      "text/plain": [
       "     sepal length (cm)  sepal width (cm)  petal length (cm)  petal width (cm)\n",
       "22                 4.6               3.6                1.0               0.2\n",
       "15                 5.7               4.4                1.5               0.4\n",
       "65                 6.7               3.1                4.4               1.4\n",
       "11                 4.8               3.4                1.6               0.2\n",
       "42                 4.4               3.2                1.3               0.2\n",
       "..                 ...               ...                ...               ...\n",
       "71                 6.1               2.8                4.0               1.3\n",
       "106                4.9               2.5                4.5               1.7\n",
       "14                 5.8               4.0                1.2               0.2\n",
       "92                 5.8               2.6                4.0               1.2\n",
       "102                7.1               3.0                5.9               2.1\n",
       "\n",
       "[120 rows x 4 columns]"
      ]
     },
     "execution_count": 13,
     "metadata": {},
     "output_type": "execute_result"
    }
   ],
   "source": [
    "X_train"
   ]
  },
  {
   "cell_type": "code",
   "execution_count": 14,
   "id": "b1245c9d",
   "metadata": {
    "execution": {
     "iopub.execute_input": "2025-02-13T18:07:20.959028Z",
     "iopub.status.busy": "2025-02-13T18:07:20.958632Z",
     "iopub.status.idle": "2025-02-13T18:07:20.966444Z",
     "shell.execute_reply": "2025-02-13T18:07:20.964912Z"
    },
    "papermill": {
     "duration": 0.016655,
     "end_time": "2025-02-13T18:07:20.968269",
     "exception": false,
     "start_time": "2025-02-13T18:07:20.951614",
     "status": "completed"
    },
    "tags": []
   },
   "outputs": [
    {
     "data": {
      "text/plain": [
       "22     0\n",
       "15     0\n",
       "65     1\n",
       "11     0\n",
       "42     0\n",
       "      ..\n",
       "71     1\n",
       "106    2\n",
       "14     0\n",
       "92     1\n",
       "102    2\n",
       "Name: target, Length: 120, dtype: int64"
      ]
     },
     "execution_count": 14,
     "metadata": {},
     "output_type": "execute_result"
    }
   ],
   "source": [
    "y_train"
   ]
  },
  {
   "cell_type": "markdown",
   "id": "a4d76a63",
   "metadata": {
    "papermill": {
     "duration": 0.005597,
     "end_time": "2025-02-13T18:07:20.980307",
     "exception": false,
     "start_time": "2025-02-13T18:07:20.974710",
     "status": "completed"
    },
    "tags": []
   },
   "source": [
    "# *Model training and testing*"
   ]
  },
  {
   "cell_type": "code",
   "execution_count": 15,
   "id": "8481b3bc",
   "metadata": {
    "execution": {
     "iopub.execute_input": "2025-02-13T18:07:20.993298Z",
     "iopub.status.busy": "2025-02-13T18:07:20.992943Z",
     "iopub.status.idle": "2025-02-13T18:07:21.112115Z",
     "shell.execute_reply": "2025-02-13T18:07:21.110310Z"
    },
    "papermill": {
     "duration": 0.127662,
     "end_time": "2025-02-13T18:07:21.113941",
     "exception": false,
     "start_time": "2025-02-13T18:07:20.986279",
     "status": "completed"
    },
    "tags": []
   },
   "outputs": [],
   "source": [
    "from sklearn.svm import SVC"
   ]
  },
  {
   "cell_type": "code",
   "execution_count": 16,
   "id": "50239442",
   "metadata": {
    "execution": {
     "iopub.execute_input": "2025-02-13T18:07:21.127748Z",
     "iopub.status.busy": "2025-02-13T18:07:21.127424Z",
     "iopub.status.idle": "2025-02-13T18:07:21.131840Z",
     "shell.execute_reply": "2025-02-13T18:07:21.130391Z"
    },
    "papermill": {
     "duration": 0.013527,
     "end_time": "2025-02-13T18:07:21.133966",
     "exception": false,
     "start_time": "2025-02-13T18:07:21.120439",
     "status": "completed"
    },
    "tags": []
   },
   "outputs": [],
   "source": [
    "model = SVC()"
   ]
  },
  {
   "cell_type": "code",
   "execution_count": 17,
   "id": "5cf9962b",
   "metadata": {
    "execution": {
     "iopub.execute_input": "2025-02-13T18:07:21.147581Z",
     "iopub.status.busy": "2025-02-13T18:07:21.147214Z",
     "iopub.status.idle": "2025-02-13T18:07:21.164535Z",
     "shell.execute_reply": "2025-02-13T18:07:21.163542Z"
    },
    "papermill": {
     "duration": 0.026247,
     "end_time": "2025-02-13T18:07:21.166540",
     "exception": false,
     "start_time": "2025-02-13T18:07:21.140293",
     "status": "completed"
    },
    "tags": []
   },
   "outputs": [
    {
     "data": {
      "text/html": [
       "<style>#sk-container-id-1 {color: black;background-color: white;}#sk-container-id-1 pre{padding: 0;}#sk-container-id-1 div.sk-toggleable {background-color: white;}#sk-container-id-1 label.sk-toggleable__label {cursor: pointer;display: block;width: 100%;margin-bottom: 0;padding: 0.3em;box-sizing: border-box;text-align: center;}#sk-container-id-1 label.sk-toggleable__label-arrow:before {content: \"▸\";float: left;margin-right: 0.25em;color: #696969;}#sk-container-id-1 label.sk-toggleable__label-arrow:hover:before {color: black;}#sk-container-id-1 div.sk-estimator:hover label.sk-toggleable__label-arrow:before {color: black;}#sk-container-id-1 div.sk-toggleable__content {max-height: 0;max-width: 0;overflow: hidden;text-align: left;background-color: #f0f8ff;}#sk-container-id-1 div.sk-toggleable__content pre {margin: 0.2em;color: black;border-radius: 0.25em;background-color: #f0f8ff;}#sk-container-id-1 input.sk-toggleable__control:checked~div.sk-toggleable__content {max-height: 200px;max-width: 100%;overflow: auto;}#sk-container-id-1 input.sk-toggleable__control:checked~label.sk-toggleable__label-arrow:before {content: \"▾\";}#sk-container-id-1 div.sk-estimator input.sk-toggleable__control:checked~label.sk-toggleable__label {background-color: #d4ebff;}#sk-container-id-1 div.sk-label input.sk-toggleable__control:checked~label.sk-toggleable__label {background-color: #d4ebff;}#sk-container-id-1 input.sk-hidden--visually {border: 0;clip: rect(1px 1px 1px 1px);clip: rect(1px, 1px, 1px, 1px);height: 1px;margin: -1px;overflow: hidden;padding: 0;position: absolute;width: 1px;}#sk-container-id-1 div.sk-estimator {font-family: monospace;background-color: #f0f8ff;border: 1px dotted black;border-radius: 0.25em;box-sizing: border-box;margin-bottom: 0.5em;}#sk-container-id-1 div.sk-estimator:hover {background-color: #d4ebff;}#sk-container-id-1 div.sk-parallel-item::after {content: \"\";width: 100%;border-bottom: 1px solid gray;flex-grow: 1;}#sk-container-id-1 div.sk-label:hover label.sk-toggleable__label {background-color: #d4ebff;}#sk-container-id-1 div.sk-serial::before {content: \"\";position: absolute;border-left: 1px solid gray;box-sizing: border-box;top: 0;bottom: 0;left: 50%;z-index: 0;}#sk-container-id-1 div.sk-serial {display: flex;flex-direction: column;align-items: center;background-color: white;padding-right: 0.2em;padding-left: 0.2em;position: relative;}#sk-container-id-1 div.sk-item {position: relative;z-index: 1;}#sk-container-id-1 div.sk-parallel {display: flex;align-items: stretch;justify-content: center;background-color: white;position: relative;}#sk-container-id-1 div.sk-item::before, #sk-container-id-1 div.sk-parallel-item::before {content: \"\";position: absolute;border-left: 1px solid gray;box-sizing: border-box;top: 0;bottom: 0;left: 50%;z-index: -1;}#sk-container-id-1 div.sk-parallel-item {display: flex;flex-direction: column;z-index: 1;position: relative;background-color: white;}#sk-container-id-1 div.sk-parallel-item:first-child::after {align-self: flex-end;width: 50%;}#sk-container-id-1 div.sk-parallel-item:last-child::after {align-self: flex-start;width: 50%;}#sk-container-id-1 div.sk-parallel-item:only-child::after {width: 0;}#sk-container-id-1 div.sk-dashed-wrapped {border: 1px dashed gray;margin: 0 0.4em 0.5em 0.4em;box-sizing: border-box;padding-bottom: 0.4em;background-color: white;}#sk-container-id-1 div.sk-label label {font-family: monospace;font-weight: bold;display: inline-block;line-height: 1.2em;}#sk-container-id-1 div.sk-label-container {text-align: center;}#sk-container-id-1 div.sk-container {/* jupyter's `normalize.less` sets `[hidden] { display: none; }` but bootstrap.min.css set `[hidden] { display: none !important; }` so we also need the `!important` here to be able to override the default hidden behavior on the sphinx rendered scikit-learn.org. See: https://github.com/scikit-learn/scikit-learn/issues/21755 */display: inline-block !important;position: relative;}#sk-container-id-1 div.sk-text-repr-fallback {display: none;}</style><div id=\"sk-container-id-1\" class=\"sk-top-container\"><div class=\"sk-text-repr-fallback\"><pre>SVC()</pre><b>In a Jupyter environment, please rerun this cell to show the HTML representation or trust the notebook. <br />On GitHub, the HTML representation is unable to render, please try loading this page with nbviewer.org.</b></div><div class=\"sk-container\" hidden><div class=\"sk-item\"><div class=\"sk-estimator sk-toggleable\"><input class=\"sk-toggleable__control sk-hidden--visually\" id=\"sk-estimator-id-1\" type=\"checkbox\" checked><label for=\"sk-estimator-id-1\" class=\"sk-toggleable__label sk-toggleable__label-arrow\">SVC</label><div class=\"sk-toggleable__content\"><pre>SVC()</pre></div></div></div></div></div>"
      ],
      "text/plain": [
       "SVC()"
      ]
     },
     "execution_count": 17,
     "metadata": {},
     "output_type": "execute_result"
    }
   ],
   "source": [
    "model.fit(X_train,y_train)"
   ]
  },
  {
   "cell_type": "code",
   "execution_count": 18,
   "id": "de722437",
   "metadata": {
    "execution": {
     "iopub.execute_input": "2025-02-13T18:07:21.182626Z",
     "iopub.status.busy": "2025-02-13T18:07:21.182227Z",
     "iopub.status.idle": "2025-02-13T18:07:21.188192Z",
     "shell.execute_reply": "2025-02-13T18:07:21.186904Z"
    },
    "papermill": {
     "duration": 0.016368,
     "end_time": "2025-02-13T18:07:21.189774",
     "exception": false,
     "start_time": "2025-02-13T18:07:21.173406",
     "status": "completed"
    },
    "tags": []
   },
   "outputs": [],
   "source": [
    "y_pred = model.predict(X_test)"
   ]
  },
  {
   "cell_type": "code",
   "execution_count": 19,
   "id": "50f2ae80",
   "metadata": {
    "execution": {
     "iopub.execute_input": "2025-02-13T18:07:21.204061Z",
     "iopub.status.busy": "2025-02-13T18:07:21.203680Z",
     "iopub.status.idle": "2025-02-13T18:07:21.209941Z",
     "shell.execute_reply": "2025-02-13T18:07:21.208517Z"
    },
    "papermill": {
     "duration": 0.015342,
     "end_time": "2025-02-13T18:07:21.211741",
     "exception": false,
     "start_time": "2025-02-13T18:07:21.196399",
     "status": "completed"
    },
    "tags": []
   },
   "outputs": [
    {
     "data": {
      "text/plain": [
       "73     1\n",
       "18     0\n",
       "118    2\n",
       "78     1\n",
       "76     1\n",
       "31     0\n",
       "64     1\n",
       "141    2\n",
       "68     1\n",
       "82     1\n",
       "110    2\n",
       "12     0\n",
       "36     0\n",
       "9      0\n",
       "19     0\n",
       "56     1\n",
       "104    2\n",
       "69     1\n",
       "55     1\n",
       "132    2\n",
       "29     0\n",
       "127    2\n",
       "26     0\n",
       "128    2\n",
       "131    2\n",
       "145    2\n",
       "108    2\n",
       "143    2\n",
       "45     0\n",
       "30     0\n",
       "Name: target, dtype: int64"
      ]
     },
     "execution_count": 19,
     "metadata": {},
     "output_type": "execute_result"
    }
   ],
   "source": [
    "y_test"
   ]
  },
  {
   "cell_type": "markdown",
   "id": "2219c15e",
   "metadata": {
    "papermill": {
     "duration": 0.005846,
     "end_time": "2025-02-13T18:07:21.224339",
     "exception": false,
     "start_time": "2025-02-13T18:07:21.218493",
     "status": "completed"
    },
    "tags": []
   },
   "source": [
    "# *Model accuracy on testing data*"
   ]
  },
  {
   "cell_type": "code",
   "execution_count": 20,
   "id": "af64394c",
   "metadata": {
    "execution": {
     "iopub.execute_input": "2025-02-13T18:07:21.238066Z",
     "iopub.status.busy": "2025-02-13T18:07:21.237723Z",
     "iopub.status.idle": "2025-02-13T18:07:21.245196Z",
     "shell.execute_reply": "2025-02-13T18:07:21.243999Z"
    },
    "papermill": {
     "duration": 0.01594,
     "end_time": "2025-02-13T18:07:21.246679",
     "exception": false,
     "start_time": "2025-02-13T18:07:21.230739",
     "status": "completed"
    },
    "tags": []
   },
   "outputs": [
    {
     "data": {
      "text/plain": [
       "1.0"
      ]
     },
     "execution_count": 20,
     "metadata": {},
     "output_type": "execute_result"
    }
   ],
   "source": [
    "model.score(X_test,y_test)"
   ]
  },
  {
   "cell_type": "markdown",
   "id": "cbb18759",
   "metadata": {
    "papermill": {
     "duration": 0.006046,
     "end_time": "2025-02-13T18:07:21.259409",
     "exception": false,
     "start_time": "2025-02-13T18:07:21.253363",
     "status": "completed"
    },
    "tags": []
   },
   "source": [
    "# *Confusion matrix analysis*"
   ]
  },
  {
   "cell_type": "code",
   "execution_count": 21,
   "id": "670eafec",
   "metadata": {
    "execution": {
     "iopub.execute_input": "2025-02-13T18:07:21.272704Z",
     "iopub.status.busy": "2025-02-13T18:07:21.272387Z",
     "iopub.status.idle": "2025-02-13T18:07:21.276977Z",
     "shell.execute_reply": "2025-02-13T18:07:21.275729Z"
    },
    "papermill": {
     "duration": 0.013529,
     "end_time": "2025-02-13T18:07:21.279017",
     "exception": false,
     "start_time": "2025-02-13T18:07:21.265488",
     "status": "completed"
    },
    "tags": []
   },
   "outputs": [],
   "source": [
    "from sklearn.metrics import confusion_matrix"
   ]
  },
  {
   "cell_type": "code",
   "execution_count": 22,
   "id": "8359b857",
   "metadata": {
    "execution": {
     "iopub.execute_input": "2025-02-13T18:07:21.293214Z",
     "iopub.status.busy": "2025-02-13T18:07:21.292850Z",
     "iopub.status.idle": "2025-02-13T18:07:21.299529Z",
     "shell.execute_reply": "2025-02-13T18:07:21.298258Z"
    },
    "papermill": {
     "duration": 0.0156,
     "end_time": "2025-02-13T18:07:21.301484",
     "exception": false,
     "start_time": "2025-02-13T18:07:21.285884",
     "status": "completed"
    },
    "tags": []
   },
   "outputs": [],
   "source": [
    "cm = confusion_matrix(y_test,y_pred)"
   ]
  },
  {
   "cell_type": "code",
   "execution_count": 23,
   "id": "9df94d68",
   "metadata": {
    "execution": {
     "iopub.execute_input": "2025-02-13T18:07:21.316265Z",
     "iopub.status.busy": "2025-02-13T18:07:21.315892Z",
     "iopub.status.idle": "2025-02-13T18:07:21.496044Z",
     "shell.execute_reply": "2025-02-13T18:07:21.494277Z"
    },
    "papermill": {
     "duration": 0.189644,
     "end_time": "2025-02-13T18:07:21.497976",
     "exception": false,
     "start_time": "2025-02-13T18:07:21.308332",
     "status": "completed"
    },
    "tags": []
   },
   "outputs": [
    {
     "data": {
      "text/plain": [
       "Text(50.722222222222214, 0.5, 'truth')"
      ]
     },
     "execution_count": 23,
     "metadata": {},
     "output_type": "execute_result"
    },
    {
     "data": {
      "image/png": "[encoded data removed]",
      "text/plain": [
       "<Figure size 640x480 with 2 Axes>"
      ]
     },
     "metadata": {},
     "output_type": "display_data"
    }
   ],
   "source": [
    "sns.heatmap(cm,annot = True,cmap = 'coolwarm',linewidths=2)\n",
    "plt.xlabel('predicted')\n",
    "plt.ylabel('truth')"
   ]
  }
 ],
 "metadata": {
  "kaggle": {
   "accelerator": "none",
   "dataSources": [
    {
     "datasetId": 6662172,
     "sourceId": 10743158,
     "sourceType": "datasetVersion"
    }
   ],
   "dockerImageVersionId": 30886,
   "isGpuEnabled": false,
   "isInternetEnabled": true,
   "language": "python",
   "sourceType": "notebook"
  },
  "kernelspec": {
   "display_name": "Python 3",
   "language": "python",
   "name": "python3"
  },
  "language_info": {
   "codemirror_mode": {
    "name": "ipython",
    "version": 3
   },
   "file_extension": ".py",
   "mimetype": "text/x-python",
   "name": "python",
   "nbconvert_exporter": "python",
   "pygments_lexer": "ipython3",
   "version": "3.10.12"
  },
  "papermill": {
   "default_parameters": {},
   "duration": 7.428561,
   "end_time": "2025-02-13T18:07:22.225552",
   "environment_variables": {},
   "exception": null,
   "input_path": "__notebook__.ipynb",
   "output_path": "__notebook__.ipynb",
   "parameters": {},
   "start_time": "2025-02-13T18:07:14.796991",
   "version": "2.6.0"
  }
 },
 "nbformat": 4,
 "nbformat_minor": 5
}
