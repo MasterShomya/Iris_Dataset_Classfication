{
 "cells": [
  {
   "cell_type": "markdown",
   "id": "8dc53f94",
   "metadata": {
    "papermill": {
     "duration": 0.004343,
     "end_time": "2025-02-23T09:34:24.814704",
     "exception": false,
     "start_time": "2025-02-23T09:34:24.810361",
     "status": "completed"
    },
    "tags": []
   },
   "source": [
    "# **Importing Required Libraries**"
   ]
  },
  {
   "cell_type": "code",
   "execution_count": 1,
   "id": "d91df5cb",
   "metadata": {
    "_cell_guid": "b1076dfc-b9ad-4769-8c92-a6c4dae69d19",
    "_uuid": "8f2839f25d086af736a60e9eeb907d3b93b6e0e5",
    "execution": {
     "iopub.execute_input": "2025-02-23T09:34:24.824065Z",
     "iopub.status.busy": "2025-02-23T09:34:24.823594Z",
     "iopub.status.idle": "2025-02-23T09:34:25.728921Z",
     "shell.execute_reply": "2025-02-23T09:34:25.727308Z"
    },
    "papermill": {
     "duration": 0.912522,
     "end_time": "2025-02-23T09:34:25.731262",
     "exception": false,
     "start_time": "2025-02-23T09:34:24.818740",
     "status": "completed"
    },
    "tags": []
   },
   "outputs": [
    {
     "name": "stdout",
     "output_type": "stream",
     "text": [
      "/kaggle/input/iris-dataset/Iris_dataset.csv\n"
     ]
    }
   ],
   "source": [
    "import numpy as np\n",
    "import pandas as pd\n",
    "import os\n",
    "for dirname, _, filenames in os.walk('/kaggle/input'):\n",
    "    for filename in filenames:\n",
    "        print(os.path.join(dirname, filename))"
   ]
  },
  {
   "cell_type": "code",
   "execution_count": 2,
   "id": "18b339ac",
   "metadata": {
    "execution": {
     "iopub.execute_input": "2025-02-23T09:34:25.741431Z",
     "iopub.status.busy": "2025-02-23T09:34:25.740555Z",
     "iopub.status.idle": "2025-02-23T09:34:27.794929Z",
     "shell.execute_reply": "2025-02-23T09:34:27.793743Z"
    },
    "papermill": {
     "duration": 2.06151,
     "end_time": "2025-02-23T09:34:27.797008",
     "exception": false,
     "start_time": "2025-02-23T09:34:25.735498",
     "status": "completed"
    },
    "tags": []
   },
   "outputs": [],
   "source": [
    "from sklearn.model_selection import GridSearchCV\n",
    "from sklearn.svm import SVC\n",
    "from sklearn.ensemble import RandomForestClassifier\n",
    "from sklearn.linear_model import LogisticRegression\n",
    "from sklearn.naive_bayes import GaussianNB\n",
    "from sklearn.naive_bayes import MultinomialNB\n",
    "from sklearn.tree import DecisionTreeClassifier"
   ]
  },
  {
   "cell_type": "markdown",
   "id": "23c3b9a4",
   "metadata": {
    "papermill": {
     "duration": 0.003469,
     "end_time": "2025-02-23T09:34:27.804635",
     "exception": false,
     "start_time": "2025-02-23T09:34:27.801166",
     "status": "completed"
    },
    "tags": []
   },
   "source": [
    "# **Reading Dataset**"
   ]
  },
  {
   "cell_type": "code",
   "execution_count": 3,
   "id": "0848d94f",
   "metadata": {
    "execution": {
     "iopub.execute_input": "2025-02-23T09:34:27.813849Z",
     "iopub.status.busy": "2025-02-23T09:34:27.813341Z",
     "iopub.status.idle": "2025-02-23T09:34:27.856387Z",
     "shell.execute_reply": "2025-02-23T09:34:27.855200Z"
    },
    "papermill": {
     "duration": 0.049675,
     "end_time": "2025-02-23T09:34:27.858213",
     "exception": false,
     "start_time": "2025-02-23T09:34:27.808538",
     "status": "completed"
    },
    "tags": []
   },
   "outputs": [
    {
     "data": {
      "text/html": [
       "<div>\n",
       "<style scoped>\n",
       "    .dataframe tbody tr th:only-of-type {\n",
       "        vertical-align: middle;\n",
       "    }\n",
       "\n",
       "    .dataframe tbody tr th {\n",
       "        vertical-align: top;\n",
       "    }\n",
       "\n",
       "    .dataframe thead th {\n",
       "        text-align: right;\n",
       "    }\n",
       "</style>\n",
       "<table border=\"1\" class=\"dataframe\">\n",
       "  <thead>\n",
       "    <tr style=\"text-align: right;\">\n",
       "      <th></th>\n",
       "      <th>sepal length (cm)</th>\n",
       "      <th>sepal width (cm)</th>\n",
       "      <th>petal length (cm)</th>\n",
       "      <th>petal width (cm)</th>\n",
       "      <th>target</th>\n",
       "      <th>flower_name</th>\n",
       "    </tr>\n",
       "  </thead>\n",
       "  <tbody>\n",
       "    <tr>\n",
       "      <th>0</th>\n",
       "      <td>5.1</td>\n",
       "      <td>3.5</td>\n",
       "      <td>1.4</td>\n",
       "      <td>0.2</td>\n",
       "      <td>0</td>\n",
       "      <td>setosa</td>\n",
       "    </tr>\n",
       "    <tr>\n",
       "      <th>1</th>\n",
       "      <td>4.9</td>\n",
       "      <td>3.0</td>\n",
       "      <td>1.4</td>\n",
       "      <td>0.2</td>\n",
       "      <td>0</td>\n",
       "      <td>setosa</td>\n",
       "    </tr>\n",
       "    <tr>\n",
       "      <th>2</th>\n",
       "      <td>4.7</td>\n",
       "      <td>3.2</td>\n",
       "      <td>1.3</td>\n",
       "      <td>0.2</td>\n",
       "      <td>0</td>\n",
       "      <td>setosa</td>\n",
       "    </tr>\n",
       "    <tr>\n",
       "      <th>3</th>\n",
       "      <td>4.6</td>\n",
       "      <td>3.1</td>\n",
       "      <td>1.5</td>\n",
       "      <td>0.2</td>\n",
       "      <td>0</td>\n",
       "      <td>setosa</td>\n",
       "    </tr>\n",
       "    <tr>\n",
       "      <th>4</th>\n",
       "      <td>5.0</td>\n",
       "      <td>3.6</td>\n",
       "      <td>1.4</td>\n",
       "      <td>0.2</td>\n",
       "      <td>0</td>\n",
       "      <td>setosa</td>\n",
       "    </tr>\n",
       "  </tbody>\n",
       "</table>\n",
       "</div>"
      ],
      "text/plain": [
       "   sepal length (cm)  sepal width (cm)  petal length (cm)  petal width (cm)  \\\n",
       "0                5.1               3.5                1.4               0.2   \n",
       "1                4.9               3.0                1.4               0.2   \n",
       "2                4.7               3.2                1.3               0.2   \n",
       "3                4.6               3.1                1.5               0.2   \n",
       "4                5.0               3.6                1.4               0.2   \n",
       "\n",
       "   target flower_name  \n",
       "0       0      setosa  \n",
       "1       0      setosa  \n",
       "2       0      setosa  \n",
       "3       0      setosa  \n",
       "4       0      setosa  "
      ]
     },
     "execution_count": 3,
     "metadata": {},
     "output_type": "execute_result"
    }
   ],
   "source": [
    "df = pd.read_csv('/kaggle/input/iris-dataset/Iris_dataset.csv')\n",
    "df.head()"
   ]
  },
  {
   "cell_type": "markdown",
   "id": "b04874de",
   "metadata": {
    "papermill": {
     "duration": 0.003663,
     "end_time": "2025-02-23T09:34:27.865974",
     "exception": false,
     "start_time": "2025-02-23T09:34:27.862311",
     "status": "completed"
    },
    "tags": []
   },
   "source": [
    "# **X & y for further training and testing**"
   ]
  },
  {
   "cell_type": "code",
   "execution_count": 4,
   "id": "e96504f6",
   "metadata": {
    "execution": {
     "iopub.execute_input": "2025-02-23T09:34:27.875259Z",
     "iopub.status.busy": "2025-02-23T09:34:27.874850Z",
     "iopub.status.idle": "2025-02-23T09:34:27.886567Z",
     "shell.execute_reply": "2025-02-23T09:34:27.885356Z"
    },
    "papermill": {
     "duration": 0.018558,
     "end_time": "2025-02-23T09:34:27.888570",
     "exception": false,
     "start_time": "2025-02-23T09:34:27.870012",
     "status": "completed"
    },
    "tags": []
   },
   "outputs": [],
   "source": [
    "X = df.drop(columns=['target','flower_name'])\n",
    "y = df['target']"
   ]
  },
  {
   "cell_type": "code",
   "execution_count": 5,
   "id": "3d191f27",
   "metadata": {
    "execution": {
     "iopub.execute_input": "2025-02-23T09:34:27.898196Z",
     "iopub.status.busy": "2025-02-23T09:34:27.897765Z",
     "iopub.status.idle": "2025-02-23T09:34:27.910165Z",
     "shell.execute_reply": "2025-02-23T09:34:27.908911Z"
    },
    "papermill": {
     "duration": 0.019206,
     "end_time": "2025-02-23T09:34:27.911945",
     "exception": false,
     "start_time": "2025-02-23T09:34:27.892739",
     "status": "completed"
    },
    "tags": []
   },
   "outputs": [
    {
     "data": {
      "text/html": [
       "<div>\n",
       "<style scoped>\n",
       "    .dataframe tbody tr th:only-of-type {\n",
       "        vertical-align: middle;\n",
       "    }\n",
       "\n",
       "    .dataframe tbody tr th {\n",
       "        vertical-align: top;\n",
       "    }\n",
       "\n",
       "    .dataframe thead th {\n",
       "        text-align: right;\n",
       "    }\n",
       "</style>\n",
       "<table border=\"1\" class=\"dataframe\">\n",
       "  <thead>\n",
       "    <tr style=\"text-align: right;\">\n",
       "      <th></th>\n",
       "      <th>sepal length (cm)</th>\n",
       "      <th>sepal width (cm)</th>\n",
       "      <th>petal length (cm)</th>\n",
       "      <th>petal width (cm)</th>\n",
       "    </tr>\n",
       "  </thead>\n",
       "  <tbody>\n",
       "    <tr>\n",
       "      <th>0</th>\n",
       "      <td>5.1</td>\n",
       "      <td>3.5</td>\n",
       "      <td>1.4</td>\n",
       "      <td>0.2</td>\n",
       "    </tr>\n",
       "    <tr>\n",
       "      <th>1</th>\n",
       "      <td>4.9</td>\n",
       "      <td>3.0</td>\n",
       "      <td>1.4</td>\n",
       "      <td>0.2</td>\n",
       "    </tr>\n",
       "    <tr>\n",
       "      <th>2</th>\n",
       "      <td>4.7</td>\n",
       "      <td>3.2</td>\n",
       "      <td>1.3</td>\n",
       "      <td>0.2</td>\n",
       "    </tr>\n",
       "    <tr>\n",
       "      <th>3</th>\n",
       "      <td>4.6</td>\n",
       "      <td>3.1</td>\n",
       "      <td>1.5</td>\n",
       "      <td>0.2</td>\n",
       "    </tr>\n",
       "    <tr>\n",
       "      <th>4</th>\n",
       "      <td>5.0</td>\n",
       "      <td>3.6</td>\n",
       "      <td>1.4</td>\n",
       "      <td>0.2</td>\n",
       "    </tr>\n",
       "  </tbody>\n",
       "</table>\n",
       "</div>"
      ],
      "text/plain": [
       "   sepal length (cm)  sepal width (cm)  petal length (cm)  petal width (cm)\n",
       "0                5.1               3.5                1.4               0.2\n",
       "1                4.9               3.0                1.4               0.2\n",
       "2                4.7               3.2                1.3               0.2\n",
       "3                4.6               3.1                1.5               0.2\n",
       "4                5.0               3.6                1.4               0.2"
      ]
     },
     "execution_count": 5,
     "metadata": {},
     "output_type": "execute_result"
    }
   ],
   "source": [
    "X.head()"
   ]
  },
  {
   "cell_type": "code",
   "execution_count": 6,
   "id": "92b9fdb4",
   "metadata": {
    "execution": {
     "iopub.execute_input": "2025-02-23T09:34:27.921989Z",
     "iopub.status.busy": "2025-02-23T09:34:27.921581Z",
     "iopub.status.idle": "2025-02-23T09:34:27.928852Z",
     "shell.execute_reply": "2025-02-23T09:34:27.927696Z"
    },
    "papermill": {
     "duration": 0.014628,
     "end_time": "2025-02-23T09:34:27.931075",
     "exception": false,
     "start_time": "2025-02-23T09:34:27.916447",
     "status": "completed"
    },
    "tags": []
   },
   "outputs": [
    {
     "data": {
      "text/plain": [
       "0    0\n",
       "1    0\n",
       "2    0\n",
       "3    0\n",
       "4    0\n",
       "Name: target, dtype: int64"
      ]
     },
     "execution_count": 6,
     "metadata": {},
     "output_type": "execute_result"
    }
   ],
   "source": [
    "y.head()"
   ]
  },
  {
   "cell_type": "markdown",
   "id": "e4068a77",
   "metadata": {
    "papermill": {
     "duration": 0.004545,
     "end_time": "2025-02-23T09:34:27.940531",
     "exception": false,
     "start_time": "2025-02-23T09:34:27.935986",
     "status": "completed"
    },
    "tags": []
   },
   "source": [
    "# **Different Models and their parameters**"
   ]
  },
  {
   "cell_type": "code",
   "execution_count": 7,
   "id": "a80b055e",
   "metadata": {
    "execution": {
     "iopub.execute_input": "2025-02-23T09:34:27.952224Z",
     "iopub.status.busy": "2025-02-23T09:34:27.951814Z",
     "iopub.status.idle": "2025-02-23T09:34:27.958364Z",
     "shell.execute_reply": "2025-02-23T09:34:27.957160Z"
    },
    "papermill": {
     "duration": 0.014432,
     "end_time": "2025-02-23T09:34:27.960258",
     "exception": false,
     "start_time": "2025-02-23T09:34:27.945826",
     "status": "completed"
    },
    "tags": []
   },
   "outputs": [],
   "source": [
    "model_param = {\n",
    "    'svm':{\n",
    "        'model':SVC(gamma='auto'),\n",
    "        'params':{\n",
    "            'C':[1,10,20],\n",
    "            'kernel':['linear','rbf']\n",
    "        }\n",
    "    },\n",
    "    'random forest':{\n",
    "        'model':RandomForestClassifier(),\n",
    "        'params':{\n",
    "            'n_estimators':[1,10,20]\n",
    "        }\n",
    "    },\n",
    "    'Logistic Regression':{\n",
    "        'model':LogisticRegression(solver='liblinear',multi_class='auto'),\n",
    "        'params':{\n",
    "            'C':[1,10,20]\n",
    "        }\n",
    "    },\n",
    "    'Gaussian NB':{\n",
    "        'model':GaussianNB(),\n",
    "        'params':{}\n",
    "    },\n",
    "    'Multinomial NB':{\n",
    "        'model':MultinomialNB(),\n",
    "        'params':{}\n",
    "    },\n",
    "    'decision tree':{\n",
    "        'model':DecisionTreeClassifier(),\n",
    "        'params':{\n",
    "            'criterion':['gini','entropy']\n",
    "        }\n",
    "    }\n",
    "}"
   ]
  },
  {
   "cell_type": "markdown",
   "id": "ea80df68",
   "metadata": {
    "papermill": {
     "duration": 0.004064,
     "end_time": "2025-02-23T09:34:27.968845",
     "exception": false,
     "start_time": "2025-02-23T09:34:27.964781",
     "status": "completed"
    },
    "tags": []
   },
   "source": [
    "# **Hyperparameter tuning and choosing best model**"
   ]
  },
  {
   "cell_type": "code",
   "execution_count": 8,
   "id": "fb1acc51",
   "metadata": {
    "execution": {
     "iopub.execute_input": "2025-02-23T09:34:27.978993Z",
     "iopub.status.busy": "2025-02-23T09:34:27.978604Z",
     "iopub.status.idle": "2025-02-23T09:34:28.714172Z",
     "shell.execute_reply": "2025-02-23T09:34:28.712830Z"
    },
    "papermill": {
     "duration": 0.742838,
     "end_time": "2025-02-23T09:34:28.716073",
     "exception": false,
     "start_time": "2025-02-23T09:34:27.973235",
     "status": "completed"
    },
    "tags": []
   },
   "outputs": [
    {
     "name": "stdout",
     "output_type": "stream",
     "text": [
      "                 model     score                        params\n",
      "0                  svm  0.980000  {'C': 1, 'kernel': 'linear'}\n",
      "1        random forest  0.966667          {'n_estimators': 20}\n",
      "2  Logistic Regression  0.966667                     {'C': 10}\n",
      "3          Gaussian NB  0.953333                            {}\n",
      "4       Multinomial NB  0.953333                            {}\n",
      "5        decision tree  0.966667         {'criterion': 'gini'}\n"
     ]
    }
   ],
   "source": [
    "scores = []\n",
    "for model_name,mp in model_param.items():\n",
    "    clf = GridSearchCV(mp['model'],mp['params'],cv=5,return_train_score=False)\n",
    "    clf.fit(X,y)\n",
    "    scores.append({\n",
    "        'model':model_name,\n",
    "        'score':clf.best_score_,\n",
    "        'params':clf.best_params_,\n",
    "    })\n",
    "result = pd.DataFrame(scores,columns=['model','score','params'])\n",
    "print(result)"
   ]
  },
  {
   "cell_type": "markdown",
   "id": "ccf0a40a",
   "metadata": {
    "papermill": {
     "duration": 0.00417,
     "end_time": "2025-02-23T09:34:28.724811",
     "exception": false,
     "start_time": "2025-02-23T09:34:28.720641",
     "status": "completed"
    },
    "tags": []
   },
   "source": [
    "**Best model is as you can see SVM with parameters like c=1,kernel=linear .**"
   ]
  },
  {
   "cell_type": "markdown",
   "id": "43eb5952",
   "metadata": {
    "papermill": {
     "duration": 0.005823,
     "end_time": "2025-02-23T09:34:28.736498",
     "exception": false,
     "start_time": "2025-02-23T09:34:28.730675",
     "status": "completed"
    },
    "tags": []
   },
   "source": [
    "# 📌 Model Selection and Hyperparameter Tuning using GridSearchCV\n",
    "\n",
    "\n",
    "🔹 This code performs model selection and hyperparameter tuning using `GridSearchCV`. \n",
    "   It evaluates multiple machine learning models and finds the best hyperparameters for each.\n",
    "\n",
    "### 🔍 Step-by-Step Explanation:\n",
    "\n",
    "1️⃣ **Define model parameters (`model_param`)**  \n",
    "   - We create a dictionary where each key is a model name and the value is another dictionary containing:  \n",
    "     - `model`: The machine learning model instance.  \n",
    "     - `params`: The hyperparameter grid to search over.  \n",
    "   - Models used:  \n",
    "     - **SVM** (Support Vector Machine)  \n",
    "     - **Random Forest Classifier**  \n",
    "     - **Logistic Regression**  \n",
    "     - **Gaussian Naive Bayes**  \n",
    "     - **Multinomial Naive Bayes**  \n",
    "     - **Decision Tree Classifier**  \n",
    "\n",
    "2️⃣ **Iterate through each model and perform Grid Search**  \n",
    "   - We loop through `model_param.items()` to access each model and its hyperparameters.  \n",
    "   - `GridSearchCV` is applied to:\n",
    "     - Train the model using cross-validation (`cv=5`).\n",
    "     - Find the best combination of hyperparameters.  \n",
    "   - The best score and parameters are stored in a list named `scores`.  \n",
    "\n",
    "3️⃣ **Create a DataFrame to display results**  \n",
    "   - A Pandas DataFrame (`result`) is created from the `scores` list.  \n",
    "   - It contains:\n",
    "     - `model`: The model name.\n",
    "     - `score`: The best accuracy score from `GridSearchCV`.\n",
    "     - `params`: The best hyperparameters found.  \n",
    "   - Finally, we print the DataFrame to compare model performances.\n",
    "\n",
    "### 🚀 Outcome:  \n",
    "This code helps us determine which model performs best on our dataset and which hyperparameters yield the best results.\n"
   ]
  },
  {
   "cell_type": "markdown",
   "id": "dad8dcb6",
   "metadata": {
    "papermill": {
     "duration": 0.006014,
     "end_time": "2025-02-23T09:34:28.748710",
     "exception": false,
     "start_time": "2025-02-23T09:34:28.742696",
     "status": "completed"
    },
    "tags": []
   },
   "source": [
    "![](https://i.imgflip.com/55nb8c.jpg)"
   ]
  },
  {
   "cell_type": "markdown",
   "id": "2c58ea38",
   "metadata": {
    "papermill": {
     "duration": 0.004051,
     "end_time": "2025-02-23T09:34:28.758078",
     "exception": false,
     "start_time": "2025-02-23T09:34:28.754027",
     "status": "completed"
    },
    "tags": []
   },
   "source": [
    "# **Pweaseeee Upvote Me!!!!**"
   ]
  }
 ],
 "metadata": {
  "kaggle": {
   "accelerator": "none",
   "dataSources": [
    {
     "datasetId": 6662172,
     "sourceId": 10743158,
     "sourceType": "datasetVersion"
    }
   ],
   "dockerImageVersionId": 30918,
   "isGpuEnabled": false,
   "isInternetEnabled": true,
   "language": "python",
   "sourceType": "notebook"
  },
  "kernelspec": {
   "display_name": "Python 3",
   "language": "python",
   "name": "python3"
  },
  "language_info": {
   "codemirror_mode": {
    "name": "ipython",
    "version": 3
   },
   "file_extension": ".py",
   "mimetype": "text/x-python",
   "name": "python",
   "nbconvert_exporter": "python",
   "pygments_lexer": "ipython3",
   "version": "3.10.12"
  },
  "papermill": {
   "default_parameters": {},
   "duration": 8.193434,
   "end_time": "2025-02-23T09:34:29.586353",
   "environment_variables": {},
   "exception": null,
   "input_path": "__notebook__.ipynb",
   "output_path": "__notebook__.ipynb",
   "parameters": {},
   "start_time": "2025-02-23T09:34:21.392919",
   "version": "2.6.0"
  }
 },
 "nbformat": 4,
 "nbformat_minor": 5
}
