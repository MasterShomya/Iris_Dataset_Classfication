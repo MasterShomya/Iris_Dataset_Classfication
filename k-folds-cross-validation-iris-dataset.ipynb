{
 "cells": [
  {
   "cell_type": "code",
   "execution_count": 1,
   "id": "0d7f9607",
   "metadata": {
    "_cell_guid": "b1076dfc-b9ad-4769-8c92-a6c4dae69d19",
    "_uuid": "8f2839f25d086af736a60e9eeb907d3b93b6e0e5",
    "execution": {
     "iopub.execute_input": "2025-02-15T12:31:50.470794Z",
     "iopub.status.busy": "2025-02-15T12:31:50.470294Z",
     "iopub.status.idle": "2025-02-15T12:31:53.332043Z",
     "shell.execute_reply": "2025-02-15T12:31:53.330283Z"
    },
    "papermill": {
     "duration": 2.873178,
     "end_time": "2025-02-15T12:31:53.334757",
     "exception": false,
     "start_time": "2025-02-15T12:31:50.461579",
     "status": "completed"
    },
    "tags": []
   },
   "outputs": [
    {
     "name": "stdout",
     "output_type": "stream",
     "text": [
      "/kaggle/input/iris-dataset/Iris_dataset.csv\n"
     ]
    }
   ],
   "source": [
    "import numpy as np\n",
    "import pandas as pd\n",
    "import matplotlib.pyplot as plt\n",
    "import seaborn as sns\n",
    "import os\n",
    "for dirname, _, filenames in os.walk('/kaggle/input'):\n",
    "    for filename in filenames:\n",
    "        print(os.path.join(dirname, filename))"
   ]
  },
  {
   "cell_type": "markdown",
   "id": "525a277f",
   "metadata": {
    "papermill": {
     "duration": 0.005732,
     "end_time": "2025-02-15T12:31:53.347110",
     "exception": false,
     "start_time": "2025-02-15T12:31:53.341378",
     "status": "completed"
    },
    "tags": []
   },
   "source": [
    "# *Reading Dataset*"
   ]
  },
  {
   "cell_type": "code",
   "execution_count": 2,
   "id": "c79ed0d7",
   "metadata": {
    "execution": {
     "iopub.execute_input": "2025-02-15T12:31:53.361503Z",
     "iopub.status.busy": "2025-02-15T12:31:53.360949Z",
     "iopub.status.idle": "2025-02-15T12:31:53.403879Z",
     "shell.execute_reply": "2025-02-15T12:31:53.402224Z"
    },
    "papermill": {
     "duration": 0.052674,
     "end_time": "2025-02-15T12:31:53.405988",
     "exception": false,
     "start_time": "2025-02-15T12:31:53.353314",
     "status": "completed"
    },
    "tags": []
   },
   "outputs": [
    {
     "data": {
      "text/html": [
       "<div>\n",
       "<style scoped>\n",
       "    .dataframe tbody tr th:only-of-type {\n",
       "        vertical-align: middle;\n",
       "    }\n",
       "\n",
       "    .dataframe tbody tr th {\n",
       "        vertical-align: top;\n",
       "    }\n",
       "\n",
       "    .dataframe thead th {\n",
       "        text-align: right;\n",
       "    }\n",
       "</style>\n",
       "<table border=\"1\" class=\"dataframe\">\n",
       "  <thead>\n",
       "    <tr style=\"text-align: right;\">\n",
       "      <th></th>\n",
       "      <th>sepal length (cm)</th>\n",
       "      <th>sepal width (cm)</th>\n",
       "      <th>petal length (cm)</th>\n",
       "      <th>petal width (cm)</th>\n",
       "      <th>target</th>\n",
       "      <th>flower_name</th>\n",
       "    </tr>\n",
       "  </thead>\n",
       "  <tbody>\n",
       "    <tr>\n",
       "      <th>0</th>\n",
       "      <td>5.1</td>\n",
       "      <td>3.5</td>\n",
       "      <td>1.4</td>\n",
       "      <td>0.2</td>\n",
       "      <td>0</td>\n",
       "      <td>setosa</td>\n",
       "    </tr>\n",
       "    <tr>\n",
       "      <th>1</th>\n",
       "      <td>4.9</td>\n",
       "      <td>3.0</td>\n",
       "      <td>1.4</td>\n",
       "      <td>0.2</td>\n",
       "      <td>0</td>\n",
       "      <td>setosa</td>\n",
       "    </tr>\n",
       "    <tr>\n",
       "      <th>2</th>\n",
       "      <td>4.7</td>\n",
       "      <td>3.2</td>\n",
       "      <td>1.3</td>\n",
       "      <td>0.2</td>\n",
       "      <td>0</td>\n",
       "      <td>setosa</td>\n",
       "    </tr>\n",
       "    <tr>\n",
       "      <th>3</th>\n",
       "      <td>4.6</td>\n",
       "      <td>3.1</td>\n",
       "      <td>1.5</td>\n",
       "      <td>0.2</td>\n",
       "      <td>0</td>\n",
       "      <td>setosa</td>\n",
       "    </tr>\n",
       "    <tr>\n",
       "      <th>4</th>\n",
       "      <td>5.0</td>\n",
       "      <td>3.6</td>\n",
       "      <td>1.4</td>\n",
       "      <td>0.2</td>\n",
       "      <td>0</td>\n",
       "      <td>setosa</td>\n",
       "    </tr>\n",
       "  </tbody>\n",
       "</table>\n",
       "</div>"
      ],
      "text/plain": [
       "   sepal length (cm)  sepal width (cm)  petal length (cm)  petal width (cm)  \\\n",
       "0                5.1               3.5                1.4               0.2   \n",
       "1                4.9               3.0                1.4               0.2   \n",
       "2                4.7               3.2                1.3               0.2   \n",
       "3                4.6               3.1                1.5               0.2   \n",
       "4                5.0               3.6                1.4               0.2   \n",
       "\n",
       "   target flower_name  \n",
       "0       0      setosa  \n",
       "1       0      setosa  \n",
       "2       0      setosa  \n",
       "3       0      setosa  \n",
       "4       0      setosa  "
      ]
     },
     "execution_count": 2,
     "metadata": {},
     "output_type": "execute_result"
    }
   ],
   "source": [
    "df = pd.read_csv('/kaggle/input/iris-dataset/Iris_dataset.csv')\n",
    "df.head()"
   ]
  },
  {
   "cell_type": "markdown",
   "id": "0e86702c",
   "metadata": {
    "papermill": {
     "duration": 0.005796,
     "end_time": "2025-02-15T12:31:53.419827",
     "exception": false,
     "start_time": "2025-02-15T12:31:53.414031",
     "status": "completed"
    },
    "tags": []
   },
   "source": [
    "# X & y for further training and testing"
   ]
  },
  {
   "cell_type": "code",
   "execution_count": 3,
   "id": "037aff46",
   "metadata": {
    "execution": {
     "iopub.execute_input": "2025-02-15T12:31:53.433397Z",
     "iopub.status.busy": "2025-02-15T12:31:53.433045Z",
     "iopub.status.idle": "2025-02-15T12:31:53.451528Z",
     "shell.execute_reply": "2025-02-15T12:31:53.450601Z"
    },
    "papermill": {
     "duration": 0.027182,
     "end_time": "2025-02-15T12:31:53.453217",
     "exception": false,
     "start_time": "2025-02-15T12:31:53.426035",
     "status": "completed"
    },
    "tags": []
   },
   "outputs": [
    {
     "data": {
      "text/html": [
       "<div>\n",
       "<style scoped>\n",
       "    .dataframe tbody tr th:only-of-type {\n",
       "        vertical-align: middle;\n",
       "    }\n",
       "\n",
       "    .dataframe tbody tr th {\n",
       "        vertical-align: top;\n",
       "    }\n",
       "\n",
       "    .dataframe thead th {\n",
       "        text-align: right;\n",
       "    }\n",
       "</style>\n",
       "<table border=\"1\" class=\"dataframe\">\n",
       "  <thead>\n",
       "    <tr style=\"text-align: right;\">\n",
       "      <th></th>\n",
       "      <th>sepal length (cm)</th>\n",
       "      <th>sepal width (cm)</th>\n",
       "      <th>petal length (cm)</th>\n",
       "      <th>petal width (cm)</th>\n",
       "    </tr>\n",
       "  </thead>\n",
       "  <tbody>\n",
       "    <tr>\n",
       "      <th>0</th>\n",
       "      <td>5.1</td>\n",
       "      <td>3.5</td>\n",
       "      <td>1.4</td>\n",
       "      <td>0.2</td>\n",
       "    </tr>\n",
       "    <tr>\n",
       "      <th>1</th>\n",
       "      <td>4.9</td>\n",
       "      <td>3.0</td>\n",
       "      <td>1.4</td>\n",
       "      <td>0.2</td>\n",
       "    </tr>\n",
       "    <tr>\n",
       "      <th>2</th>\n",
       "      <td>4.7</td>\n",
       "      <td>3.2</td>\n",
       "      <td>1.3</td>\n",
       "      <td>0.2</td>\n",
       "    </tr>\n",
       "    <tr>\n",
       "      <th>3</th>\n",
       "      <td>4.6</td>\n",
       "      <td>3.1</td>\n",
       "      <td>1.5</td>\n",
       "      <td>0.2</td>\n",
       "    </tr>\n",
       "    <tr>\n",
       "      <th>4</th>\n",
       "      <td>5.0</td>\n",
       "      <td>3.6</td>\n",
       "      <td>1.4</td>\n",
       "      <td>0.2</td>\n",
       "    </tr>\n",
       "  </tbody>\n",
       "</table>\n",
       "</div>"
      ],
      "text/plain": [
       "   sepal length (cm)  sepal width (cm)  petal length (cm)  petal width (cm)\n",
       "0                5.1               3.5                1.4               0.2\n",
       "1                4.9               3.0                1.4               0.2\n",
       "2                4.7               3.2                1.3               0.2\n",
       "3                4.6               3.1                1.5               0.2\n",
       "4                5.0               3.6                1.4               0.2"
      ]
     },
     "execution_count": 3,
     "metadata": {},
     "output_type": "execute_result"
    }
   ],
   "source": [
    "X = df.drop(columns=['target','flower_name'])\n",
    "X.head()"
   ]
  },
  {
   "cell_type": "code",
   "execution_count": 4,
   "id": "bf8f4684",
   "metadata": {
    "execution": {
     "iopub.execute_input": "2025-02-15T12:31:53.467249Z",
     "iopub.status.busy": "2025-02-15T12:31:53.466905Z",
     "iopub.status.idle": "2025-02-15T12:31:53.474024Z",
     "shell.execute_reply": "2025-02-15T12:31:53.472923Z"
    },
    "papermill": {
     "duration": 0.016054,
     "end_time": "2025-02-15T12:31:53.475718",
     "exception": false,
     "start_time": "2025-02-15T12:31:53.459664",
     "status": "completed"
    },
    "tags": []
   },
   "outputs": [
    {
     "data": {
      "text/plain": [
       "0    0\n",
       "1    0\n",
       "2    0\n",
       "3    0\n",
       "4    0\n",
       "Name: target, dtype: int64"
      ]
     },
     "execution_count": 4,
     "metadata": {},
     "output_type": "execute_result"
    }
   ],
   "source": [
    "y = df.target\n",
    "y.head()"
   ]
  },
  {
   "cell_type": "markdown",
   "id": "8a44d4c2",
   "metadata": {
    "papermill": {
     "duration": 0.006041,
     "end_time": "2025-02-15T12:31:53.488648",
     "exception": false,
     "start_time": "2025-02-15T12:31:53.482607",
     "status": "completed"
    },
    "tags": []
   },
   "source": [
    "# *Scaling the data*"
   ]
  },
  {
   "cell_type": "code",
   "execution_count": 5,
   "id": "fe6f3dfe",
   "metadata": {
    "execution": {
     "iopub.execute_input": "2025-02-15T12:31:53.503025Z",
     "iopub.status.busy": "2025-02-15T12:31:53.502654Z",
     "iopub.status.idle": "2025-02-15T12:31:53.673622Z",
     "shell.execute_reply": "2025-02-15T12:31:53.672133Z"
    },
    "papermill": {
     "duration": 0.180365,
     "end_time": "2025-02-15T12:31:53.675790",
     "exception": false,
     "start_time": "2025-02-15T12:31:53.495425",
     "status": "completed"
    },
    "tags": []
   },
   "outputs": [],
   "source": [
    "from sklearn.preprocessing import StandardScaler"
   ]
  },
  {
   "cell_type": "code",
   "execution_count": 6,
   "id": "80e8688c",
   "metadata": {
    "execution": {
     "iopub.execute_input": "2025-02-15T12:31:53.690592Z",
     "iopub.status.busy": "2025-02-15T12:31:53.690167Z",
     "iopub.status.idle": "2025-02-15T12:31:53.700736Z",
     "shell.execute_reply": "2025-02-15T12:31:53.699523Z"
    },
    "papermill": {
     "duration": 0.020189,
     "end_time": "2025-02-15T12:31:53.702600",
     "exception": false,
     "start_time": "2025-02-15T12:31:53.682411",
     "status": "completed"
    },
    "tags": []
   },
   "outputs": [],
   "source": [
    "scaler = StandardScaler()\n",
    "X_scaled = scaler.fit_transform(X)"
   ]
  },
  {
   "cell_type": "markdown",
   "id": "d8992f3e",
   "metadata": {
    "papermill": {
     "duration": 0.006159,
     "end_time": "2025-02-15T12:31:53.715164",
     "exception": false,
     "start_time": "2025-02-15T12:31:53.709005",
     "status": "completed"
    },
    "tags": []
   },
   "source": [
    "# *Using cross_val_score with folds = 3*"
   ]
  },
  {
   "cell_type": "code",
   "execution_count": 7,
   "id": "fcd8f37d",
   "metadata": {
    "execution": {
     "iopub.execute_input": "2025-02-15T12:31:53.729132Z",
     "iopub.status.busy": "2025-02-15T12:31:53.728747Z",
     "iopub.status.idle": "2025-02-15T12:31:54.247821Z",
     "shell.execute_reply": "2025-02-15T12:31:54.246740Z"
    },
    "papermill": {
     "duration": 0.528398,
     "end_time": "2025-02-15T12:31:54.250030",
     "exception": false,
     "start_time": "2025-02-15T12:31:53.721632",
     "status": "completed"
    },
    "tags": []
   },
   "outputs": [],
   "source": [
    "from sklearn.linear_model import LogisticRegression\n",
    "from sklearn.ensemble import RandomForestClassifier\n",
    "from sklearn.svm import SVC"
   ]
  },
  {
   "cell_type": "code",
   "execution_count": 8,
   "id": "6d96d4f4",
   "metadata": {
    "execution": {
     "iopub.execute_input": "2025-02-15T12:31:54.265520Z",
     "iopub.status.busy": "2025-02-15T12:31:54.265132Z",
     "iopub.status.idle": "2025-02-15T12:31:54.269412Z",
     "shell.execute_reply": "2025-02-15T12:31:54.268427Z"
    },
    "papermill": {
     "duration": 0.014127,
     "end_time": "2025-02-15T12:31:54.271239",
     "exception": false,
     "start_time": "2025-02-15T12:31:54.257112",
     "status": "completed"
    },
    "tags": []
   },
   "outputs": [],
   "source": [
    "from sklearn.model_selection import cross_val_score"
   ]
  },
  {
   "cell_type": "code",
   "execution_count": 9,
   "id": "73e69dbb",
   "metadata": {
    "execution": {
     "iopub.execute_input": "2025-02-15T12:31:54.285392Z",
     "iopub.status.busy": "2025-02-15T12:31:54.285033Z",
     "iopub.status.idle": "2025-02-15T12:31:54.350664Z",
     "shell.execute_reply": "2025-02-15T12:31:54.349550Z"
    },
    "papermill": {
     "duration": 0.074583,
     "end_time": "2025-02-15T12:31:54.352438",
     "exception": false,
     "start_time": "2025-02-15T12:31:54.277855",
     "status": "completed"
    },
    "tags": []
   },
   "outputs": [
    {
     "data": {
      "text/plain": [
       "[0.98, 0.96, 0.96]"
      ]
     },
     "execution_count": 9,
     "metadata": {},
     "output_type": "execute_result"
    }
   ],
   "source": [
    "score_lr = list(cross_val_score(LogisticRegression(),X_scaled,y,cv=3))\n",
    "score_lr\n",
    "\n",
    "# cv = 3 -> defines number of folds and i have stored all three score in a list called score_lr"
   ]
  },
  {
   "cell_type": "code",
   "execution_count": 10,
   "id": "97d3abc3",
   "metadata": {
    "execution": {
     "iopub.execute_input": "2025-02-15T12:31:54.367293Z",
     "iopub.status.busy": "2025-02-15T12:31:54.366929Z",
     "iopub.status.idle": "2025-02-15T12:31:54.386335Z",
     "shell.execute_reply": "2025-02-15T12:31:54.385224Z"
    },
    "papermill": {
     "duration": 0.029159,
     "end_time": "2025-02-15T12:31:54.388402",
     "exception": false,
     "start_time": "2025-02-15T12:31:54.359243",
     "status": "completed"
    },
    "tags": []
   },
   "outputs": [
    {
     "data": {
      "text/plain": [
       "[0.98, 0.96, 0.96]"
      ]
     },
     "execution_count": 10,
     "metadata": {},
     "output_type": "execute_result"
    }
   ],
   "source": [
    "score_svm = list(cross_val_score(SVC(),X_scaled,y,cv=3))\n",
    "score_svm"
   ]
  },
  {
   "cell_type": "code",
   "execution_count": 11,
   "id": "42af6357",
   "metadata": {
    "execution": {
     "iopub.execute_input": "2025-02-15T12:31:54.404487Z",
     "iopub.status.busy": "2025-02-15T12:31:54.404107Z",
     "iopub.status.idle": "2025-02-15T12:31:54.871764Z",
     "shell.execute_reply": "2025-02-15T12:31:54.870732Z"
    },
    "papermill": {
     "duration": 0.478305,
     "end_time": "2025-02-15T12:31:54.873901",
     "exception": false,
     "start_time": "2025-02-15T12:31:54.395596",
     "status": "completed"
    },
    "tags": []
   },
   "outputs": [
    {
     "data": {
      "text/plain": [
       "[0.98, 0.94, 0.94]"
      ]
     },
     "execution_count": 11,
     "metadata": {},
     "output_type": "execute_result"
    }
   ],
   "source": [
    "score_rf = list(cross_val_score(RandomForestClassifier(),X_scaled,y,cv=3))\n",
    "score_rf"
   ]
  },
  {
   "cell_type": "markdown",
   "id": "af0e838e",
   "metadata": {
    "papermill": {
     "duration": 0.007093,
     "end_time": "2025-02-15T12:31:54.889960",
     "exception": false,
     "start_time": "2025-02-15T12:31:54.882867",
     "status": "completed"
    },
    "tags": []
   },
   "source": [
    "# *Visualization of all accuracies*"
   ]
  },
  {
   "cell_type": "code",
   "execution_count": 12,
   "id": "6ced84a0",
   "metadata": {
    "execution": {
     "iopub.execute_input": "2025-02-15T12:31:54.905765Z",
     "iopub.status.busy": "2025-02-15T12:31:54.905353Z",
     "iopub.status.idle": "2025-02-15T12:31:55.282548Z",
     "shell.execute_reply": "2025-02-15T12:31:55.281339Z"
    },
    "papermill": {
     "duration": 0.386989,
     "end_time": "2025-02-15T12:31:55.284296",
     "exception": false,
     "start_time": "2025-02-15T12:31:54.897307",
     "status": "completed"
    },
    "tags": []
   },
   "outputs": [
    {
     "data": {
      "image/png": "[encoded data removed]",
      "text/plain": [
       "<Figure size 640x480 with 1 Axes>"
      ]
     },
     "metadata": {},
     "output_type": "display_data"
    }
   ],
   "source": [
    "plt.plot(range(1,4),score_lr,marker='o',label=\"Logistic Regression\",alpha=0.5)\n",
    "plt.plot(range(1,4),score_svm,marker='s',label=\"SVM\",alpha=0.3)\n",
    "# Note here plot for score_lr and score_svm is overlapped\n",
    "\n",
    "plt.plot(range(1,4),score_rf,marker='o',label=\"Random Forest Classifier\")\n",
    "plt.xlabel(\"Fold Number\")\n",
    "plt.ylabel(\"Accuracy Score\")\n",
    "plt.legend()\n",
    "plt.grid()"
   ]
  },
  {
   "cell_type": "markdown",
   "id": "225d61af",
   "metadata": {
    "papermill": {
     "duration": 0.007387,
     "end_time": "2025-02-15T12:31:55.299972",
     "exception": false,
     "start_time": "2025-02-15T12:31:55.292585",
     "status": "completed"
    },
    "tags": []
   },
   "source": [
    "# *Best consistent model*"
   ]
  },
  {
   "cell_type": "code",
   "execution_count": 13,
   "id": "b84415ac",
   "metadata": {
    "execution": {
     "iopub.execute_input": "2025-02-15T12:31:55.317002Z",
     "iopub.status.busy": "2025-02-15T12:31:55.316597Z",
     "iopub.status.idle": "2025-02-15T12:31:55.321778Z",
     "shell.execute_reply": "2025-02-15T12:31:55.320659Z"
    },
    "papermill": {
     "duration": 0.016169,
     "end_time": "2025-02-15T12:31:55.323629",
     "exception": false,
     "start_time": "2025-02-15T12:31:55.307460",
     "status": "completed"
    },
    "tags": []
   },
   "outputs": [],
   "source": [
    "avg_lr = sum(score_lr) / len(score_lr)\n",
    "avg_svm = sum(score_svm) / len(score_svm)\n",
    "avg_rf = sum(score_rf) / len(score_rf)\n",
    "best_avg_accuracy = max(avg_lr, avg_svm, avg_rf)"
   ]
  },
  {
   "cell_type": "code",
   "execution_count": 14,
   "id": "c0272148",
   "metadata": {
    "execution": {
     "iopub.execute_input": "2025-02-15T12:31:55.341707Z",
     "iopub.status.busy": "2025-02-15T12:31:55.341229Z",
     "iopub.status.idle": "2025-02-15T12:31:55.346770Z",
     "shell.execute_reply": "2025-02-15T12:31:55.345267Z"
    },
    "papermill": {
     "duration": 0.017571,
     "end_time": "2025-02-15T12:31:55.349157",
     "exception": false,
     "start_time": "2025-02-15T12:31:55.331586",
     "status": "completed"
    },
    "tags": []
   },
   "outputs": [],
   "source": [
    "best_avg_model = max(\n",
    "    {\"Logistic Regression\": avg_lr, \"SVM\": avg_svm, \"Random Forest\": avg_rf},\n",
    "    key=lambda x: {\"Logistic Regression\": avg_lr, \"SVM\": avg_svm, \"Random Forest\": avg_rf}[x]\n",
    ")"
   ]
  },
  {
   "cell_type": "code",
   "execution_count": 15,
   "id": "6ffcbe1a",
   "metadata": {
    "execution": {
     "iopub.execute_input": "2025-02-15T12:31:55.366069Z",
     "iopub.status.busy": "2025-02-15T12:31:55.365706Z",
     "iopub.status.idle": "2025-02-15T12:31:55.371008Z",
     "shell.execute_reply": "2025-02-15T12:31:55.369752Z"
    },
    "papermill": {
     "duration": 0.015879,
     "end_time": "2025-02-15T12:31:55.372843",
     "exception": false,
     "start_time": "2025-02-15T12:31:55.356964",
     "status": "completed"
    },
    "tags": []
   },
   "outputs": [
    {
     "name": "stdout",
     "output_type": "stream",
     "text": [
      "Most Consistent Model: Logistic Regression with Average Accuracy: 0.9667\n"
     ]
    }
   ],
   "source": [
    "print(f\"Most Consistent Model: {best_avg_model} with Average Accuracy: {best_avg_accuracy:.4f}\")\n",
    "# SVM and Logistic Regression both have same scores thus both are highly consistent"
   ]
  },
  {
   "cell_type": "markdown",
   "id": "c8165e8b",
   "metadata": {
    "papermill": {
     "duration": 0.00738,
     "end_time": "2025-02-15T12:31:55.388016",
     "exception": false,
     "start_time": "2025-02-15T12:31:55.380636",
     "status": "completed"
    },
    "tags": []
   },
   "source": [
    "# *Stratified K-folds classifier*"
   ]
  },
  {
   "cell_type": "code",
   "execution_count": 16,
   "id": "11ee9fa6",
   "metadata": {
    "execution": {
     "iopub.execute_input": "2025-02-15T12:31:55.405535Z",
     "iopub.status.busy": "2025-02-15T12:31:55.405143Z",
     "iopub.status.idle": "2025-02-15T12:31:55.409505Z",
     "shell.execute_reply": "2025-02-15T12:31:55.408322Z"
    },
    "papermill": {
     "duration": 0.01607,
     "end_time": "2025-02-15T12:31:55.411822",
     "exception": false,
     "start_time": "2025-02-15T12:31:55.395752",
     "status": "completed"
    },
    "tags": []
   },
   "outputs": [],
   "source": [
    "# here we have done the same thing as we have done with the help of cross_val_score but here\n",
    "# we have used statrified k-fold and we did the things manually as below while the cross val\n",
    "# score does things automatically but here this is the internal structure of cross val score\n",
    "# now here we can also use only kfold but stratified one is quite better\n",
    "\n",
    "# What is Stratified K-Fold?\n",
    "\n",
    "# Now, let’s say your pizza has two types of toppings:\n",
    "# 7 slices have cheese\n",
    "# 3 slices have pepperoni\n",
    "# A normal K-Fold might split them randomly, so some test groups only have cheese and no p\n",
    "# epperoni!That’s not balanced.\n",
    "\n",
    "# Stratified K-Fold fixes this by making sure each test group keeps the same proportion \n",
    "# of cheese and pepperoni, just like in the original pizza."
   ]
  },
  {
   "cell_type": "code",
   "execution_count": 17,
   "id": "d8fea5ad",
   "metadata": {
    "execution": {
     "iopub.execute_input": "2025-02-15T12:31:55.428910Z",
     "iopub.status.busy": "2025-02-15T12:31:55.428496Z",
     "iopub.status.idle": "2025-02-15T12:31:55.434016Z",
     "shell.execute_reply": "2025-02-15T12:31:55.432887Z"
    },
    "papermill": {
     "duration": 0.016174,
     "end_time": "2025-02-15T12:31:55.435906",
     "exception": false,
     "start_time": "2025-02-15T12:31:55.419732",
     "status": "completed"
    },
    "tags": []
   },
   "outputs": [],
   "source": [
    "from sklearn.model_selection import StratifiedKFold\n",
    "skf = StratifiedKFold(n_splits=3)"
   ]
  },
  {
   "cell_type": "code",
   "execution_count": 18,
   "id": "21294176",
   "metadata": {
    "execution": {
     "iopub.execute_input": "2025-02-15T12:31:55.452833Z",
     "iopub.status.busy": "2025-02-15T12:31:55.452406Z",
     "iopub.status.idle": "2025-02-15T12:31:55.457254Z",
     "shell.execute_reply": "2025-02-15T12:31:55.456203Z"
    },
    "papermill": {
     "duration": 0.015404,
     "end_time": "2025-02-15T12:31:55.459170",
     "exception": false,
     "start_time": "2025-02-15T12:31:55.443766",
     "status": "completed"
    },
    "tags": []
   },
   "outputs": [],
   "source": [
    "def get_score(model,X_train,X_test,y_train,y_test):\n",
    "    model.fit(X_train,y_train)\n",
    "    return model.score(X_test,y_test)"
   ]
  },
  {
   "cell_type": "code",
   "execution_count": 19,
   "id": "845b8f26",
   "metadata": {
    "execution": {
     "iopub.execute_input": "2025-02-15T12:31:55.476304Z",
     "iopub.status.busy": "2025-02-15T12:31:55.475953Z",
     "iopub.status.idle": "2025-02-15T12:31:55.480611Z",
     "shell.execute_reply": "2025-02-15T12:31:55.479372Z"
    },
    "papermill": {
     "duration": 0.015488,
     "end_time": "2025-02-15T12:31:55.482499",
     "exception": false,
     "start_time": "2025-02-15T12:31:55.467011",
     "status": "completed"
    },
    "tags": []
   },
   "outputs": [],
   "source": [
    "l,svm,rf = [],[],[]"
   ]
  },
  {
   "cell_type": "code",
   "execution_count": 20,
   "id": "06465c32",
   "metadata": {
    "execution": {
     "iopub.execute_input": "2025-02-15T12:31:55.499964Z",
     "iopub.status.busy": "2025-02-15T12:31:55.499577Z",
     "iopub.status.idle": "2025-02-15T12:31:55.741164Z",
     "shell.execute_reply": "2025-02-15T12:31:55.740152Z"
    },
    "papermill": {
     "duration": 0.252451,
     "end_time": "2025-02-15T12:31:55.743213",
     "exception": false,
     "start_time": "2025-02-15T12:31:55.490762",
     "status": "completed"
    },
    "tags": []
   },
   "outputs": [],
   "source": [
    "for train_index,test_index in skf.split(X,y):\n",
    "  X_train, X_test = X.iloc[train_index], X.iloc[test_index]\n",
    "  y_train, y_test = y.iloc[train_index], y.iloc[test_index]\n",
    "  sc = StandardScaler()\n",
    "  X_train = sc.fit_transform(X_train)\n",
    "  X_test = sc.transform(X_test)\n",
    "  l.append(get_score(LogisticRegression(),X_train,X_test,y_train,y_test))\n",
    "  svm.append(get_score(SVC(),X_train,X_test,y_train,y_test))\n",
    "  rf.append(get_score(RandomForestClassifier(n_estimators=40),X_train,X_test,y_train,y_test))"
   ]
  },
  {
   "cell_type": "code",
   "execution_count": 21,
   "id": "1225fa34",
   "metadata": {
    "execution": {
     "iopub.execute_input": "2025-02-15T12:31:55.759853Z",
     "iopub.status.busy": "2025-02-15T12:31:55.759424Z",
     "iopub.status.idle": "2025-02-15T12:31:55.765532Z",
     "shell.execute_reply": "2025-02-15T12:31:55.764538Z"
    },
    "papermill": {
     "duration": 0.01644,
     "end_time": "2025-02-15T12:31:55.767399",
     "exception": false,
     "start_time": "2025-02-15T12:31:55.750959",
     "status": "completed"
    },
    "tags": []
   },
   "outputs": [
    {
     "data": {
      "text/plain": [
       "[0.98, 0.96, 0.94]"
      ]
     },
     "execution_count": 21,
     "metadata": {},
     "output_type": "execute_result"
    }
   ],
   "source": [
    "l"
   ]
  },
  {
   "cell_type": "code",
   "execution_count": 22,
   "id": "8598e411",
   "metadata": {
    "execution": {
     "iopub.execute_input": "2025-02-15T12:31:55.784684Z",
     "iopub.status.busy": "2025-02-15T12:31:55.784284Z",
     "iopub.status.idle": "2025-02-15T12:31:55.790215Z",
     "shell.execute_reply": "2025-02-15T12:31:55.789133Z"
    },
    "papermill": {
     "duration": 0.016681,
     "end_time": "2025-02-15T12:31:55.792062",
     "exception": false,
     "start_time": "2025-02-15T12:31:55.775381",
     "status": "completed"
    },
    "tags": []
   },
   "outputs": [
    {
     "data": {
      "text/plain": [
       "[0.98, 0.96, 0.96]"
      ]
     },
     "execution_count": 22,
     "metadata": {},
     "output_type": "execute_result"
    }
   ],
   "source": [
    "svm"
   ]
  },
  {
   "cell_type": "code",
   "execution_count": 23,
   "id": "992189b1",
   "metadata": {
    "execution": {
     "iopub.execute_input": "2025-02-15T12:31:55.809666Z",
     "iopub.status.busy": "2025-02-15T12:31:55.809260Z",
     "iopub.status.idle": "2025-02-15T12:31:55.814939Z",
     "shell.execute_reply": "2025-02-15T12:31:55.814033Z"
    },
    "papermill": {
     "duration": 0.016478,
     "end_time": "2025-02-15T12:31:55.816594",
     "exception": false,
     "start_time": "2025-02-15T12:31:55.800116",
     "status": "completed"
    },
    "tags": []
   },
   "outputs": [
    {
     "data": {
      "text/plain": [
       "[0.98, 0.94, 0.98]"
      ]
     },
     "execution_count": 23,
     "metadata": {},
     "output_type": "execute_result"
    }
   ],
   "source": [
    "rf"
   ]
  }
 ],
 "metadata": {
  "kaggle": {
   "accelerator": "none",
   "dataSources": [
    {
     "datasetId": 6662172,
     "sourceId": 10743158,
     "sourceType": "datasetVersion"
    }
   ],
   "dockerImageVersionId": 30886,
   "isGpuEnabled": false,
   "isInternetEnabled": true,
   "language": "python",
   "sourceType": "notebook"
  },
  "kernelspec": {
   "display_name": "Python 3",
   "language": "python",
   "name": "python3"
  },
  "language_info": {
   "codemirror_mode": {
    "name": "ipython",
    "version": 3
   },
   "file_extension": ".py",
   "mimetype": "text/x-python",
   "name": "python",
   "nbconvert_exporter": "python",
   "pygments_lexer": "ipython3",
   "version": "3.10.12"
  },
  "papermill": {
   "default_parameters": {},
   "duration": 9.267495,
   "end_time": "2025-02-15T12:31:56.748128",
   "environment_variables": {},
   "exception": null,
   "input_path": "__notebook__.ipynb",
   "output_path": "__notebook__.ipynb",
   "parameters": {},
   "start_time": "2025-02-15T12:31:47.480633",
   "version": "2.6.0"
  }
 },
 "nbformat": 4,
 "nbformat_minor": 5
}
