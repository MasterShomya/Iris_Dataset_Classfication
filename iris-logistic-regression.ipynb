{
 "cells": [
  {
   "cell_type": "code",
   "execution_count": 1,
   "id": "98214ba2",
   "metadata": {
    "_cell_guid": "b1076dfc-b9ad-4769-8c92-a6c4dae69d19",
    "_uuid": "8f2839f25d086af736a60e9eeb907d3b93b6e0e5",
    "execution": {
     "iopub.execute_input": "2025-02-12T07:16:43.458181Z",
     "iopub.status.busy": "2025-02-12T07:16:43.457834Z",
     "iopub.status.idle": "2025-02-12T07:16:44.304425Z",
     "shell.execute_reply": "2025-02-12T07:16:44.303115Z"
    },
    "papermill": {
     "duration": 0.858152,
     "end_time": "2025-02-12T07:16:44.306174",
     "exception": false,
     "start_time": "2025-02-12T07:16:43.448022",
     "status": "completed"
    },
    "tags": []
   },
   "outputs": [
    {
     "name": "stdout",
     "output_type": "stream",
     "text": [
      "/kaggle/input/iris-dataset/iris.csv\n"
     ]
    }
   ],
   "source": [
    "import numpy as np\n",
    "import pandas as pd\n",
    "import os\n",
    "for dirname, _, filenames in os.walk('/kaggle/input'):\n",
    "    for filename in filenames:\n",
    "        print(os.path.join(dirname, filename))"
   ]
  },
  {
   "cell_type": "markdown",
   "id": "a9b90835",
   "metadata": {
    "papermill": {
     "duration": 0.00498,
     "end_time": "2025-02-12T07:16:44.316979",
     "exception": false,
     "start_time": "2025-02-12T07:16:44.311999",
     "status": "completed"
    },
    "tags": []
   },
   "source": [
    "# *READING DATA & CHECKING IT*"
   ]
  },
  {
   "cell_type": "code",
   "execution_count": 2,
   "id": "83cea41d",
   "metadata": {
    "execution": {
     "iopub.execute_input": "2025-02-12T07:16:44.328873Z",
     "iopub.status.busy": "2025-02-12T07:16:44.328418Z",
     "iopub.status.idle": "2025-02-12T07:16:44.374242Z",
     "shell.execute_reply": "2025-02-12T07:16:44.373202Z"
    },
    "papermill": {
     "duration": 0.053758,
     "end_time": "2025-02-12T07:16:44.376051",
     "exception": false,
     "start_time": "2025-02-12T07:16:44.322293",
     "status": "completed"
    },
    "tags": []
   },
   "outputs": [
    {
     "data": {
      "text/html": [
       "<div>\n",
       "<style scoped>\n",
       "    .dataframe tbody tr th:only-of-type {\n",
       "        vertical-align: middle;\n",
       "    }\n",
       "\n",
       "    .dataframe tbody tr th {\n",
       "        vertical-align: top;\n",
       "    }\n",
       "\n",
       "    .dataframe thead th {\n",
       "        text-align: right;\n",
       "    }\n",
       "</style>\n",
       "<table border=\"1\" class=\"dataframe\">\n",
       "  <thead>\n",
       "    <tr style=\"text-align: right;\">\n",
       "      <th></th>\n",
       "      <th>sepal_length</th>\n",
       "      <th>sepal_width</th>\n",
       "      <th>petal_length</th>\n",
       "      <th>petal_width</th>\n",
       "      <th>species</th>\n",
       "    </tr>\n",
       "  </thead>\n",
       "  <tbody>\n",
       "    <tr>\n",
       "      <th>0</th>\n",
       "      <td>5.1</td>\n",
       "      <td>3.5</td>\n",
       "      <td>1.4</td>\n",
       "      <td>0.2</td>\n",
       "      <td>setosa</td>\n",
       "    </tr>\n",
       "    <tr>\n",
       "      <th>1</th>\n",
       "      <td>4.9</td>\n",
       "      <td>3.0</td>\n",
       "      <td>1.4</td>\n",
       "      <td>0.2</td>\n",
       "      <td>setosa</td>\n",
       "    </tr>\n",
       "    <tr>\n",
       "      <th>2</th>\n",
       "      <td>4.7</td>\n",
       "      <td>3.2</td>\n",
       "      <td>1.3</td>\n",
       "      <td>0.2</td>\n",
       "      <td>setosa</td>\n",
       "    </tr>\n",
       "    <tr>\n",
       "      <th>3</th>\n",
       "      <td>4.6</td>\n",
       "      <td>3.1</td>\n",
       "      <td>1.5</td>\n",
       "      <td>0.2</td>\n",
       "      <td>setosa</td>\n",
       "    </tr>\n",
       "    <tr>\n",
       "      <th>4</th>\n",
       "      <td>5.0</td>\n",
       "      <td>3.6</td>\n",
       "      <td>1.4</td>\n",
       "      <td>0.2</td>\n",
       "      <td>setosa</td>\n",
       "    </tr>\n",
       "  </tbody>\n",
       "</table>\n",
       "</div>"
      ],
      "text/plain": [
       "   sepal_length  sepal_width  petal_length  petal_width species\n",
       "0           5.1          3.5           1.4          0.2  setosa\n",
       "1           4.9          3.0           1.4          0.2  setosa\n",
       "2           4.7          3.2           1.3          0.2  setosa\n",
       "3           4.6          3.1           1.5          0.2  setosa\n",
       "4           5.0          3.6           1.4          0.2  setosa"
      ]
     },
     "execution_count": 2,
     "metadata": {},
     "output_type": "execute_result"
    }
   ],
   "source": [
    "df=pd.read_csv('/kaggle/input/iris-dataset/iris.csv')\n",
    "df.head()"
   ]
  },
  {
   "cell_type": "code",
   "execution_count": 3,
   "id": "1ba8763e",
   "metadata": {
    "execution": {
     "iopub.execute_input": "2025-02-12T07:16:44.389038Z",
     "iopub.status.busy": "2025-02-12T07:16:44.388715Z",
     "iopub.status.idle": "2025-02-12T07:16:44.394255Z",
     "shell.execute_reply": "2025-02-12T07:16:44.393437Z"
    },
    "papermill": {
     "duration": 0.01363,
     "end_time": "2025-02-12T07:16:44.395783",
     "exception": false,
     "start_time": "2025-02-12T07:16:44.382153",
     "status": "completed"
    },
    "tags": []
   },
   "outputs": [
    {
     "data": {
      "text/plain": [
       "(150, 5)"
      ]
     },
     "execution_count": 3,
     "metadata": {},
     "output_type": "execute_result"
    }
   ],
   "source": [
    "df.shape"
   ]
  },
  {
   "cell_type": "code",
   "execution_count": 4,
   "id": "ac972717",
   "metadata": {
    "execution": {
     "iopub.execute_input": "2025-02-12T07:16:44.408454Z",
     "iopub.status.busy": "2025-02-12T07:16:44.408071Z",
     "iopub.status.idle": "2025-02-12T07:16:44.415429Z",
     "shell.execute_reply": "2025-02-12T07:16:44.414474Z"
    },
    "papermill": {
     "duration": 0.015356,
     "end_time": "2025-02-12T07:16:44.416997",
     "exception": false,
     "start_time": "2025-02-12T07:16:44.401641",
     "status": "completed"
    },
    "tags": []
   },
   "outputs": [
    {
     "data": {
      "text/plain": [
       "sepal_length    0\n",
       "sepal_width     0\n",
       "petal_length    0\n",
       "petal_width     0\n",
       "species         0\n",
       "dtype: int64"
      ]
     },
     "execution_count": 4,
     "metadata": {},
     "output_type": "execute_result"
    }
   ],
   "source": [
    "df.isna().sum()"
   ]
  },
  {
   "cell_type": "markdown",
   "id": "98e8f8ef",
   "metadata": {
    "papermill": {
     "duration": 0.005372,
     "end_time": "2025-02-12T07:16:44.428207",
     "exception": false,
     "start_time": "2025-02-12T07:16:44.422835",
     "status": "completed"
    },
    "tags": []
   },
   "source": [
    "# *X & y FOR FURTHER TRAINING & TESTING*"
   ]
  },
  {
   "cell_type": "code",
   "execution_count": 5,
   "id": "a0cc7aa0",
   "metadata": {
    "execution": {
     "iopub.execute_input": "2025-02-12T07:16:44.440652Z",
     "iopub.status.busy": "2025-02-12T07:16:44.440264Z",
     "iopub.status.idle": "2025-02-12T07:16:44.458119Z",
     "shell.execute_reply": "2025-02-12T07:16:44.457256Z"
    },
    "papermill": {
     "duration": 0.025879,
     "end_time": "2025-02-12T07:16:44.459772",
     "exception": false,
     "start_time": "2025-02-12T07:16:44.433893",
     "status": "completed"
    },
    "tags": []
   },
   "outputs": [
    {
     "data": {
      "text/html": [
       "<div>\n",
       "<style scoped>\n",
       "    .dataframe tbody tr th:only-of-type {\n",
       "        vertical-align: middle;\n",
       "    }\n",
       "\n",
       "    .dataframe tbody tr th {\n",
       "        vertical-align: top;\n",
       "    }\n",
       "\n",
       "    .dataframe thead th {\n",
       "        text-align: right;\n",
       "    }\n",
       "</style>\n",
       "<table border=\"1\" class=\"dataframe\">\n",
       "  <thead>\n",
       "    <tr style=\"text-align: right;\">\n",
       "      <th></th>\n",
       "      <th>sepal_length</th>\n",
       "      <th>sepal_width</th>\n",
       "      <th>petal_length</th>\n",
       "      <th>petal_width</th>\n",
       "    </tr>\n",
       "  </thead>\n",
       "  <tbody>\n",
       "    <tr>\n",
       "      <th>0</th>\n",
       "      <td>5.1</td>\n",
       "      <td>3.5</td>\n",
       "      <td>1.4</td>\n",
       "      <td>0.2</td>\n",
       "    </tr>\n",
       "    <tr>\n",
       "      <th>1</th>\n",
       "      <td>4.9</td>\n",
       "      <td>3.0</td>\n",
       "      <td>1.4</td>\n",
       "      <td>0.2</td>\n",
       "    </tr>\n",
       "    <tr>\n",
       "      <th>2</th>\n",
       "      <td>4.7</td>\n",
       "      <td>3.2</td>\n",
       "      <td>1.3</td>\n",
       "      <td>0.2</td>\n",
       "    </tr>\n",
       "    <tr>\n",
       "      <th>3</th>\n",
       "      <td>4.6</td>\n",
       "      <td>3.1</td>\n",
       "      <td>1.5</td>\n",
       "      <td>0.2</td>\n",
       "    </tr>\n",
       "    <tr>\n",
       "      <th>4</th>\n",
       "      <td>5.0</td>\n",
       "      <td>3.6</td>\n",
       "      <td>1.4</td>\n",
       "      <td>0.2</td>\n",
       "    </tr>\n",
       "    <tr>\n",
       "      <th>...</th>\n",
       "      <td>...</td>\n",
       "      <td>...</td>\n",
       "      <td>...</td>\n",
       "      <td>...</td>\n",
       "    </tr>\n",
       "    <tr>\n",
       "      <th>145</th>\n",
       "      <td>6.7</td>\n",
       "      <td>3.0</td>\n",
       "      <td>5.2</td>\n",
       "      <td>2.3</td>\n",
       "    </tr>\n",
       "    <tr>\n",
       "      <th>146</th>\n",
       "      <td>6.3</td>\n",
       "      <td>2.5</td>\n",
       "      <td>5.0</td>\n",
       "      <td>1.9</td>\n",
       "    </tr>\n",
       "    <tr>\n",
       "      <th>147</th>\n",
       "      <td>6.5</td>\n",
       "      <td>3.0</td>\n",
       "      <td>5.2</td>\n",
       "      <td>2.0</td>\n",
       "    </tr>\n",
       "    <tr>\n",
       "      <th>148</th>\n",
       "      <td>6.2</td>\n",
       "      <td>3.4</td>\n",
       "      <td>5.4</td>\n",
       "      <td>2.3</td>\n",
       "    </tr>\n",
       "    <tr>\n",
       "      <th>149</th>\n",
       "      <td>5.9</td>\n",
       "      <td>3.0</td>\n",
       "      <td>5.1</td>\n",
       "      <td>1.8</td>\n",
       "    </tr>\n",
       "  </tbody>\n",
       "</table>\n",
       "<p>150 rows × 4 columns</p>\n",
       "</div>"
      ],
      "text/plain": [
       "     sepal_length  sepal_width  petal_length  petal_width\n",
       "0             5.1          3.5           1.4          0.2\n",
       "1             4.9          3.0           1.4          0.2\n",
       "2             4.7          3.2           1.3          0.2\n",
       "3             4.6          3.1           1.5          0.2\n",
       "4             5.0          3.6           1.4          0.2\n",
       "..            ...          ...           ...          ...\n",
       "145           6.7          3.0           5.2          2.3\n",
       "146           6.3          2.5           5.0          1.9\n",
       "147           6.5          3.0           5.2          2.0\n",
       "148           6.2          3.4           5.4          2.3\n",
       "149           5.9          3.0           5.1          1.8\n",
       "\n",
       "[150 rows x 4 columns]"
      ]
     },
     "execution_count": 5,
     "metadata": {},
     "output_type": "execute_result"
    }
   ],
   "source": [
    "X=df.drop(columns=['species'])\n",
    "X"
   ]
  },
  {
   "cell_type": "code",
   "execution_count": 6,
   "id": "177f5cec",
   "metadata": {
    "execution": {
     "iopub.execute_input": "2025-02-12T07:16:44.473314Z",
     "iopub.status.busy": "2025-02-12T07:16:44.472974Z",
     "iopub.status.idle": "2025-02-12T07:16:44.480462Z",
     "shell.execute_reply": "2025-02-12T07:16:44.479340Z"
    },
    "papermill": {
     "duration": 0.016353,
     "end_time": "2025-02-12T07:16:44.482306",
     "exception": false,
     "start_time": "2025-02-12T07:16:44.465953",
     "status": "completed"
    },
    "tags": []
   },
   "outputs": [
    {
     "data": {
      "text/plain": [
       "0         setosa\n",
       "1         setosa\n",
       "2         setosa\n",
       "3         setosa\n",
       "4         setosa\n",
       "         ...    \n",
       "145    virginica\n",
       "146    virginica\n",
       "147    virginica\n",
       "148    virginica\n",
       "149    virginica\n",
       "Name: species, Length: 150, dtype: object"
      ]
     },
     "execution_count": 6,
     "metadata": {},
     "output_type": "execute_result"
    }
   ],
   "source": [
    "y=df.species\n",
    "y"
   ]
  },
  {
   "cell_type": "markdown",
   "id": "14592147",
   "metadata": {
    "papermill": {
     "duration": 0.005989,
     "end_time": "2025-02-12T07:16:44.494977",
     "exception": false,
     "start_time": "2025-02-12T07:16:44.488988",
     "status": "completed"
    },
    "tags": []
   },
   "source": [
    "# *ENCODING THE SPECIES COLUMN*"
   ]
  },
  {
   "cell_type": "code",
   "execution_count": 7,
   "id": "14460f91",
   "metadata": {
    "execution": {
     "iopub.execute_input": "2025-02-12T07:16:44.508986Z",
     "iopub.status.busy": "2025-02-12T07:16:44.508663Z",
     "iopub.status.idle": "2025-02-12T07:16:45.805736Z",
     "shell.execute_reply": "2025-02-12T07:16:45.804815Z"
    },
    "papermill": {
     "duration": 1.305975,
     "end_time": "2025-02-12T07:16:45.807544",
     "exception": false,
     "start_time": "2025-02-12T07:16:44.501569",
     "status": "completed"
    },
    "tags": []
   },
   "outputs": [],
   "source": [
    "from sklearn.preprocessing import LabelEncoder\n",
    "le = LabelEncoder()"
   ]
  },
  {
   "cell_type": "code",
   "execution_count": 8,
   "id": "28a3da0a",
   "metadata": {
    "execution": {
     "iopub.execute_input": "2025-02-12T07:16:45.821566Z",
     "iopub.status.busy": "2025-02-12T07:16:45.821003Z",
     "iopub.status.idle": "2025-02-12T07:16:45.825781Z",
     "shell.execute_reply": "2025-02-12T07:16:45.824855Z"
    },
    "papermill": {
     "duration": 0.01338,
     "end_time": "2025-02-12T07:16:45.827282",
     "exception": false,
     "start_time": "2025-02-12T07:16:45.813902",
     "status": "completed"
    },
    "tags": []
   },
   "outputs": [],
   "source": [
    "df.species = le.fit_transform(df.species)"
   ]
  },
  {
   "cell_type": "code",
   "execution_count": 9,
   "id": "dc09bb7e",
   "metadata": {
    "execution": {
     "iopub.execute_input": "2025-02-12T07:16:45.840722Z",
     "iopub.status.busy": "2025-02-12T07:16:45.840356Z",
     "iopub.status.idle": "2025-02-12T07:16:45.854097Z",
     "shell.execute_reply": "2025-02-12T07:16:45.853119Z"
    },
    "papermill": {
     "duration": 0.022227,
     "end_time": "2025-02-12T07:16:45.855749",
     "exception": false,
     "start_time": "2025-02-12T07:16:45.833522",
     "status": "completed"
    },
    "tags": []
   },
   "outputs": [
    {
     "data": {
      "text/html": [
       "<div>\n",
       "<style scoped>\n",
       "    .dataframe tbody tr th:only-of-type {\n",
       "        vertical-align: middle;\n",
       "    }\n",
       "\n",
       "    .dataframe tbody tr th {\n",
       "        vertical-align: top;\n",
       "    }\n",
       "\n",
       "    .dataframe thead th {\n",
       "        text-align: right;\n",
       "    }\n",
       "</style>\n",
       "<table border=\"1\" class=\"dataframe\">\n",
       "  <thead>\n",
       "    <tr style=\"text-align: right;\">\n",
       "      <th></th>\n",
       "      <th>sepal_length</th>\n",
       "      <th>sepal_width</th>\n",
       "      <th>petal_length</th>\n",
       "      <th>petal_width</th>\n",
       "      <th>species</th>\n",
       "    </tr>\n",
       "  </thead>\n",
       "  <tbody>\n",
       "    <tr>\n",
       "      <th>0</th>\n",
       "      <td>5.1</td>\n",
       "      <td>3.5</td>\n",
       "      <td>1.4</td>\n",
       "      <td>0.2</td>\n",
       "      <td>0</td>\n",
       "    </tr>\n",
       "    <tr>\n",
       "      <th>1</th>\n",
       "      <td>4.9</td>\n",
       "      <td>3.0</td>\n",
       "      <td>1.4</td>\n",
       "      <td>0.2</td>\n",
       "      <td>0</td>\n",
       "    </tr>\n",
       "    <tr>\n",
       "      <th>2</th>\n",
       "      <td>4.7</td>\n",
       "      <td>3.2</td>\n",
       "      <td>1.3</td>\n",
       "      <td>0.2</td>\n",
       "      <td>0</td>\n",
       "    </tr>\n",
       "    <tr>\n",
       "      <th>3</th>\n",
       "      <td>4.6</td>\n",
       "      <td>3.1</td>\n",
       "      <td>1.5</td>\n",
       "      <td>0.2</td>\n",
       "      <td>0</td>\n",
       "    </tr>\n",
       "    <tr>\n",
       "      <th>4</th>\n",
       "      <td>5.0</td>\n",
       "      <td>3.6</td>\n",
       "      <td>1.4</td>\n",
       "      <td>0.2</td>\n",
       "      <td>0</td>\n",
       "    </tr>\n",
       "    <tr>\n",
       "      <th>...</th>\n",
       "      <td>...</td>\n",
       "      <td>...</td>\n",
       "      <td>...</td>\n",
       "      <td>...</td>\n",
       "      <td>...</td>\n",
       "    </tr>\n",
       "    <tr>\n",
       "      <th>145</th>\n",
       "      <td>6.7</td>\n",
       "      <td>3.0</td>\n",
       "      <td>5.2</td>\n",
       "      <td>2.3</td>\n",
       "      <td>2</td>\n",
       "    </tr>\n",
       "    <tr>\n",
       "      <th>146</th>\n",
       "      <td>6.3</td>\n",
       "      <td>2.5</td>\n",
       "      <td>5.0</td>\n",
       "      <td>1.9</td>\n",
       "      <td>2</td>\n",
       "    </tr>\n",
       "    <tr>\n",
       "      <th>147</th>\n",
       "      <td>6.5</td>\n",
       "      <td>3.0</td>\n",
       "      <td>5.2</td>\n",
       "      <td>2.0</td>\n",
       "      <td>2</td>\n",
       "    </tr>\n",
       "    <tr>\n",
       "      <th>148</th>\n",
       "      <td>6.2</td>\n",
       "      <td>3.4</td>\n",
       "      <td>5.4</td>\n",
       "      <td>2.3</td>\n",
       "      <td>2</td>\n",
       "    </tr>\n",
       "    <tr>\n",
       "      <th>149</th>\n",
       "      <td>5.9</td>\n",
       "      <td>3.0</td>\n",
       "      <td>5.1</td>\n",
       "      <td>1.8</td>\n",
       "      <td>2</td>\n",
       "    </tr>\n",
       "  </tbody>\n",
       "</table>\n",
       "<p>150 rows × 5 columns</p>\n",
       "</div>"
      ],
      "text/plain": [
       "     sepal_length  sepal_width  petal_length  petal_width  species\n",
       "0             5.1          3.5           1.4          0.2        0\n",
       "1             4.9          3.0           1.4          0.2        0\n",
       "2             4.7          3.2           1.3          0.2        0\n",
       "3             4.6          3.1           1.5          0.2        0\n",
       "4             5.0          3.6           1.4          0.2        0\n",
       "..            ...          ...           ...          ...      ...\n",
       "145           6.7          3.0           5.2          2.3        2\n",
       "146           6.3          2.5           5.0          1.9        2\n",
       "147           6.5          3.0           5.2          2.0        2\n",
       "148           6.2          3.4           5.4          2.3        2\n",
       "149           5.9          3.0           5.1          1.8        2\n",
       "\n",
       "[150 rows x 5 columns]"
      ]
     },
     "execution_count": 9,
     "metadata": {},
     "output_type": "execute_result"
    }
   ],
   "source": [
    "df"
   ]
  },
  {
   "cell_type": "code",
   "execution_count": 10,
   "id": "baf7482c",
   "metadata": {
    "execution": {
     "iopub.execute_input": "2025-02-12T07:16:45.869614Z",
     "iopub.status.busy": "2025-02-12T07:16:45.869245Z",
     "iopub.status.idle": "2025-02-12T07:16:45.872805Z",
     "shell.execute_reply": "2025-02-12T07:16:45.871819Z"
    },
    "papermill": {
     "duration": 0.011993,
     "end_time": "2025-02-12T07:16:45.874404",
     "exception": false,
     "start_time": "2025-02-12T07:16:45.862411",
     "status": "completed"
    },
    "tags": []
   },
   "outputs": [],
   "source": [
    "# 0 -> setosa\n",
    "# 1 -> versicolor\n",
    "# 2 -> virginica"
   ]
  },
  {
   "cell_type": "markdown",
   "id": "988b887d",
   "metadata": {
    "papermill": {
     "duration": 0.005909,
     "end_time": "2025-02-12T07:16:45.886569",
     "exception": false,
     "start_time": "2025-02-12T07:16:45.880660",
     "status": "completed"
    },
    "tags": []
   },
   "source": [
    "# *DATA SPLITING FOR TRAINING & TESTING*"
   ]
  },
  {
   "cell_type": "code",
   "execution_count": 11,
   "id": "046894c6",
   "metadata": {
    "execution": {
     "iopub.execute_input": "2025-02-12T07:16:45.899906Z",
     "iopub.status.busy": "2025-02-12T07:16:45.899561Z",
     "iopub.status.idle": "2025-02-12T07:16:45.997613Z",
     "shell.execute_reply": "2025-02-12T07:16:45.996626Z"
    },
    "papermill": {
     "duration": 0.106893,
     "end_time": "2025-02-12T07:16:45.999511",
     "exception": false,
     "start_time": "2025-02-12T07:16:45.892618",
     "status": "completed"
    },
    "tags": []
   },
   "outputs": [],
   "source": [
    "from sklearn.model_selection import train_test_split\n",
    "X_train,X_test,y_train,y_test = train_test_split(X,y,test_size=0.2,random_state = 42)"
   ]
  },
  {
   "cell_type": "code",
   "execution_count": 12,
   "id": "d038f53f",
   "metadata": {
    "execution": {
     "iopub.execute_input": "2025-02-12T07:16:46.013495Z",
     "iopub.status.busy": "2025-02-12T07:16:46.013120Z",
     "iopub.status.idle": "2025-02-12T07:16:46.025815Z",
     "shell.execute_reply": "2025-02-12T07:16:46.024831Z"
    },
    "papermill": {
     "duration": 0.021201,
     "end_time": "2025-02-12T07:16:46.027336",
     "exception": false,
     "start_time": "2025-02-12T07:16:46.006135",
     "status": "completed"
    },
    "tags": []
   },
   "outputs": [
    {
     "data": {
      "text/html": [
       "<div>\n",
       "<style scoped>\n",
       "    .dataframe tbody tr th:only-of-type {\n",
       "        vertical-align: middle;\n",
       "    }\n",
       "\n",
       "    .dataframe tbody tr th {\n",
       "        vertical-align: top;\n",
       "    }\n",
       "\n",
       "    .dataframe thead th {\n",
       "        text-align: right;\n",
       "    }\n",
       "</style>\n",
       "<table border=\"1\" class=\"dataframe\">\n",
       "  <thead>\n",
       "    <tr style=\"text-align: right;\">\n",
       "      <th></th>\n",
       "      <th>sepal_length</th>\n",
       "      <th>sepal_width</th>\n",
       "      <th>petal_length</th>\n",
       "      <th>petal_width</th>\n",
       "    </tr>\n",
       "  </thead>\n",
       "  <tbody>\n",
       "    <tr>\n",
       "      <th>22</th>\n",
       "      <td>4.6</td>\n",
       "      <td>3.6</td>\n",
       "      <td>1.0</td>\n",
       "      <td>0.2</td>\n",
       "    </tr>\n",
       "    <tr>\n",
       "      <th>15</th>\n",
       "      <td>5.7</td>\n",
       "      <td>4.4</td>\n",
       "      <td>1.5</td>\n",
       "      <td>0.4</td>\n",
       "    </tr>\n",
       "    <tr>\n",
       "      <th>65</th>\n",
       "      <td>6.7</td>\n",
       "      <td>3.1</td>\n",
       "      <td>4.4</td>\n",
       "      <td>1.4</td>\n",
       "    </tr>\n",
       "    <tr>\n",
       "      <th>11</th>\n",
       "      <td>4.8</td>\n",
       "      <td>3.4</td>\n",
       "      <td>1.6</td>\n",
       "      <td>0.2</td>\n",
       "    </tr>\n",
       "    <tr>\n",
       "      <th>42</th>\n",
       "      <td>4.4</td>\n",
       "      <td>3.2</td>\n",
       "      <td>1.3</td>\n",
       "      <td>0.2</td>\n",
       "    </tr>\n",
       "    <tr>\n",
       "      <th>...</th>\n",
       "      <td>...</td>\n",
       "      <td>...</td>\n",
       "      <td>...</td>\n",
       "      <td>...</td>\n",
       "    </tr>\n",
       "    <tr>\n",
       "      <th>71</th>\n",
       "      <td>6.1</td>\n",
       "      <td>2.8</td>\n",
       "      <td>4.0</td>\n",
       "      <td>1.3</td>\n",
       "    </tr>\n",
       "    <tr>\n",
       "      <th>106</th>\n",
       "      <td>4.9</td>\n",
       "      <td>2.5</td>\n",
       "      <td>4.5</td>\n",
       "      <td>1.7</td>\n",
       "    </tr>\n",
       "    <tr>\n",
       "      <th>14</th>\n",
       "      <td>5.8</td>\n",
       "      <td>4.0</td>\n",
       "      <td>1.2</td>\n",
       "      <td>0.2</td>\n",
       "    </tr>\n",
       "    <tr>\n",
       "      <th>92</th>\n",
       "      <td>5.8</td>\n",
       "      <td>2.6</td>\n",
       "      <td>4.0</td>\n",
       "      <td>1.2</td>\n",
       "    </tr>\n",
       "    <tr>\n",
       "      <th>102</th>\n",
       "      <td>7.1</td>\n",
       "      <td>3.0</td>\n",
       "      <td>5.9</td>\n",
       "      <td>2.1</td>\n",
       "    </tr>\n",
       "  </tbody>\n",
       "</table>\n",
       "<p>120 rows × 4 columns</p>\n",
       "</div>"
      ],
      "text/plain": [
       "     sepal_length  sepal_width  petal_length  petal_width\n",
       "22            4.6          3.6           1.0          0.2\n",
       "15            5.7          4.4           1.5          0.4\n",
       "65            6.7          3.1           4.4          1.4\n",
       "11            4.8          3.4           1.6          0.2\n",
       "42            4.4          3.2           1.3          0.2\n",
       "..            ...          ...           ...          ...\n",
       "71            6.1          2.8           4.0          1.3\n",
       "106           4.9          2.5           4.5          1.7\n",
       "14            5.8          4.0           1.2          0.2\n",
       "92            5.8          2.6           4.0          1.2\n",
       "102           7.1          3.0           5.9          2.1\n",
       "\n",
       "[120 rows x 4 columns]"
      ]
     },
     "execution_count": 12,
     "metadata": {},
     "output_type": "execute_result"
    }
   ],
   "source": [
    "X_train"
   ]
  },
  {
   "cell_type": "code",
   "execution_count": 13,
   "id": "15fcf7b5",
   "metadata": {
    "execution": {
     "iopub.execute_input": "2025-02-12T07:16:46.041423Z",
     "iopub.status.busy": "2025-02-12T07:16:46.041021Z",
     "iopub.status.idle": "2025-02-12T07:16:46.047933Z",
     "shell.execute_reply": "2025-02-12T07:16:46.046971Z"
    },
    "papermill": {
     "duration": 0.015542,
     "end_time": "2025-02-12T07:16:46.049450",
     "exception": false,
     "start_time": "2025-02-12T07:16:46.033908",
     "status": "completed"
    },
    "tags": []
   },
   "outputs": [
    {
     "data": {
      "text/plain": [
       "22         setosa\n",
       "15         setosa\n",
       "65     versicolor\n",
       "11         setosa\n",
       "42         setosa\n",
       "          ...    \n",
       "71     versicolor\n",
       "106     virginica\n",
       "14         setosa\n",
       "92     versicolor\n",
       "102     virginica\n",
       "Name: species, Length: 120, dtype: object"
      ]
     },
     "execution_count": 13,
     "metadata": {},
     "output_type": "execute_result"
    }
   ],
   "source": [
    "y_train"
   ]
  },
  {
   "cell_type": "markdown",
   "id": "340bcdf7",
   "metadata": {
    "papermill": {
     "duration": 0.005997,
     "end_time": "2025-02-12T07:16:46.061963",
     "exception": false,
     "start_time": "2025-02-12T07:16:46.055966",
     "status": "completed"
    },
    "tags": []
   },
   "source": [
    "# *MODEL TRAINING & TESTING*"
   ]
  },
  {
   "cell_type": "code",
   "execution_count": 14,
   "id": "c1bd11bc",
   "metadata": {
    "execution": {
     "iopub.execute_input": "2025-02-12T07:16:46.075785Z",
     "iopub.status.busy": "2025-02-12T07:16:46.075410Z",
     "iopub.status.idle": "2025-02-12T07:16:46.164329Z",
     "shell.execute_reply": "2025-02-12T07:16:46.163323Z"
    },
    "papermill": {
     "duration": 0.097895,
     "end_time": "2025-02-12T07:16:46.166153",
     "exception": false,
     "start_time": "2025-02-12T07:16:46.068258",
     "status": "completed"
    },
    "tags": []
   },
   "outputs": [],
   "source": [
    "from sklearn import linear_model\n",
    "model = linear_model.LogisticRegression()"
   ]
  },
  {
   "cell_type": "code",
   "execution_count": 15,
   "id": "ae299ac5",
   "metadata": {
    "execution": {
     "iopub.execute_input": "2025-02-12T07:16:46.180354Z",
     "iopub.status.busy": "2025-02-12T07:16:46.179969Z",
     "iopub.status.idle": "2025-02-12T07:16:46.236567Z",
     "shell.execute_reply": "2025-02-12T07:16:46.235621Z"
    },
    "papermill": {
     "duration": 0.065412,
     "end_time": "2025-02-12T07:16:46.238147",
     "exception": false,
     "start_time": "2025-02-12T07:16:46.172735",
     "status": "completed"
    },
    "tags": []
   },
   "outputs": [
    {
     "data": {
      "text/html": [
       "<style>#sk-container-id-1 {color: black;background-color: white;}#sk-container-id-1 pre{padding: 0;}#sk-container-id-1 div.sk-toggleable {background-color: white;}#sk-container-id-1 label.sk-toggleable__label {cursor: pointer;display: block;width: 100%;margin-bottom: 0;padding: 0.3em;box-sizing: border-box;text-align: center;}#sk-container-id-1 label.sk-toggleable__label-arrow:before {content: \"▸\";float: left;margin-right: 0.25em;color: #696969;}#sk-container-id-1 label.sk-toggleable__label-arrow:hover:before {color: black;}#sk-container-id-1 div.sk-estimator:hover label.sk-toggleable__label-arrow:before {color: black;}#sk-container-id-1 div.sk-toggleable__content {max-height: 0;max-width: 0;overflow: hidden;text-align: left;background-color: #f0f8ff;}#sk-container-id-1 div.sk-toggleable__content pre {margin: 0.2em;color: black;border-radius: 0.25em;background-color: #f0f8ff;}#sk-container-id-1 input.sk-toggleable__control:checked~div.sk-toggleable__content {max-height: 200px;max-width: 100%;overflow: auto;}#sk-container-id-1 input.sk-toggleable__control:checked~label.sk-toggleable__label-arrow:before {content: \"▾\";}#sk-container-id-1 div.sk-estimator input.sk-toggleable__control:checked~label.sk-toggleable__label {background-color: #d4ebff;}#sk-container-id-1 div.sk-label input.sk-toggleable__control:checked~label.sk-toggleable__label {background-color: #d4ebff;}#sk-container-id-1 input.sk-hidden--visually {border: 0;clip: rect(1px 1px 1px 1px);clip: rect(1px, 1px, 1px, 1px);height: 1px;margin: -1px;overflow: hidden;padding: 0;position: absolute;width: 1px;}#sk-container-id-1 div.sk-estimator {font-family: monospace;background-color: #f0f8ff;border: 1px dotted black;border-radius: 0.25em;box-sizing: border-box;margin-bottom: 0.5em;}#sk-container-id-1 div.sk-estimator:hover {background-color: #d4ebff;}#sk-container-id-1 div.sk-parallel-item::after {content: \"\";width: 100%;border-bottom: 1px solid gray;flex-grow: 1;}#sk-container-id-1 div.sk-label:hover label.sk-toggleable__label {background-color: #d4ebff;}#sk-container-id-1 div.sk-serial::before {content: \"\";position: absolute;border-left: 1px solid gray;box-sizing: border-box;top: 0;bottom: 0;left: 50%;z-index: 0;}#sk-container-id-1 div.sk-serial {display: flex;flex-direction: column;align-items: center;background-color: white;padding-right: 0.2em;padding-left: 0.2em;position: relative;}#sk-container-id-1 div.sk-item {position: relative;z-index: 1;}#sk-container-id-1 div.sk-parallel {display: flex;align-items: stretch;justify-content: center;background-color: white;position: relative;}#sk-container-id-1 div.sk-item::before, #sk-container-id-1 div.sk-parallel-item::before {content: \"\";position: absolute;border-left: 1px solid gray;box-sizing: border-box;top: 0;bottom: 0;left: 50%;z-index: -1;}#sk-container-id-1 div.sk-parallel-item {display: flex;flex-direction: column;z-index: 1;position: relative;background-color: white;}#sk-container-id-1 div.sk-parallel-item:first-child::after {align-self: flex-end;width: 50%;}#sk-container-id-1 div.sk-parallel-item:last-child::after {align-self: flex-start;width: 50%;}#sk-container-id-1 div.sk-parallel-item:only-child::after {width: 0;}#sk-container-id-1 div.sk-dashed-wrapped {border: 1px dashed gray;margin: 0 0.4em 0.5em 0.4em;box-sizing: border-box;padding-bottom: 0.4em;background-color: white;}#sk-container-id-1 div.sk-label label {font-family: monospace;font-weight: bold;display: inline-block;line-height: 1.2em;}#sk-container-id-1 div.sk-label-container {text-align: center;}#sk-container-id-1 div.sk-container {/* jupyter's `normalize.less` sets `[hidden] { display: none; }` but bootstrap.min.css set `[hidden] { display: none !important; }` so we also need the `!important` here to be able to override the default hidden behavior on the sphinx rendered scikit-learn.org. See: https://github.com/scikit-learn/scikit-learn/issues/21755 */display: inline-block !important;position: relative;}#sk-container-id-1 div.sk-text-repr-fallback {display: none;}</style><div id=\"sk-container-id-1\" class=\"sk-top-container\"><div class=\"sk-text-repr-fallback\"><pre>LogisticRegression()</pre><b>In a Jupyter environment, please rerun this cell to show the HTML representation or trust the notebook. <br />On GitHub, the HTML representation is unable to render, please try loading this page with nbviewer.org.</b></div><div class=\"sk-container\" hidden><div class=\"sk-item\"><div class=\"sk-estimator sk-toggleable\"><input class=\"sk-toggleable__control sk-hidden--visually\" id=\"sk-estimator-id-1\" type=\"checkbox\" checked><label for=\"sk-estimator-id-1\" class=\"sk-toggleable__label sk-toggleable__label-arrow\">LogisticRegression</label><div class=\"sk-toggleable__content\"><pre>LogisticRegression()</pre></div></div></div></div></div>"
      ],
      "text/plain": [
       "LogisticRegression()"
      ]
     },
     "execution_count": 15,
     "metadata": {},
     "output_type": "execute_result"
    }
   ],
   "source": [
    "model.fit(X_train,y_train)"
   ]
  },
  {
   "cell_type": "code",
   "execution_count": 16,
   "id": "cd0e2a7d",
   "metadata": {
    "execution": {
     "iopub.execute_input": "2025-02-12T07:16:46.253082Z",
     "iopub.status.busy": "2025-02-12T07:16:46.252743Z",
     "iopub.status.idle": "2025-02-12T07:16:46.260830Z",
     "shell.execute_reply": "2025-02-12T07:16:46.259897Z"
    },
    "papermill": {
     "duration": 0.017481,
     "end_time": "2025-02-12T07:16:46.262486",
     "exception": false,
     "start_time": "2025-02-12T07:16:46.245005",
     "status": "completed"
    },
    "tags": []
   },
   "outputs": [
    {
     "data": {
      "text/plain": [
       "array(['versicolor', 'setosa', 'virginica', 'versicolor', 'versicolor',\n",
       "       'setosa', 'versicolor', 'virginica', 'versicolor', 'versicolor',\n",
       "       'virginica', 'setosa', 'setosa', 'setosa', 'setosa', 'versicolor',\n",
       "       'virginica', 'versicolor', 'versicolor', 'virginica', 'setosa',\n",
       "       'virginica', 'setosa', 'virginica', 'virginica', 'virginica',\n",
       "       'virginica', 'virginica', 'setosa', 'setosa'], dtype=object)"
      ]
     },
     "execution_count": 16,
     "metadata": {},
     "output_type": "execute_result"
    }
   ],
   "source": [
    "y_pred = model.predict(X_test)\n",
    "y_pred"
   ]
  },
  {
   "cell_type": "code",
   "execution_count": 17,
   "id": "37f66178",
   "metadata": {
    "execution": {
     "iopub.execute_input": "2025-02-12T07:16:46.277178Z",
     "iopub.status.busy": "2025-02-12T07:16:46.276859Z",
     "iopub.status.idle": "2025-02-12T07:16:46.282061Z",
     "shell.execute_reply": "2025-02-12T07:16:46.281151Z"
    },
    "papermill": {
     "duration": 0.014203,
     "end_time": "2025-02-12T07:16:46.283670",
     "exception": false,
     "start_time": "2025-02-12T07:16:46.269467",
     "status": "completed"
    },
    "tags": []
   },
   "outputs": [
    {
     "data": {
      "text/plain": [
       "array(['versicolor', 'setosa', 'virginica', 'versicolor', 'versicolor',\n",
       "       'setosa', 'versicolor', 'virginica', 'versicolor', 'versicolor',\n",
       "       'virginica', 'setosa', 'setosa', 'setosa', 'setosa', 'versicolor',\n",
       "       'virginica', 'versicolor', 'versicolor', 'virginica', 'setosa',\n",
       "       'virginica', 'setosa', 'virginica', 'virginica', 'virginica',\n",
       "       'virginica', 'virginica', 'setosa', 'setosa'], dtype=object)"
      ]
     },
     "execution_count": 17,
     "metadata": {},
     "output_type": "execute_result"
    }
   ],
   "source": [
    "y_test.values"
   ]
  },
  {
   "cell_type": "markdown",
   "id": "a701ac48",
   "metadata": {
    "papermill": {
     "duration": 0.006579,
     "end_time": "2025-02-12T07:16:46.297111",
     "exception": false,
     "start_time": "2025-02-12T07:16:46.290532",
     "status": "completed"
    },
    "tags": []
   },
   "source": [
    "# *MODEL ACCURACY*"
   ]
  },
  {
   "cell_type": "code",
   "execution_count": 18,
   "id": "10fc1ae1",
   "metadata": {
    "execution": {
     "iopub.execute_input": "2025-02-12T07:16:46.311788Z",
     "iopub.status.busy": "2025-02-12T07:16:46.311407Z",
     "iopub.status.idle": "2025-02-12T07:16:46.319362Z",
     "shell.execute_reply": "2025-02-12T07:16:46.318494Z"
    },
    "papermill": {
     "duration": 0.017097,
     "end_time": "2025-02-12T07:16:46.320910",
     "exception": false,
     "start_time": "2025-02-12T07:16:46.303813",
     "status": "completed"
    },
    "tags": []
   },
   "outputs": [
    {
     "data": {
      "text/plain": [
       "1.0"
      ]
     },
     "execution_count": 18,
     "metadata": {},
     "output_type": "execute_result"
    }
   ],
   "source": [
    "model.score(X_test,y_test)"
   ]
  },
  {
   "cell_type": "markdown",
   "id": "f4d87e90",
   "metadata": {
    "papermill": {
     "duration": 0.006501,
     "end_time": "2025-02-12T07:16:46.334484",
     "exception": false,
     "start_time": "2025-02-12T07:16:46.327983",
     "status": "completed"
    },
    "tags": []
   },
   "source": [
    "# *CONFUSION MATRIX AND ANALYSIS*"
   ]
  },
  {
   "cell_type": "code",
   "execution_count": 19,
   "id": "c1b83509",
   "metadata": {
    "execution": {
     "iopub.execute_input": "2025-02-12T07:16:46.349246Z",
     "iopub.status.busy": "2025-02-12T07:16:46.348885Z",
     "iopub.status.idle": "2025-02-12T07:16:46.352935Z",
     "shell.execute_reply": "2025-02-12T07:16:46.351932Z"
    },
    "papermill": {
     "duration": 0.013309,
     "end_time": "2025-02-12T07:16:46.354537",
     "exception": false,
     "start_time": "2025-02-12T07:16:46.341228",
     "status": "completed"
    },
    "tags": []
   },
   "outputs": [],
   "source": [
    "from sklearn.metrics import confusion_matrix"
   ]
  },
  {
   "cell_type": "code",
   "execution_count": 20,
   "id": "27f12abc",
   "metadata": {
    "execution": {
     "iopub.execute_input": "2025-02-12T07:16:46.369846Z",
     "iopub.status.busy": "2025-02-12T07:16:46.369485Z",
     "iopub.status.idle": "2025-02-12T07:16:46.375013Z",
     "shell.execute_reply": "2025-02-12T07:16:46.374114Z"
    },
    "papermill": {
     "duration": 0.014842,
     "end_time": "2025-02-12T07:16:46.376624",
     "exception": false,
     "start_time": "2025-02-12T07:16:46.361782",
     "status": "completed"
    },
    "tags": []
   },
   "outputs": [],
   "source": [
    "cm = confusion_matrix(y_test,y_pred)"
   ]
  },
  {
   "cell_type": "code",
   "execution_count": 21,
   "id": "43d11622",
   "metadata": {
    "execution": {
     "iopub.execute_input": "2025-02-12T07:16:46.392100Z",
     "iopub.status.busy": "2025-02-12T07:16:46.391777Z",
     "iopub.status.idle": "2025-02-12T07:16:46.858077Z",
     "shell.execute_reply": "2025-02-12T07:16:46.857162Z"
    },
    "papermill": {
     "duration": 0.475957,
     "end_time": "2025-02-12T07:16:46.859980",
     "exception": false,
     "start_time": "2025-02-12T07:16:46.384023",
     "status": "completed"
    },
    "tags": []
   },
   "outputs": [],
   "source": [
    "import seaborn as sns\n",
    "import matplotlib.pyplot as plt"
   ]
  },
  {
   "cell_type": "code",
   "execution_count": 22,
   "id": "9a67ca55",
   "metadata": {
    "execution": {
     "iopub.execute_input": "2025-02-12T07:16:46.875643Z",
     "iopub.status.busy": "2025-02-12T07:16:46.875086Z",
     "iopub.status.idle": "2025-02-12T07:16:47.164368Z",
     "shell.execute_reply": "2025-02-12T07:16:47.163450Z"
    },
    "papermill": {
     "duration": 0.298748,
     "end_time": "2025-02-12T07:16:47.165991",
     "exception": false,
     "start_time": "2025-02-12T07:16:46.867243",
     "status": "completed"
    },
    "tags": []
   },
   "outputs": [
    {
     "data": {
      "text/plain": [
       "Text(0.5, 23.52222222222222, 'predicted')"
      ]
     },
     "execution_count": 22,
     "metadata": {},
     "output_type": "execute_result"
    },
    {
     "data": {
      "image/png": "[encoded data removed]",
      "text/plain": [
       "<Figure size 640x480 with 2 Axes>"
      ]
     },
     "metadata": {},
     "output_type": "display_data"
    }
   ],
   "source": [
    "%matplotlib inline\n",
    "sns.heatmap(cm,annot=True,linewidths=2,cmap='coolwarm')\n",
    "plt.ylabel('truth')\n",
    "plt.xlabel('predicted')"
   ]
  }
 ],
 "metadata": {
  "kaggle": {
   "accelerator": "none",
   "dataSources": [
    {
     "datasetId": 2354152,
     "sourceId": 3966491,
     "sourceType": "datasetVersion"
    }
   ],
   "dockerImageVersionId": 30886,
   "isGpuEnabled": false,
   "isInternetEnabled": true,
   "language": "python",
   "sourceType": "notebook"
  },
  "kernelspec": {
   "display_name": "Python 3",
   "language": "python",
   "name": "python3"
  },
  "language_info": {
   "codemirror_mode": {
    "name": "ipython",
    "version": 3
   },
   "file_extension": ".py",
   "mimetype": "text/x-python",
   "name": "python",
   "nbconvert_exporter": "python",
   "pygments_lexer": "ipython3",
   "version": "3.10.12"
  },
  "papermill": {
   "default_parameters": {},
   "duration": 7.057952,
   "end_time": "2025-02-12T07:16:47.892652",
   "environment_variables": {},
   "exception": null,
   "input_path": "__notebook__.ipynb",
   "output_path": "__notebook__.ipynb",
   "parameters": {},
   "start_time": "2025-02-12T07:16:40.834700",
   "version": "2.6.0"
  }
 },
 "nbformat": 4,
 "nbformat_minor": 5
}
